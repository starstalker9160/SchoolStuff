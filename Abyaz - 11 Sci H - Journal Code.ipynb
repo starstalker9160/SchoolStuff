{
 "cells": [
  {
   "cell_type": "markdown",
   "metadata": {},
   "source": [
    "# Abyaz - Journal Code"
   ]
  },
  {
   "cell_type": "markdown",
   "metadata": {},
   "source": [
    "## Summer Assignment Work"
   ]
  },
  {
   "cell_type": "code",
   "execution_count": null,
   "metadata": {},
   "outputs": [
    {
     "name": "stdout",
     "output_type": "stream",
     "text": [
      "Hello Abyaz!\n"
     ]
    }
   ],
   "source": [
    "name = input(\"Enter your name: \")\n",
    "print(f\"Hello {name.capitalize()}!\")"
   ]
  },
  {
   "cell_type": "code",
   "execution_count": null,
   "metadata": {},
   "outputs": [
    {
     "name": "stdout",
     "output_type": "stream",
     "text": [
      "Largest number: 6.0\n",
      "Smallest number: 5.0\n"
     ]
    }
   ],
   "source": [
    "a = set(eval(input(\"Enter two reebers seperated by a comma: \")))\n",
    "largest, smallest = float(max(a)), float(min(a))\n",
    "if largest != smallest:\n",
    "    print(f\"Largest number: {largest}\\nSmallest number: {smallest}\")\n",
    "else:\n",
    "    print(f\"They are equal\")"
   ]
  },
  {
   "cell_type": "code",
   "execution_count": null,
   "metadata": {},
   "outputs": [
    {
     "name": "stdout",
     "output_type": "stream",
     "text": [
      "Final answer: 61\n"
     ]
    }
   ],
   "source": [
    "x = int(input(\"Enter the value of x: \"))\n",
    "n = int(input(\"Enter the value of n: \"))\n",
    "ans = 1\n",
    "for i in range(2, n+1):\n",
    "    ans += x**i\n",
    "print(f\"Final answer: {ans}\")"
   ]
  },
  {
   "cell_type": "code",
   "execution_count": null,
   "metadata": {},
   "outputs": [
    {
     "name": "stdout",
     "output_type": "stream",
     "text": [
      "Final answer: 6.0\n"
     ]
    }
   ],
   "source": [
    "def fac(n):\n",
    "    a = 1\n",
    "    for i in range(n, 1, -1):\n",
    "        a * i\n",
    "    return a\n",
    "\n",
    "x = int(input(\"Enter the value of x: \"))\n",
    "n = int(input(\"Enter the value of n: \"))\n",
    "ans = 0\n",
    "for i in range(1, n+1):\n",
    "    if i % 2 == 0:\n",
    "        ans -= (x**i)/fac(i)\n",
    "    else:\n",
    "        ans += (x**i)/fac(i)\n",
    "         \n",
    "print(f\"Final answer: {ans}\")"
   ]
  },
  {
   "cell_type": "code",
   "execution_count": null,
   "metadata": {},
   "outputs": [
    {
     "name": "stdout",
     "output_type": "stream",
     "text": [
      "\t#--------rEeee--------#\n",
      "\t|Check if number is:  |\n",
      "\t|  1. Perfect         |\n",
      "\t|  2. Armstrong       |\n",
      "\t|  3. Palindrome      |\n",
      "\t#---------------------#\n",
      "\t12321 is a palindrome\n"
     ]
    }
   ],
   "source": [
    "while True:\n",
    "    print(\"\\t#--------rEeee--------#\")\n",
    "    print(\"\\t|Check if number is:  |\")\n",
    "    print(\"\\t|  1. Perfect         |\")\n",
    "    print(\"\\t|  2. Armstrong       |\")\n",
    "    print(\"\\t|  3. Palindrome      |\")\n",
    "    print(\"\\t#---------------------#\")\n",
    "    ree = int(input(\"\\t>>> \"))\n",
    "    if ree == 1:\n",
    "        n = int(input(\"\\n\\tEnter number: \"))\n",
    "        l = 1\n",
    "        for i in range(2,n):\n",
    "            if n%i == 0:\n",
    "                l+=i\n",
    "        if l == n:\n",
    "            print(f\"\\t{n} is perfect\")\n",
    "        else:\n",
    "            print(f\"\\t{n} is not perfect\")\n",
    "        break\n",
    "    elif ree == 2:\n",
    "        n = input(\"\\n\\tEnter number: \")\n",
    "        pow_ = len(n)\n",
    "        l = 0\n",
    "        for i in n:\n",
    "            l += int(i)**pow_\n",
    "        if l == int(n):\n",
    "            print(f\"\\t{n} is an armstrong number\")\n",
    "        else:\n",
    "            print(f\"\\t{n} is not an armstrong number\")\n",
    "        break\n",
    "    elif ree == 3:\n",
    "        n = input(\"\\n\\tEnter number: \")\n",
    "        if len(n) == 1:\n",
    "            print(f\"\\t{n} is a palindrome\")\n",
    "            break\n",
    "        t = int(n)\n",
    "        l = 0\n",
    "        n = int(n)\n",
    "        for i in range(len(str(n)), 0, -1):\n",
    "            a = n%10\n",
    "            n //= 10\n",
    "            l *= 10\n",
    "            l += a\n",
    "        if l == t:\n",
    "            print(f\"\\t{t} is a palindrome\")\n",
    "        else:\n",
    "            print(f\"\\t{t} is not a palindrome\")\n",
    "        break\n",
    "    else:\n",
    "        print(\"INVALID INPUT\\nPlease try again.\")\n",
    "        print(\"\\n\\n___________________________\\n\\n\")"
   ]
  },
  {
   "cell_type": "code",
   "execution_count": null,
   "metadata": {},
   "outputs": [
    {
     "name": "stdout",
     "output_type": "stream",
     "text": [
      "4 is not prime\n"
     ]
    }
   ],
   "source": [
    "import math\n",
    "n = int(input(\"Enter number: \"))\n",
    "isPrime = True\n",
    "if n == 1:\n",
    "    print(\"1 is neither prime nor composite\")\n",
    "elif n == 2:\n",
    "    print(\"2 is prime\")\n",
    "else:\n",
    "    for i in range(2, math.ceil(math.sqrt(n))+1):\n",
    "        if n % i == 0:\n",
    "            isPrime = False\n",
    "            break\n",
    "    print(f\"{n} is prime\") if isPrime else print(f\"{n} is not prime\")"
   ]
  },
  {
   "cell_type": "code",
   "execution_count": null,
   "metadata": {},
   "outputs": [
    {
     "name": "stdout",
     "output_type": "stream",
     "text": [
      "0 1 1 2 3 "
     ]
    }
   ],
   "source": [
    "n = int(input(\"Enter the Enter the number of rows: \"))\n",
    "a, b = 0, 1\n",
    "for i in range(n):\n",
    "    print(a, end = \" \")\n",
    "    a, b = b, a + b"
   ]
  },
  {
   "cell_type": "code",
   "execution_count": null,
   "metadata": {},
   "outputs": [
    {
     "name": "stdout",
     "output_type": "stream",
     "text": [
      "\tPATTERN 1\n",
      "*\n",
      "**\n",
      "***\n",
      "****\n",
      "*****\n",
      "\tPATTERN 2\n",
      "1 2 3 4 5 \n",
      "1 2 3 4 \n",
      "1 2 3 \n",
      "1 2 \n",
      "1 \n",
      "\tPATTERN 3\n",
      "A B C D E \n",
      "A B C D \n",
      "A B C \n",
      "A B \n",
      "A \n"
     ]
    }
   ],
   "source": [
    "print(\"\\tPATTERN 1\")\n",
    "n = int(input(\"Enter the number of rows:\"))\n",
    "for i in range(1, n+1):\n",
    "    print(\"*\"*i)\n",
    "\n",
    "print(\"\\tPATTERN 2\")\n",
    "n = int(input(\"Enter the number of rows:\"))\n",
    "for i in range(n, 0, -1):\n",
    "    for j in range(1, n+1):\n",
    "        print(j, end = \" \")\n",
    "    print()\n",
    "    n -= 1 \n",
    "\n",
    "print(\"\\tPATTERN 3\")\n",
    "n = int(input(\"Enter the number of rows:\"))\n",
    "for i in range(1, n+1):\n",
    "    r = 65 + n\n",
    "    for j in range(65, r):\n",
    "        print(chr(j), end = \" \")\n",
    "    print()\n",
    "    n -= 1"
   ]
  },
  {
   "cell_type": "code",
   "execution_count": null,
   "metadata": {},
   "outputs": [
    {
     "name": "stdout",
     "output_type": "stream",
     "text": [
      "; is a special digit\n"
     ]
    }
   ],
   "source": [
    "n = input(\"Enter character: \")\n",
    "c = n[0]\n",
    "if ord(c) in range(48, 58):\n",
    "    print(f\"{c} is a digit\")\n",
    "elif ord(c) in range(65, 91):\n",
    "    print(f\"{c} is a uppercase character\")\n",
    "elif ord(c) in range(97, 123):\n",
    "    print(f\"{c} is a lowercase character\")\n",
    "else:\n",
    "    print(f\"{c} is a special digit\")"
   ]
  },
  {
   "cell_type": "code",
   "execution_count": null,
   "metadata": {},
   "outputs": [
    {
     "name": "stdout",
     "output_type": "stream",
     "text": [
      "Grade is B\n"
     ]
    }
   ],
   "source": [
    "g = float(input(\"Enter marks out of 100: \"))\n",
    "o = \"F\"\n",
    "if g >= 90:\n",
    "    o = \"A\"\n",
    "elif g >= 80:\n",
    "    o = \"B\"\n",
    "elif g >= 70:\n",
    "    o = \"C\"\n",
    "elif g >= 60:\n",
    "    o = \"D\"\n",
    "elif g >= 50:\n",
    "    o = \"E\"\n",
    "print(f\"Grade is {o}\")"
   ]
  },
  {
   "cell_type": "code",
   "execution_count": null,
   "metadata": {},
   "outputs": [
    {
     "name": "stdout",
     "output_type": "stream",
     "text": [
      "10 * 1 = 10\n",
      "10 * 2 = 20\n",
      "10 * 3 = 30\n",
      "10 * 4 = 40\n",
      "10 * 5 = 50\n",
      "10 * 6 = 60\n",
      "10 * 7 = 70\n",
      "10 * 8 = 80\n",
      "10 * 9 = 90\n",
      "10 * 10 = 100\n"
     ]
    }
   ],
   "source": [
    "n = int(input(\"Enter the number of rows: \"))\n",
    "for i in range(1, n+1):\n",
    "    print(f\"10 * {i} = {10*i}\")"
   ]
  },
  {
   "cell_type": "code",
   "execution_count": null,
   "metadata": {},
   "outputs": [
    {
     "name": "stdout",
     "output_type": "stream",
     "text": [
      "The date is valid.\n"
     ]
    }
   ],
   "source": [
    "year = int(input(\"Enter year: \"))\n",
    "month = int(input(\"Enter month: \"))\n",
    "day = int(input(\"Enter day: \"))\n",
    "\n",
    "leap_year = (year % 4 == 0 and year % 100 != 0) or (year % 400 == 0)\n",
    "\n",
    "if month == 2:\n",
    "    max_days = 29 if leap_year else 28\n",
    "elif month == 4 or month == 6 or month == 9 or month == 11:\n",
    "    max_days = 30\n",
    "else:\n",
    "    max_days = 31\n",
    "\n",
    "if day <= max_days:\n",
    "    print(\"The date is valid.\")\n",
    "else:\n",
    "    print(\"The date is invalid.\")"
   ]
  },
  {
   "cell_type": "code",
   "execution_count": null,
   "metadata": {},
   "outputs": [
    {
     "name": "stdout",
     "output_type": "stream",
     "text": [
      "\t#--------rEeee--------#\n",
      "\t|Find :               |\n",
      "\t|  1. Factorial       |\n",
      "\t|  2. Sum of digits   |\n",
      "\t|  3. Quit            |\n",
      "\t#---------------------#\n",
      "\tSum of all digits is: 6\n"
     ]
    }
   ],
   "source": [
    "while True:\n",
    "    print(\"\\t#--------rEeee--------#\")\n",
    "    print(\"\\t|Find :               |\")\n",
    "    print(\"\\t|  1. Factorial       |\")\n",
    "    print(\"\\t|  2. Sum of digits   |\")\n",
    "    print(\"\\t|  3. Quit            |\")\n",
    "    print(\"\\t#---------------------#\")\n",
    "    ree = int(input(\"\\t>>> \"))\n",
    "    if ree == 1:\n",
    "        n = int(input(\"\\n\\tEnter number: \"))\n",
    "        ans = 1\n",
    "        for i in range(n, 1, -1):\n",
    "            ans *= i\n",
    "        print(f\"\\t{n}! = {ans}\")\n",
    "        break\n",
    "    elif ree == 2:\n",
    "        n = input(\"\\n\\tEnter number: \")\n",
    "        ans = 0\n",
    "        for i in n:\n",
    "            ans += int(i)\n",
    "        print(f\"\\tSum of all digits is: {ans}\")\n",
    "        break\n",
    "    elif ree == 3:\n",
    "        print(\"Quitting\")\n",
    "        break\n",
    "    else:\n",
    "        print(\"\\tINVALID INPUT\\t\\nPlease try again.\")\n",
    "        print(\"\\t\\n\\n___________________________\\n\\n\")"
   ]
  },
  {
   "cell_type": "code",
   "execution_count": null,
   "metadata": {},
   "outputs": [
    {
     "name": "stdout",
     "output_type": "stream",
     "text": [
      "Sum of even numbers until 10 = 30\n",
      "Average of even numbers until 10 = 6.0\n",
      "\n",
      "Sum of odd numbers until 10 = 25\n",
      "Average of odd numbers until 10 = 5.0\n",
      "\n",
      "Sum of prime numbers until 10 = 17\n",
      "Average of prime numbers until 10 = 4.25\n",
      "\n"
     ]
    }
   ],
   "source": [
    "n = int(input(\"Enter number: \"))\n",
    "\n",
    "SO, SE, SP, CO, CE, CP = 0, 0, 0, 0, 0, 0\n",
    "\n",
    "for num in range(1, n + 1):\n",
    "    if num % 2 == 0:\n",
    "        SE += num\n",
    "        CE += 1\n",
    "    else:\n",
    "        SO += num\n",
    "        CO += 1\n",
    "    \n",
    "    if num > 1:\n",
    "        is_prime = True\n",
    "        for i in range(2, int(num**0.5) + 1):\n",
    "            if num % i == 0:\n",
    "                is_prime = False\n",
    "                break\n",
    "        if is_prime:\n",
    "            SP += num\n",
    "            CP += 1\n",
    "\n",
    "AO = SO / CO if CO > 0 else 0\n",
    "AE = SE / CE if CE > 0 else 0\n",
    "AP = SP / CP if CP > 0 else 0\n",
    "\n",
    "print(f\"Sum of even numbers until {n} = {SE}\\nAverage of even numbers until {n} = {AE}\\n\")\n",
    "print(f\"Sum of odd numbers until {n} = {SO}\\nAverage of odd numbers until {n} = {AO}\\n\")\n",
    "print(f\"Sum of prime numbers until {n} = {SP}\\nAverage of prime numbers until {n} = {AP}\\n\")"
   ]
  },
  {
   "cell_type": "code",
   "execution_count": null,
   "metadata": {},
   "outputs": [
    {
     "name": "stdout",
     "output_type": "stream",
     "text": [
      "Sum of prime numbers between 0 and 10 is 17\n"
     ]
    }
   ],
   "source": [
    "a = int(input(\"Start of range: \"))\n",
    "b = int(input(\"End of range: \"))\n",
    "a, b = (a, b) if a > b else (b, a)\n",
    "ans = 0\n",
    "for num in range(b, a + 1):\n",
    "    if num > 1:\n",
    "        is_prime = True\n",
    "        for i in range(2, int(num**0.5) + 1):\n",
    "            if num % i == 0:\n",
    "                is_prime = False\n",
    "                break\n",
    "        if is_prime:\n",
    "            ans += num\n",
    "print(f\"Sum of prime numbers between {b} and {a} is {ans}\")"
   ]
  },
  {
   "cell_type": "code",
   "execution_count": null,
   "metadata": {},
   "outputs": [
    {
     "name": "stdout",
     "output_type": "stream",
     "text": [
      "The roots are real and different:\n",
      "Root 1 = 1.0\n",
      "Root 2 = -1.0\n"
     ]
    }
   ],
   "source": [
    "import math\n",
    "\n",
    "a = float(input(\"Enter coefficient a: \"))\n",
    "b = float(input(\"Enter coefficient b: \"))\n",
    "c = float(input(\"Enter coefficient c: \"))\n",
    "\n",
    "D = b**2 - 4*a*c\n",
    "\n",
    "if D >= 0:\n",
    "    rootA = (-b + math.sqrt(D)) / (2*a)\n",
    "    rootB = (-b - math.sqrt(D)) / (2*a)\n",
    "\n",
    "    if D > 0:\n",
    "        print(f\"The roots are real and different:\\nRoot 1 = {rootA}\\nRoot 2 = {rootB}\")\n",
    "    else:\n",
    "        print(f\"The roots are real and the same:\\nRoot = {rootA}\")\n",
    "else:\n",
    "    print(\"No real roots\")"
   ]
  },
  {
   "cell_type": "markdown",
   "metadata": {},
   "source": [
    "## String Manipulation - Part 1"
   ]
  },
  {
   "cell_type": "code",
   "execution_count": 1,
   "metadata": {},
   "outputs": [
    {
     "name": "stdout",
     "output_type": "stream",
     "text": [
      "number of times 'a' appears is 1\n"
     ]
    }
   ],
   "source": [
    "s = input(\">>> \")\n",
    "a = 0\n",
    "for i in s:\n",
    "    if i == 'a':\n",
    "        a += 1\n",
    "print(f\"number of times 'a' appears is {a}\")"
   ]
  },
  {
   "cell_type": "code",
   "execution_count": 13,
   "metadata": {},
   "outputs": [
    {
     "name": "stdout",
     "output_type": "stream",
     "text": [
      "a\n",
      "bb\n",
      "ccc\n",
      "\n",
      "a\n",
      "ab\n",
      "abc\n",
      "\n",
      "abc\n",
      "ab\n",
      "a\n",
      "\n",
      "cba\n",
      "cb\n",
      "c\n",
      "\n",
      "a\n",
      "abab\n",
      "abcabcabc\n"
     ]
    }
   ],
   "source": [
    "s = input(\">>> \")\n",
    "\n",
    "# pattern 1\n",
    "for i in range(len(s)):\n",
    "    print(s[i] * (i+1))\n",
    "\n",
    "print()\n",
    "\n",
    "# pattern 2\n",
    "for i in range(len(s)):\n",
    "    print(s[:i+1])\n",
    "\n",
    "print()\n",
    "\n",
    "# pattern 3\n",
    "for i in range(len(s), 0, -1):\n",
    "    print(s[:i])\n",
    "\n",
    "print()\n",
    "\n",
    "# pattern 4\n",
    "for i in range(len(s), 0, -1):\n",
    "    print(s[::-1][:i])\n",
    "\n",
    "print()\n",
    "\n",
    "# pattern 5\n",
    "for i in range(1, len(s) + 1):\n",
    "    print(s[:i] * i)"
   ]
  },
  {
   "cell_type": "code",
   "execution_count": 1,
   "metadata": {},
   "outputs": [
    {
     "name": "stdout",
     "output_type": "stream",
     "text": [
      "number of words in sentence: 6\n"
     ]
    }
   ],
   "source": [
    "w = input(\">>> \").split()\n",
    "print(f\"number of words in sentence: {len(w)}\")"
   ]
  },
  {
   "cell_type": "code",
   "execution_count": 2,
   "metadata": {},
   "outputs": [
    {
     "name": "stdout",
     "output_type": "stream",
     "text": [
      "number of vowels in given input is 11\n"
     ]
    }
   ],
   "source": [
    "s = input(\">>> \")\n",
    "v = 0\n",
    "for i in s:\n",
    "    if i in \"AEIOUaeiou\":\n",
    "        v += 1\n",
    "print(f\"number of vowels in given input is {v}\")"
   ]
  },
  {
   "cell_type": "code",
   "execution_count": 3,
   "metadata": {},
   "outputs": [
    {
     "name": "stdout",
     "output_type": "stream",
     "text": [
      "'mom' is a palindrome\n"
     ]
    }
   ],
   "source": [
    "s = input(\">>> \")\n",
    "if s == s[::-1]:\n",
    "    print(f\"'{s}' is a palindrome\")\n",
    "else:\n",
    "    print(f\"'{s}' is not a palindrome\")"
   ]
  },
  {
   "cell_type": "code",
   "execution_count": 4,
   "metadata": {},
   "outputs": [
    {
     "name": "stdout",
     "output_type": "stream",
     "text": [
      "yes, word is in sentence\n"
     ]
    }
   ],
   "source": [
    "w = input(\"Enter word: \")\n",
    "s = input(\"Enter sentence: \")\n",
    "if w in s:\n",
    "    print(f\"yes, word is in sentence\")\n",
    "else:\n",
    "    print(f\"no, word is not in sentence\")"
   ]
  },
  {
   "cell_type": "code",
   "execution_count": 17,
   "metadata": {},
   "outputs": [
    {
     "name": "stdout",
     "output_type": "stream",
     "text": [
      "The largest string is: asdfasdf\n"
     ]
    }
   ],
   "source": [
    "n = int(input(\"Enter n: \"))\n",
    "l = \"\"\n",
    "\n",
    "for i in range(n):\n",
    "    c = input(f\"{i+1}. \")\n",
    "    if len(c) > len(l):\n",
    "        l = c\n",
    "\n",
    "print(f\"The largest string is: {l}\")"
   ]
  },
  {
   "cell_type": "code",
   "execution_count": 18,
   "metadata": {},
   "outputs": [
    {
     "name": "stdout",
     "output_type": "stream",
     "text": [
      "The shortest string is: j\n"
     ]
    }
   ],
   "source": [
    "n = int(input(\"Enter the number of strings: \"))\n",
    "s = None\n",
    "\n",
    "for i in range(n):\n",
    "    c = input(f\"{i+1}. \")\n",
    "    if s is None or len(c) < len(s):\n",
    "        s = c\n",
    "\n",
    "print(f\"The shortest string is: {s}\")"
   ]
  },
  {
   "cell_type": "markdown",
   "metadata": {},
   "source": [
    "## String Manipulation - Part 2"
   ]
  },
  {
   "cell_type": "code",
   "execution_count": 1,
   "metadata": {},
   "outputs": [
    {
     "name": "stdout",
     "output_type": "stream",
     "text": [
      "alphabets - 24\n",
      "digits - 4\n",
      "special characters - 7\n"
     ]
    }
   ],
   "source": [
    "s = input(\">>> \")\n",
    "a, d, ob = 0, 0, 0\n",
    "for i in s:\n",
    "    if i in \"0123456789\":\n",
    "        d += 1\n",
    "    elif i in \"abcdefghijklmnopqrstuvwxyzABCDEFGHIJKLMNOPQRSTUVWXYZ\":\n",
    "        a += 1\n",
    "    else:\n",
    "        ob += 1\n",
    "\n",
    "print(f\"alphabets - {a}\\ndigits - {d}\\nspecial characters - {ob}\")"
   ]
  },
  {
   "cell_type": "code",
   "execution_count": 1,
   "metadata": {},
   "outputs": [
    {
     "name": "stdout",
     "output_type": "stream",
     "text": [
      "output string: tHIs shOULd wORK INt hEORY\n"
     ]
    }
   ],
   "source": [
    "s = input(\">>> \")\n",
    "o = \"\"\n",
    "for i in s:\n",
    "    if \"a\" <= i <= \"z\":\n",
    "        o += chr(ord(i) - 32)\n",
    "    elif \"A\" <= i <= \"Z\":\n",
    "        o += chr(ord(i) + 32)\n",
    "    else:\n",
    "         o += i\n",
    "print(f\"output string: {o}\")"
   ]
  },
  {
   "cell_type": "code",
   "execution_count": 5,
   "metadata": {},
   "outputs": [
    {
     "name": "stdout",
     "output_type": "stream",
     "text": [
      "output string: This Is Atest\n"
     ]
    }
   ],
   "source": [
    "s = input(\">>> \")\n",
    "o = chr(ord(s[0]) - 32)\n",
    "\n",
    "for i in range(1, len(s)):\n",
    "    if s[i] != \" \" and s[i-1] == \" \":\n",
    "        o += chr(ord(s[i]) - 32)\n",
    "    else:\n",
    "        o += s[i]\n",
    "\n",
    "print(f\"output string: {o}\")"
   ]
  },
  {
   "cell_type": "code",
   "execution_count": 5,
   "metadata": {},
   "outputs": [
    {
     "name": "stdout",
     "output_type": "stream",
     "text": [
      "Extracted digits : 5 + 6 + 7 + 8\n",
      "Sum : 26\n"
     ]
    }
   ],
   "source": [
    "s = input(\">>> \")\n",
    "d = \"\"\n",
    "s_ = 0\n",
    "for i in s:\n",
    "    if i in \"0123456789\":\n",
    "        d += f\"{i} + \"\n",
    "        s_ += int(i)\n",
    "print(f\"Extracted digits : {d[:-3]}\\nSum : {s_}\")"
   ]
  },
  {
   "cell_type": "code",
   "execution_count": 6,
   "metadata": {},
   "outputs": [
    {
     "name": "stdout",
     "output_type": "stream",
     "text": [
      "hello\n",
      "my\n",
      "name\n",
      "is\n",
      "star.stalker9160\n"
     ]
    }
   ],
   "source": [
    "s = input(\">>> \")\n",
    "for i in s.split():\n",
    "    print(i)"
   ]
  },
  {
   "cell_type": "code",
   "execution_count": 9,
   "metadata": {},
   "outputs": [
    {
     "name": "stdout",
     "output_type": "stream",
     "text": [
      "number of times 'brother' appears is 3\n"
     ]
    }
   ],
   "source": [
    "t = input(\"Enter text: \")\n",
    "w = input(\"Enter word: \")\n",
    "c = 0\n",
    "\n",
    "for i in t.split():\n",
    "    if i == w:\n",
    "        c += 1\n",
    "\n",
    "print(f\"number of times '{w}' appears is {c}\")"
   ]
  },
  {
   "cell_type": "code",
   "execution_count": 5,
   "metadata": {},
   "outputs": [
    {
     "name": "stdout",
     "output_type": "stream",
     "text": [
      "hello my name is abyaz\n"
     ]
    }
   ],
   "source": [
    "s = input(\">>> \").split()\n",
    "o = input(\"Pick word to replace: \")\n",
    "n = input(f\"Pick word to replace '{o}' with: \")\n",
    "\n",
    "o_ = \"\"\n",
    "for i in s:\n",
    "    if i == o:\n",
    "        o_ += f\"{n} \"\n",
    "    else:\n",
    "        o_ += f\"{i} \"\n",
    "\n",
    "print(o_[:-1])"
   ]
  },
  {
   "cell_type": "code",
   "execution_count": 7,
   "metadata": {},
   "outputs": [
    {
     "name": "stdout",
     "output_type": "stream",
     "text": [
      "hello my name is abyaz\n"
     ]
    }
   ],
   "source": [
    "s = input(\">>> \").split()\n",
    "w = input(\"Pick word to replace: \")\n",
    "\n",
    "o_ = \"\"\n",
    "for i in s:\n",
    "    if i == w:\n",
    "        o_ += f\"{w[::-1]} \"\n",
    "    else:\n",
    "        o_ += f\"{i} \"\n",
    "\n",
    "print(o_[:-1])"
   ]
  },
  {
   "cell_type": "markdown",
   "metadata": {},
   "source": [
    "## Lists - Part 1"
   ]
  },
  {
   "cell_type": "code",
   "execution_count": 1,
   "metadata": {},
   "outputs": [
    {
     "name": "stdout",
     "output_type": "stream",
     "text": [
      "Sum of even: 6\n",
      "Sum of odd : 9\n"
     ]
    }
   ],
   "source": [
    "l = list(eval(input(\">>> \")))\n",
    "so, se = 0, 0\n",
    "for i in l:\n",
    "    if i % 2 == 0:\n",
    "        se += i\n",
    "    else:\n",
    "        so += i\n",
    "print(f\"Sum of even: {se}\\nSum of odd : {so}\")"
   ]
  },
  {
   "cell_type": "code",
   "execution_count": 2,
   "metadata": {},
   "outputs": [
    {
     "name": "stdout",
     "output_type": "stream",
     "text": [
      "element '3' found in list\n"
     ]
    }
   ],
   "source": [
    "l = list(eval(input(\">>> \")))\n",
    "c = input(\"Enter search term: \")\n",
    "for j in l:\n",
    "    if c == str(j):\n",
    "        print(f\"element '{c}' found in list\")\n",
    "        break\n",
    "else:\n",
    "    print(f\"element '{c}' not found in list\")"
   ]
  },
  {
   "cell_type": "code",
   "execution_count": 6,
   "metadata": {},
   "outputs": [
    {
     "name": "stdout",
     "output_type": "stream",
     "text": [
      "[6, 5, 4, 3, 2, 1]\n"
     ]
    }
   ],
   "source": [
    "l = list(eval(input(\">>> \")))\n",
    "\n",
    "left = 0\n",
    "right = len(l) - 1\n",
    "\n",
    "while left < right:\n",
    "    l[left], l[right] = l[right], l[left]\n",
    "    left += 1\n",
    "    right -= 1\n",
    "\n",
    "print(l)"
   ]
  },
  {
   "cell_type": "code",
   "execution_count": 9,
   "metadata": {},
   "outputs": [
    {
     "name": "stdout",
     "output_type": "stream",
     "text": [
      "list has odd number of elements\n",
      "[2, 1, 4, 3, 6, 5]\n"
     ]
    }
   ],
   "source": [
    "l = list(eval(input(\">>> \")))\n",
    "if len(l) % 2 != 0:\n",
    "    print(\"list has odd number of elements\")\n",
    "    l.append(eval(input(\"Please enter one more element: \")))\n",
    "\n",
    "for i in range(0, len(l) - 1, 2):\n",
    "    l[i], l[i + 1] = l[i + 1], l[i]\n",
    "\n",
    "print(l)"
   ]
  },
  {
   "cell_type": "code",
   "execution_count": 2,
   "metadata": {},
   "outputs": [
    {
     "name": "stdout",
     "output_type": "stream",
     "text": [
      "List after swapping halves: [4, 5, 3, 1, 2]\n"
     ]
    }
   ],
   "source": [
    "l = list(eval(input(\">>> \")))\n",
    "\n",
    "mid = len(l) // 2\n",
    "\n",
    "if len(l) % 2 == 0:\n",
    "    temp = l[:mid]\n",
    "    l[:mid] = l[mid:]\n",
    "    l[mid:] = temp\n",
    "else:\n",
    "    temp = l[:mid]\n",
    "    l[:mid] = l[mid + 1:]\n",
    "    l[mid + 1:] = temp\n",
    "\n",
    "print(l)"
   ]
  },
  {
   "cell_type": "code",
   "execution_count": 4,
   "metadata": {},
   "outputs": [
    {
     "name": "stdout",
     "output_type": "stream",
     "text": [
      "[1, 0, 1, 0, 1, 0]\n"
     ]
    }
   ],
   "source": [
    "l = list(eval(input(\">>> \")))\n",
    "o = []\n",
    "for i in l:\n",
    "    o.append(i % 2)\n",
    "print(o)"
   ]
  },
  {
   "cell_type": "code",
   "execution_count": null,
   "metadata": {},
   "outputs": [],
   "source": [
    "# Using Split() split the list into two one having odd numbers and the other even"
   ]
  },
  {
   "cell_type": "code",
   "execution_count": null,
   "metadata": {},
   "outputs": [],
   "source": [
    "# To input a list of numbers and print all prime numbers from the list"
   ]
  },
  {
   "cell_type": "code",
   "execution_count": null,
   "metadata": {},
   "outputs": [],
   "source": [
    "# To input a list of numbers and print all perfect numbers from the list"
   ]
  },
  {
   "cell_type": "code",
   "execution_count": null,
   "metadata": {},
   "outputs": [],
   "source": [
    "# To input a list of numbers and print all armstrong numbers from the list"
   ]
  },
  {
   "cell_type": "code",
   "execution_count": 1,
   "metadata": {},
   "outputs": [
    {
     "name": "stdout",
     "output_type": "stream",
     "text": [
      "[1, 2, 3, 3, 2, 1]\n"
     ]
    }
   ],
   "source": [
    "print(list(eval(input(\">>> \"))) + list(eval(input(\">>> \"))))"
   ]
  },
  {
   "cell_type": "code",
   "execution_count": null,
   "metadata": {},
   "outputs": [],
   "source": [
    "# take two lists and merge them in ascending order"
   ]
  },
  {
   "cell_type": "code",
   "execution_count": null,
   "metadata": {},
   "outputs": [],
   "source": [
    "l1 = list(eval(input(\">>> \")))\n",
    "l2 = list(eval(input(\">>> \")))\n",
    "# zipper merge"
   ]
  },
  {
   "cell_type": "code",
   "execution_count": 3,
   "metadata": {},
   "outputs": [
    {
     "name": "stdout",
     "output_type": "stream",
     "text": [
      "[1, 2, 3]\n"
     ]
    }
   ],
   "source": [
    "l = list(eval(input(\"enter list: \")))\n",
    "l.remove(int(input(\"what number to remove: \")))\n",
    "print(l)"
   ]
  }
 ],
 "metadata": {
  "kernelspec": {
   "display_name": "Python 3",
   "language": "python",
   "name": "python3"
  },
  "language_info": {
   "codemirror_mode": {
    "name": "ipython",
    "version": 3
   },
   "file_extension": ".py",
   "mimetype": "text/x-python",
   "name": "python",
   "nbconvert_exporter": "python",
   "pygments_lexer": "ipython3",
   "version": "3.13.0"
  }
 },
 "nbformat": 4,
 "nbformat_minor": 2
}
