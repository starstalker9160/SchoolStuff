{
 "cells": [
  {
   "cell_type": "markdown",
   "metadata": {},
   "source": [
    "# Abyaz - Journal Code"
   ]
  },
  {
   "cell_type": "markdown",
   "metadata": {},
   "source": [
    "## Functions"
   ]
  },
  {
   "cell_type": "code",
   "execution_count": null,
   "metadata": {},
   "outputs": [
    {
     "name": "stdout",
     "output_type": "stream",
     "text": [
      "No. of odd elements: 4\n",
      "No. of even elements: 4\n"
     ]
    }
   ],
   "source": [
    "# Index no.: 1\n",
    "# Local no.: 1\n",
    "\n",
    "def count(*a) -> None:\n",
    "    o, e = 0, 0\n",
    "    for i in a:\n",
    "        (e := e + 1) if i % 2 == 0 else (o := o + 1)\n",
    "    print(f\"No. of odd elements: {o}\\nNo. of even elements: {e}\")\n",
    "\n",
    "count(1,2,3,4,5,6,7,8)"
   ]
  },
  {
   "cell_type": "code",
   "execution_count": null,
   "metadata": {},
   "outputs": [
    {
     "name": "stdout",
     "output_type": "stream",
     "text": [
      "Sum of the series is: 131071\n"
     ]
    }
   ],
   "source": [
    "# Index no.: 2\n",
    "# Local no.: 2\n",
    "\n",
    "def series(x: int, n: int) -> None:\n",
    "    s = 1\n",
    "    for i in range(n): s += x**(i+1)\n",
    "    print(f\"Sum of the series is: {s}\")\n",
    "\n",
    "series(2, 16)"
   ]
  },
  {
   "cell_type": "code",
   "execution_count": null,
   "metadata": {},
   "outputs": [
    {
     "name": "stdout",
     "output_type": "stream",
     "text": [
      "Factorial of 5 is: 120\n"
     ]
    }
   ],
   "source": [
    "# Index no.: 3\n",
    "# Local no.: 3\n",
    "\n",
    "n = int(input(\">>> \"))\n",
    "def fact() -> int:\n",
    "    global n\n",
    "    return n * (n := n - 1, fact())[1] if n > 1 else 1\n",
    "\n",
    "print(f\"Factorial of {n} is: {fact()}\")"
   ]
  },
  {
   "cell_type": "code",
   "execution_count": 29,
   "metadata": {},
   "outputs": [
    {
     "name": "stdout",
     "output_type": "stream",
     "text": [
      "Valid email IDs are:\n",
      " - asfd@cmail.com\n",
      " - fdsa@cmail.com\n"
     ]
    }
   ],
   "source": [
    "# Index no.: 4\n",
    "# Local no.: 4\n",
    "\n",
    "r = input(\">>> \").split()\n",
    "def validMailID(l: list) -> list:\n",
    "    return [i for i in l if \"@cmail\" in i]\n",
    "\n",
    "print(f\"Valid email IDs are:\\n - \" + \"\\n - \".join(validMailID(r)))"
   ]
  },
  {
   "cell_type": "code",
   "execution_count": 30,
   "metadata": {},
   "outputs": [
    {
     "name": "stdout",
     "output_type": "stream",
     "text": [
      "Words longer than 5 letters are:\n",
      " - antidisestablishmentarianism\n"
     ]
    }
   ],
   "source": [
    "# Index no.: 5\n",
    "# Local no.: 5\n",
    "\n",
    "r = input(\">>> \").split()\n",
    "def longWords(l: list):\n",
    "    return [i for i in l if len(i) > 5]\n",
    "\n",
    "print(f\"Words longer than 5 letters are:\\n - \" + \"\\n - \".join(longWords(r)))"
   ]
  },
  {
   "cell_type": "code",
   "execution_count": 28,
   "metadata": {},
   "outputs": [
    {
     "name": "stdout",
     "output_type": "stream",
     "text": [
      "\n",
      "    #--------------------#\n",
      "    |       NUMBERS      |\n",
      "    | 1. even/odd        |\n",
      "    | 2. prime/consonant |\n",
      "    | 3. exit            |\n",
      "    #--------------------#\n",
      "False\n",
      "True\n",
      "Invalid option selected\n"
     ]
    }
   ],
   "source": [
    "# Index no.: 6\n",
    "# Local no.: 6\n",
    "\n",
    "import math\n",
    "\n",
    "print(\"\"\"\n",
    "    #--------------------#\n",
    "    |       NUMBERS      |\n",
    "    | 1. even/odd        |\n",
    "    | 2. prime/consonant |\n",
    "    | 3. exit            |\n",
    "    #--------------------#\"\"\")\n",
    "\n",
    "def evenity(n: int) -> bool:\n",
    "    return True if n % 2 == 0 else False\n",
    "\n",
    "def primality(n: int) -> bool:\n",
    "    return False if n <= 1 else (True if n == 2 else (False if n % 2 == 0 else all(n % i != 0 for i in range(3, int(math.sqrt(n)) + 1, 2))))\n",
    "\n",
    "\n",
    "while True:\n",
    "    o = int(input(\">>> \"))\n",
    "    if o == 1:\n",
    "        print(evenity(int(input(\"n: \"))))\n",
    "    elif o == 2:\n",
    "        print(primality(int(input(\"n: \"))))\n",
    "    elif o == 3:\n",
    "        break\n",
    "    else:\n",
    "        print(\"Invalid option selected\")"
   ]
  },
  {
   "cell_type": "code",
   "execution_count": 27,
   "metadata": {},
   "outputs": [
    {
     "name": "stdout",
     "output_type": "stream",
     "text": [
      "Bigger number: 3.0\n"
     ]
    }
   ],
   "source": [
    "# Index no.: 7\n",
    "# Local no.: 7\n",
    "\n",
    "a, b = tuple([*map(float, input(\">>> \").split())])\n",
    "def findBig() -> float:\n",
    "    global a, b\n",
    "    return a if a > b else b\n",
    "\n",
    "print(f\"Bigger number: {findBig()}\")"
   ]
  },
  {
   "cell_type": "code",
   "execution_count": 26,
   "metadata": {},
   "outputs": [
    {
     "name": "stdout",
     "output_type": "stream",
     "text": [
      "Ordered list is: [1, 2, 4, 6, 58, 5, 65, 2350, 15]\n"
     ]
    }
   ],
   "source": [
    "# Index no.: 8\n",
    "# Local no.: 8\n",
    "\n",
    "x = [*map(int, input(\">>> \").split())]\n",
    "def move(l: list) -> None:\n",
    "    l[:] = [x for x in l if x % 5] + [x for x in l if x % 5 == 0]\n",
    "    print(f\"Ordered list is: {l}\")\n",
    "\n",
    "move(x)"
   ]
  },
  {
   "cell_type": "code",
   "execution_count": null,
   "metadata": {},
   "outputs": [
    {
     "name": "stdout",
     "output_type": "stream",
     "text": [
      "No. of vehicles released in 2020: 0\n",
      "\n",
      "Sorted dict:\n",
      "car5: ['anotherRealCarBrand', 'Model nine', 2023, 45000]\n",
      "car3: ['Chevy', 'Silverado', 2021, 40000]\n",
      "car2: ['Ford', 'Explorer', 2019, 32000]\n",
      "car4.5: ['Honda', 'Civic', 2020, 22000]\n",
      "car1: ['Toyota', 'Camry', 2020, 25000]\n"
     ]
    }
   ],
   "source": [
    "# Index no.: 9\n",
    "# Local no.: 9\n",
    "\n",
    "vehicle = {\n",
    "    \"car1\": [\"Toyota\", \"Camry\", 2020, 25_000],\n",
    "    \"car2\": [\"Ford\", \"Explorer\", 2019, 32_000],\n",
    "    \"car3\": [\"Chevy\", \"Silverado\", 2021, 40_000],\n",
    "    \"car4.5\": [\"Honda\", \"Civic\", 2020, 22_000],\n",
    "    \"car5\": [\"anotherRealCarBrand\", \"Model nine\", 2023, 45_000]\n",
    "}\n",
    "\n",
    "def _2020(D: dict):\n",
    "    print(f\"No. of vehicles released in 2020: {len([c for c in D if c[2] == 2020])}\")\n",
    "\n",
    "def sort(cars_dict):\n",
    "    sorted_cars = sorted(cars_dict.items(), key=lambda x: x[1][0].lower())\n",
    "    for key, value in sorted_cars:\n",
    "        print(f\"{key}: {value}\")\n",
    "\n",
    "_2020(vehicle)\n",
    "print(\"\\nSorted dict:\")\n",
    "sort(vehicle)"
   ]
  },
  {
   "cell_type": "code",
   "execution_count": 25,
   "metadata": {},
   "outputs": [
    {
     "name": "stdout",
     "output_type": "stream",
     "text": [
      "Non zero indices are: [0, 2, 3, 4, 6]\n"
     ]
    }
   ],
   "source": [
    "# Index no.: 10\n",
    "# Local no.: 10\n",
    "\n",
    "t = tuple([*map(int, input(\">>> \").split())])\n",
    "def indexTuple(t: tuple) -> list:\n",
    "    return [i for i, v in enumerate(t) if v != 0]\n",
    "\n",
    "print(f\"Non zero indices are: {indexTuple(t)}\")"
   ]
  },
  {
   "cell_type": "code",
   "execution_count": 24,
   "metadata": {},
   "outputs": [
    {
     "name": "stdout",
     "output_type": "stream",
     "text": [
      "No. of vowels: 8\n"
     ]
    }
   ],
   "source": [
    "# Index no.: 11\n",
    "# Local no.: 11\n",
    "\n",
    "r = input(\">>> \")\n",
    "def vowelCount() -> None:\n",
    "    global r\n",
    "    print(f\"No. of vowels: {sum(i in \"AEIOUaeiou\" for i in r)}\")\n",
    "\n",
    "vowelCount()"
   ]
  }
 ],
 "metadata": {
  "kernelspec": {
   "display_name": "Python 3",
   "language": "python",
   "name": "python3"
  },
  "language_info": {
   "codemirror_mode": {
    "name": "ipython",
    "version": 3
   },
   "file_extension": ".py",
   "mimetype": "text/x-python",
   "name": "python",
   "nbconvert_exporter": "python",
   "pygments_lexer": "ipython3",
   "version": "3.13.0"
  }
 },
 "nbformat": 4,
 "nbformat_minor": 2
}
