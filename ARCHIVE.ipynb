{
 "cells": [
  {
   "cell_type": "markdown",
   "metadata": {},
   "source": [
    "# ARCHIVE.ipynb\n",
    "\n",
    "Contains all python scripts written in 11th grade organized in chronological order"
   ]
  },
  {
   "cell_type": "markdown",
   "metadata": {},
   "source": [
    "## April"
   ]
  },
  {
   "cell_type": "markdown",
   "metadata": {},
   "source": [
    "### Online"
   ]
  },
  {
   "cell_type": "code",
   "execution_count": 3,
   "metadata": {},
   "outputs": [
    {
     "name": "stdout",
     "output_type": "stream",
     "text": [
      "Area: 6.0\n"
     ]
    }
   ],
   "source": [
    "l = float(input(\"Length: \"))\n",
    "b = float(input(\"Breadth: \"))\n",
    "print(f\"Area: {l*b}\")"
   ]
  },
  {
   "cell_type": "code",
   "execution_count": null,
   "metadata": {},
   "outputs": [
    {
     "name": "stdout",
     "output_type": "stream",
     "text": [
      "Area: 3215.36\n",
      "Circumference: 200.96\n"
     ]
    }
   ],
   "source": [
    "r = float(input(\"Radius: \"))\n",
    "print(f\"Area: {3.14 * r**2}\\nCircumference: {2 * 3.14 * r}\")"
   ]
  },
  {
   "cell_type": "markdown",
   "metadata": {},
   "source": [
    "### 22 April"
   ]
  },
  {
   "cell_type": "code",
   "execution_count": null,
   "metadata": {},
   "outputs": [
    {
     "name": "stdout",
     "output_type": "stream",
     "text": [
      "Temperature in Celcius is:  0.0\n"
     ]
    }
   ],
   "source": [
    "temp = float(input(\"Enter temperature: \"))\n",
    "print(f\"Temperature in Celcius is:  {(temp-32)*5/9}\")"
   ]
  },
  {
   "cell_type": "code",
   "execution_count": null,
   "metadata": {},
   "outputs": [
    {
     "name": "stdout",
     "output_type": "stream",
     "text": [
      "Total: 401.64\n",
      "Percent: 80.328%\n"
     ]
    }
   ],
   "source": [
    "name = input(\"Name: \")\n",
    "marks = input(\"Enter marks (out of 100) seperated by ',': \")\n",
    "intList = [float(num) for num in marks.split(\",\")]\n",
    "print(f\"Total: {sum(intList)}\")\n",
    "print(f\"Percentage: {sum(intList)/len(intList)}\")"
   ]
  },
  {
   "cell_type": "code",
   "execution_count": null,
   "metadata": {},
   "outputs": [
    {
     "name": "stdout",
     "output_type": "stream",
     "text": [
      "3.0 feet is 36.0 inches\n"
     ]
    }
   ],
   "source": [
    "feet = float(input(\"Enter distance in feet: \"))\n",
    "print(f\"{feet} feet is {feet*12} inches\")"
   ]
  },
  {
   "cell_type": "code",
   "execution_count": null,
   "metadata": {},
   "outputs": [
    {
     "name": "stdout",
     "output_type": "stream",
     "text": [
      "Volume of cylinde is 84.78 cube units\n"
     ]
    }
   ],
   "source": [
    "r = float(input(\"Enter radius of cylinder: \"))\n",
    "h = float(input(\"Enter height of cylinder: \"))\n",
    "print(f\"Volume of cylinde is {3.14 * r**2 * h} cube units\")"
   ]
  },
  {
   "cell_type": "markdown",
   "metadata": {},
   "source": [
    "## May"
   ]
  },
  {
   "cell_type": "markdown",
   "metadata": {},
   "source": [
    "### 6 May"
   ]
  },
  {
   "cell_type": "code",
   "execution_count": null,
   "metadata": {},
   "outputs": [
    {
     "name": "stdout",
     "output_type": "stream",
     "text": [
      "0\n",
      "1\n",
      "2\n",
      "3\n",
      "4\n",
      "done\n"
     ]
    }
   ],
   "source": [
    "for i in range(5):\n",
    "    print(i)\n",
    "print(\"done\")"
   ]
  },
  {
   "cell_type": "code",
   "execution_count": null,
   "metadata": {},
   "outputs": [
    {
     "name": "stdout",
     "output_type": "stream",
     "text": [
      "\n",
      "======== TASK 1 ========\n",
      "\n",
      "5 x 1 = 5\n",
      "5 x 2 = 10\n",
      "5 x 3 = 15\n",
      "5 x 4 = 20\n",
      "5 x 5 = 25\n",
      "5 x 6 = 30\n",
      "5 x 7 = 35\n",
      "5 x 8 = 40\n",
      "5 x 9 = 45\n",
      "5 x 10 = 50\n",
      "\n",
      "======== TASK 2 ========\n",
      "\n",
      "1\n",
      "3\n",
      "5\n",
      "7\n",
      "9\n",
      "11\n",
      "13\n",
      "15\n",
      "17\n",
      "19\n",
      "21\n",
      "23\n",
      "25\n",
      "27\n",
      "29\n",
      "31\n",
      "33\n",
      "35\n",
      "37\n",
      "39\n",
      "41\n",
      "43\n",
      "45\n",
      "47\n",
      "49\n",
      "51\n",
      "53\n",
      "55\n",
      "57\n",
      "59\n",
      "61\n",
      "63\n",
      "65\n",
      "67\n",
      "69\n",
      "71\n",
      "73\n",
      "75\n",
      "77\n",
      "79\n",
      "81\n",
      "83\n",
      "85\n",
      "87\n",
      "89\n",
      "91\n",
      "93\n",
      "95\n",
      "97\n",
      "99\n",
      "\n",
      "======== TASK 3 ========\n",
      "\n",
      "Sum : 28\n",
      "\n",
      "======== TASK 1 ========\n",
      "\n",
      "0 + 1 = 1\n",
      "1 + 2 = 2\n",
      "3 + 3 = 4\n",
      "6 + 4 = 7\n",
      "10 + 5 = 11\n",
      "15 + 6 = 16\n",
      "21 + 7 = 22\n",
      "Final answer : 28\n"
     ]
    }
   ],
   "source": [
    "print(\"\\n======== TASK 1 ========\\n\")\n",
    "for i in range(10):\n",
    "    print(f\"5 x {i+1} = {5 * (i+1)}\")\n",
    "\n",
    "print(\"\\n======== TASK 2 ========\\n\")\n",
    "for i in range(1, 101, 2):\n",
    "    print(i)\n",
    "\n",
    "print(\"\\n======== TASK 3 ========\\n\")\n",
    "sum1 = 0\n",
    "for i in range(1, 8):\n",
    "    sum1 += i\n",
    "print(f\"Sum : {sum1}\")\n",
    "\n",
    "print(\"\\n======== TASK 4 ========\\n\")\n",
    "sum2 = 0\n",
    "for i in range(1, 8):\n",
    "    print(f\"{sum2} + {i} = {sum2+1}\")\n",
    "    sum2 += i\n",
    "print(f\"Final answer : {sum2}\")"
   ]
  },
  {
   "cell_type": "markdown",
   "metadata": {},
   "source": [
    "### 8 May"
   ]
  },
  {
   "cell_type": "code",
   "execution_count": null,
   "metadata": {},
   "outputs": [
    {
     "name": "stdout",
     "output_type": "stream",
     "text": [
      "Yes, 'hello   ' is in 'hellohow'\n"
     ]
    }
   ],
   "source": [
    "word = input(\"Enter word: \")\n",
    "s = input(\"Enter sentence: \")\n",
    "if word.strip().lower() in s.strip().lower():\n",
    "    print(f\"Yes, '{word}' is in '{s}'\")\n",
    "else:\n",
    "    print(f\"No, '{word}' is nowhere to be found\")"
   ]
  },
  {
   "cell_type": "code",
   "execution_count": null,
   "metadata": {},
   "outputs": [
    {
     "name": "stdout",
     "output_type": "stream",
     "text": [
      "apple\n",
      "banana\n",
      "----------\n",
      "apple\n",
      "banana\n",
      "----------\n",
      "apple\n",
      "banana\n"
     ]
    }
   ],
   "source": [
    "fruits = [\"apple\", \"banana\", \"cherry\"]\n",
    "for i in fruits:\n",
    "    print(i)\n",
    "    if i == \"banana\":\n",
    "        break\n",
    "print(\"----------\")\n",
    "for j in fruits:\n",
    "    print(j)\n",
    "    if j == \"banana\":\n",
    "        break\n",
    "        print(j)\n",
    "print(\"----------\")\n",
    "for k in fruits:\n",
    "    if k == \"banana\":\n",
    "        break\n",
    "    print(k)\n",
    "print(k)"
   ]
  },
  {
   "cell_type": "markdown",
   "metadata": {},
   "source": [
    "### 10 May\n"
   ]
  },
  {
   "cell_type": "code",
   "execution_count": null,
   "metadata": {},
   "outputs": [
    {
     "name": "stdout",
     "output_type": "stream",
     "text": [
      "1 is odd.\n",
      "3 is odd.\n",
      "5 is odd.\n",
      "\n",
      "Odd number was inputted 3 times.\n"
     ]
    }
   ],
   "source": [
    "count = 0\n",
    "for i in range(6): \n",
    "    j = int(input(\"Enter non-decimal number: \"))\n",
    "    if j % 2 != 0:\n",
    "        print(f\"{j} is odd.\")\n",
    "        count+=1\n",
    "print(f\"\\nOdd number was inputted {count} times.\")"
   ]
  },
  {
   "cell_type": "markdown",
   "metadata": {},
   "source": [
    "### 13 May"
   ]
  },
  {
   "cell_type": "code",
   "execution_count": null,
   "metadata": {},
   "outputs": [
    {
     "name": "stdout",
     "output_type": "stream",
     "text": [
      "Sum : 45\n",
      "Avg : 5.0\n"
     ]
    }
   ],
   "source": [
    "while True:\n",
    "    try:\n",
    "        a = input(\"Enter numbers seperated by commas: \")\n",
    "        l = eval(\"[\"+a+\"]\")\n",
    "        print(f\"Sum : {sum(l)}\")\n",
    "        print(f\"Avg : {sum(l)/len(l)}\")\n",
    "        break\n",
    "    except SyntaxError:\n",
    "        print(\"Please enter a valid input >:( \\n\")\n",
    "    except ZeroDivisionError:\n",
    "        print(\"Cannot have no input\")"
   ]
  },
  {
   "cell_type": "code",
   "execution_count": null,
   "metadata": {},
   "outputs": [
    {
     "name": "stdout",
     "output_type": "stream",
     "text": [
      "\n",
      "*\n",
      "**\n",
      "***\n",
      "****\n",
      "*****\n",
      "******\n",
      "*******\n",
      "********\n",
      "*********\n"
     ]
    }
   ],
   "source": [
    "for i in range(10):\n",
    "    print(\"*\"*i)"
   ]
  },
  {
   "cell_type": "markdown",
   "metadata": {},
   "source": [
    "### 14 May"
   ]
  },
  {
   "cell_type": "code",
   "execution_count": null,
   "metadata": {},
   "outputs": [],
   "source": [
    "for i in range(10):\n",
    "    n = int(input(\"Enter reeber: \"))\n",
    "    if n % 3 != 0:\n",
    "        continue\n",
    "    else:\n",
    "        print(f\"{n} is divisible by 3\")"
   ]
  },
  {
   "cell_type": "markdown",
   "metadata": {},
   "source": [
    "### 15 May"
   ]
  },
  {
   "cell_type": "code",
   "execution_count": null,
   "metadata": {},
   "outputs": [
    {
     "name": "stdout",
     "output_type": "stream",
     "text": [
      "5 is prime\n"
     ]
    }
   ],
   "source": [
    "n = int(input(\"Enter reeber: \"))\n",
    "for i in range(2,n):\n",
    "    if n%i == 0:\n",
    "        print(f\"{n} is not prime\")\n",
    "        break\n",
    "    else:\n",
    "        print(f\"{n} is prime\")\n",
    "        break"
   ]
  },
  {
   "cell_type": "code",
   "execution_count": null,
   "metadata": {},
   "outputs": [
    {
     "name": "stdout",
     "output_type": "stream",
     "text": [
      "6 is perfect\n"
     ]
    }
   ],
   "source": [
    "n = int(input(\"Enter reeber: \"))\n",
    "l = 1\n",
    "for i in range(2,n):\n",
    "    if n%i == 0:\n",
    "        l+=i\n",
    "if l == n:\n",
    "    print(f\"{n} is perfect\")\n",
    "else:\n",
    "    print(f\"{n} is not perfect\")"
   ]
  },
  {
   "cell_type": "markdown",
   "metadata": {},
   "source": [
    "### 16 May"
   ]
  },
  {
   "cell_type": "code",
   "execution_count": null,
   "metadata": {},
   "outputs": [
    {
     "name": "stdout",
     "output_type": "stream",
     "text": [
      "0 1 1 2 3 5 8 13 21 34 "
     ]
    }
   ],
   "source": [
    "n = int(input(\"How long the sequence should be: \"))\n",
    "a = 0\n",
    "b = 1\n",
    "c = 0\n",
    "print(a, end=\" \")\n",
    "for i in range(0, n-1):\n",
    "    a, b = b, c\n",
    "    c = a+b\n",
    "    print(c, end=\" \")"
   ]
  },
  {
   "cell_type": "markdown",
   "metadata": {},
   "source": [
    "### 22 May"
   ]
  },
  {
   "cell_type": "code",
   "execution_count": null,
   "metadata": {},
   "outputs": [
    {
     "name": "stdout",
     "output_type": "stream",
     "text": [
      "Sum: 15\n"
     ]
    }
   ],
   "source": [
    "x = int(input(\"Enter x: \"))\n",
    "n = int(input(\"Enter n: \"))\n",
    "s = 0\n",
    "for i in range(n+1):\n",
    "    s+=(x**i)\n",
    "print(f\"Sum: {s}\")"
   ]
  },
  {
   "cell_type": "code",
   "execution_count": null,
   "metadata": {},
   "outputs": [
    {
     "name": "stdout",
     "output_type": "stream",
     "text": [
      "Sum: -5\n"
     ]
    }
   ],
   "source": [
    "x = int(input(\"Enter x: \"))\n",
    "n = int(input(\"Enter n: \"))\n",
    "s = 0\n",
    "for i in range(n+1):\n",
    "    if i % 2 == 0:\n",
    "        s += (x**i)\n",
    "    else:\n",
    "        s -= (x**i)\n",
    "print(f\"Sum: {s}\")"
   ]
  },
  {
   "cell_type": "code",
   "execution_count": null,
   "metadata": {},
   "outputs": [
    {
     "name": "stdout",
     "output_type": "stream",
     "text": [
      "sum: 0.20833333333333331\n"
     ]
    }
   ],
   "source": [
    "x = int(input(\"Enter x: \"))\n",
    "n = int(input(\"Enter n: \"))\n",
    "s = 0\n",
    "temp = 1\n",
    "sign = 1\n",
    "for i in range(n+1):\n",
    "    reeerator = x**i\n",
    "    temp = 1\n",
    "    if i % 2 == 0:\n",
    "        sign = -1\n",
    "    for j in range(n+1 , 1, -1):\n",
    "        temp *= j\n",
    "    denominator = temp\n",
    "    s += (sign*reeerator)/(denominator)\n",
    "    sign = 1\n",
    "print(f\"sum: {s}\")"
   ]
  },
  {
   "cell_type": "markdown",
   "metadata": {},
   "source": [
    "### 27 May"
   ]
  },
  {
   "cell_type": "code",
   "execution_count": null,
   "metadata": {},
   "outputs": [
    {
     "name": "stdout",
     "output_type": "stream",
     "text": [
      "   1\n",
      "  121\n",
      " 12321\n",
      "1234321\n"
     ]
    }
   ],
   "source": [
    "s=3\n",
    "for i in range(1, 5):\n",
    "    print(\" \"*s, end=\"\")\n",
    "    for j in range(1, i):\n",
    "        print(j, end=\"\")\n",
    "    for d in range(i, 0, -1):\n",
    "        print(d, end=\"\")\n",
    "    s-=1\n",
    "    print()"
   ]
  },
  {
   "cell_type": "code",
   "execution_count": null,
   "metadata": {},
   "outputs": [
    {
     "name": "stdout",
     "output_type": "stream",
     "text": [
      "   A\n",
      "  BAB\n",
      " CBABC\n",
      "DCBABCD\n"
     ]
    }
   ],
   "source": [
    "s=3\n",
    "for i in range(65,69):\n",
    "    print(\" \"*s, end=\"\")\n",
    "    for j in range(i, 64, -1):\n",
    "        print(chr(j), end=\"\")\n",
    "    for d in range(66, i+1):\n",
    "        print(chr(d), end=\"\")\n",
    "    s-=1\n",
    "    print()"
   ]
  },
  {
   "cell_type": "code",
   "execution_count": null,
   "metadata": {},
   "outputs": [
    {
     "name": "stdout",
     "output_type": "stream",
     "text": [
      "1 4 7 10 "
     ]
    }
   ],
   "source": [
    "n = int(input(\"How long should it be: \"))\n",
    "t= -2\n",
    "for i in range(0, n):\n",
    "    print(f\"{t+3}\", end=\" \")\n",
    "    t+=3"
   ]
  },
  {
   "cell_type": "code",
   "execution_count": null,
   "metadata": {},
   "outputs": [
    {
     "name": "stdout",
     "output_type": "stream",
     "text": [
      "<=====3\n"
     ]
    }
   ],
   "source": [
    "n = int(input(\"How long should *it* be: \"))\n",
    "print(f\"<{\"=\"*n}3\")"
   ]
  },
  {
   "cell_type": "markdown",
   "metadata": {},
   "source": [
    "## June"
   ]
  },
  {
   "cell_type": "markdown",
   "metadata": {},
   "source": [
    "### 5 June"
   ]
  },
  {
   "cell_type": "code",
   "execution_count": 6,
   "metadata": {},
   "outputs": [
    {
     "name": "stdout",
     "output_type": "stream",
     "text": [
      "  *\n",
      " ***\n",
      "*****\n",
      " ***\n",
      "  *\n"
     ]
    }
   ],
   "source": [
    "s = 2\n",
    "st = 1\n",
    "for i in range(1, 4):\n",
    "    print(s*\" \", end = \"\")\n",
    "    print(st*\"*\")\n",
    "    s -= 1\n",
    "    st += 2\n",
    "s = 1\n",
    "st = 3\n",
    "for j in range(1, 3):\n",
    "    print(s*\" \", end = \"\")\n",
    "    print(st*\"*\")\n",
    "    s += 1\n",
    "    st -= 2"
   ]
  },
  {
   "cell_type": "markdown",
   "metadata": {},
   "source": [
    "### 6 Jun"
   ]
  },
  {
   "cell_type": "code",
   "execution_count": 7,
   "metadata": {},
   "outputs": [
    {
     "name": "stdout",
     "output_type": "stream",
     "text": [
      "    * \n",
      "  * * * \n",
      "* * * * * \n",
      "  * * * \n",
      "    * \n"
     ]
    }
   ],
   "source": [
    "sp = 2\n",
    "s = 1\n",
    "for i in range(3):\n",
    "    print(f\"{\"  \"*sp}{\"* \"*s}\")\n",
    "    sp -= 1\n",
    "    s += 2\n",
    "sp = 1\n",
    "s = 3\n",
    "for i in range(2):\n",
    "    print(f\"{\"  \"*sp}{\"* \"*s}\")\n",
    "    s -= 2\n",
    "    sp += 1\n"
   ]
  },
  {
   "cell_type": "code",
   "execution_count": 4,
   "metadata": {},
   "outputs": [
    {
     "name": "stdout",
     "output_type": "stream",
     "text": [
      " 1010101\n",
      "  10101\n",
      "   101\n",
      "    1\n"
     ]
    }
   ],
   "source": [
    "sp = 0\n",
    "n = 8\n",
    "for i in range(1, 5):\n",
    "    print(\" \"*sp, end = \" \")\n",
    "    for j in range(1, n):\n",
    "        print(j%2, end = \"\")\n",
    "    print()\n",
    "    n -= 2\n",
    "    sp += 1"
   ]
  },
  {
   "cell_type": "code",
   "execution_count": 3,
   "metadata": {},
   "outputs": [
    {
     "name": "stdout",
     "output_type": "stream",
     "text": [
      "*\n",
      "**\n",
      "***\n",
      "****\n",
      "*****\n",
      "*****\n",
      "****\n",
      "***\n",
      "**\n",
      "*\n"
     ]
    }
   ],
   "source": [
    "for i in range(1, 6):\n",
    "    print(\"*\"*i)\n",
    "for j in range(5, 0, -1):\n",
    "    print(\"*\"*j)"
   ]
  },
  {
   "cell_type": "code",
   "execution_count": 2,
   "metadata": {},
   "outputs": [
    {
     "name": "stdout",
     "output_type": "stream",
     "text": [
      "Hello Abyaz!\n"
     ]
    }
   ],
   "source": [
    "name = input(\"Enter your name: \")\n",
    "print(f\"Hello {name.capitalize()}!\")"
   ]
  },
  {
   "cell_type": "code",
   "execution_count": 1,
   "metadata": {},
   "outputs": [
    {
     "name": "stdout",
     "output_type": "stream",
     "text": [
      "Largest number: 6.0\n",
      "Smallest number: 5.0\n"
     ]
    }
   ],
   "source": [
    "a = set(eval(input(\"Enter two reebers seperated by a comma: \")))\n",
    "largest, smallest = float(max(a)), float(min(a))\n",
    "if largest != smallest:\n",
    "    print(f\"Largest number: {largest}\\nSmallest number: {smallest}\")\n",
    "else:\n",
    "    print(f\"They are equal\")"
   ]
  },
  {
   "cell_type": "code",
   "execution_count": 1,
   "metadata": {},
   "outputs": [
    {
     "name": "stdout",
     "output_type": "stream",
     "text": [
      "Final answer: 61\n"
     ]
    }
   ],
   "source": [
    "x = int(input(\"Enter the value of x: \"))\n",
    "n = int(input(\"Enter the value of n: \"))\n",
    "ans = 1\n",
    "for i in range(2, n+1):\n",
    "    ans += x**i\n",
    "print(f\"Final answer: {ans}\")"
   ]
  },
  {
   "cell_type": "code",
   "execution_count": 2,
   "metadata": {},
   "outputs": [
    {
     "name": "stdout",
     "output_type": "stream",
     "text": [
      "Final answer: 6.0\n"
     ]
    }
   ],
   "source": [
    "def fac(n):\n",
    "    a = 1\n",
    "    for i in range(n, 1, -1):\n",
    "        a * i\n",
    "    return a\n",
    "\n",
    "x = int(input(\"Enter the value of x: \"))\n",
    "n = int(input(\"Enter the value of n: \"))\n",
    "ans = 0\n",
    "for i in range(1, n+1):\n",
    "    if i % 2 == 0:\n",
    "        ans -= (x**i)/fac(i)\n",
    "    else:\n",
    "        ans += (x**i)/fac(i)\n",
    "         \n",
    "print(f\"Final answer: {ans}\")"
   ]
  },
  {
   "cell_type": "code",
   "execution_count": 3,
   "metadata": {},
   "outputs": [
    {
     "name": "stdout",
     "output_type": "stream",
     "text": [
      "\t#--------rEeee--------#\n",
      "\t|Check if number is:  |\n",
      "\t|  1. Perfect         |\n",
      "\t|  2. Armstrong       |\n",
      "\t|  3. Palindrome      |\n",
      "\t#---------------------#\n",
      "\t12321 is a palindrome\n"
     ]
    }
   ],
   "source": [
    "while True:\n",
    "    print(\"\\t#--------rEeee--------#\")\n",
    "    print(\"\\t|Check if number is:  |\")\n",
    "    print(\"\\t|  1. Perfect         |\")\n",
    "    print(\"\\t|  2. Armstrong       |\")\n",
    "    print(\"\\t|  3. Palindrome      |\")\n",
    "    print(\"\\t#---------------------#\")\n",
    "    ree = int(input(\"\\t>>> \"))\n",
    "    if ree == 1:\n",
    "        n = int(input(\"\\n\\tEnter number: \"))\n",
    "        l = 1\n",
    "        for i in range(2,n):\n",
    "            if n%i == 0:\n",
    "                l+=i\n",
    "        if l == n:\n",
    "            print(f\"\\t{n} is perfect\")\n",
    "        else:\n",
    "            print(f\"\\t{n} is not perfect\")\n",
    "        break\n",
    "    elif ree == 2:\n",
    "        n = input(\"\\n\\tEnter number: \")\n",
    "        pow_ = len(n)\n",
    "        l = 0\n",
    "        for i in n:\n",
    "            l += int(i)**pow_\n",
    "        if l == int(n):\n",
    "            print(f\"\\t{n} is an armstrong number\")\n",
    "        else:\n",
    "            print(f\"\\t{n} is not an armstrong number\")\n",
    "        break\n",
    "    elif ree == 3:\n",
    "        n = input(\"\\n\\tEnter number: \")\n",
    "        if len(n) == 1:\n",
    "            print(f\"\\t{n} is a palindrome\")\n",
    "            break\n",
    "        t = int(n)\n",
    "        l = 0\n",
    "        n = int(n)\n",
    "        for i in range(len(str(n)), 0, -1):\n",
    "            a = n%10\n",
    "            n //= 10\n",
    "            l *= 10\n",
    "            l += a\n",
    "        if l == t:\n",
    "            print(f\"\\t{t} is a palindrome\")\n",
    "        else:\n",
    "            print(f\"\\t{t} is not a palindrome\")\n",
    "        break\n",
    "    else:\n",
    "        print(\"INVALID INPUT\\nPlease try again.\")\n",
    "        print(\"\\n\\n___________________________\\n\\n\")"
   ]
  },
  {
   "cell_type": "code",
   "execution_count": 9,
   "metadata": {},
   "outputs": [
    {
     "name": "stdout",
     "output_type": "stream",
     "text": [
      "4 is not prime\n"
     ]
    }
   ],
   "source": [
    "import math\n",
    "n = int(input(\"Enter number: \"))\n",
    "isPrime = True\n",
    "if n == 1:\n",
    "    print(\"1 is neither prime nor composite\")\n",
    "elif n == 2:\n",
    "    print(\"2 is prime\")\n",
    "else:\n",
    "    for i in range(2, math.ceil(math.sqrt(n))+1):\n",
    "        if n % i == 0:\n",
    "            isPrime = False\n",
    "            break\n",
    "    print(f\"{n} is prime\") if isPrime else print(f\"{n} is not prime\")"
   ]
  },
  {
   "cell_type": "code",
   "execution_count": 10,
   "metadata": {},
   "outputs": [
    {
     "name": "stdout",
     "output_type": "stream",
     "text": [
      "0 1 1 2 3 "
     ]
    }
   ],
   "source": [
    "n = int(input(\"Enter the Enter the number of rows: \"))\n",
    "a, b = 0, 1\n",
    "for i in range(n):\n",
    "    print(a, end = \" \")\n",
    "    a, b = b, a + b"
   ]
  },
  {
   "cell_type": "code",
   "execution_count": 12,
   "metadata": {},
   "outputs": [
    {
     "name": "stdout",
     "output_type": "stream",
     "text": [
      "\tPATTERN 1\n",
      "*\n",
      "**\n",
      "***\n",
      "****\n",
      "*****\n",
      "\tPATTERN 2\n",
      "1 2 3 4 5 \n",
      "1 2 3 4 \n",
      "1 2 3 \n",
      "1 2 \n",
      "1 \n",
      "\tPATTERN 3\n",
      "A B C D E \n",
      "A B C D \n",
      "A B C \n",
      "A B \n",
      "A \n"
     ]
    }
   ],
   "source": [
    "print(\"\\tPATTERN 1\")\n",
    "n = int(input(\"Enter the number of rows:\"))\n",
    "for i in range(1, n+1):\n",
    "    print(\"*\"*i)\n",
    "\n",
    "print(\"\\tPATTERN 2\")\n",
    "n = int(input(\"Enter the number of rows:\"))\n",
    "for i in range(n, 0, -1):\n",
    "    for j in range(1, n+1):\n",
    "        print(j, end = \" \")\n",
    "    print()\n",
    "    n -= 1 \n",
    "\n",
    "print(\"\\tPATTERN 3\")\n",
    "n = int(input(\"Enter the number of rows:\"))\n",
    "for i in range(1, n+1):\n",
    "    r = 65 + n\n",
    "    for j in range(65, r):\n",
    "        print(chr(j), end = \" \")\n",
    "    print()\n",
    "    n -= 1"
   ]
  },
  {
   "cell_type": "code",
   "execution_count": 18,
   "metadata": {},
   "outputs": [
    {
     "name": "stdout",
     "output_type": "stream",
     "text": [
      "; is a special digit\n"
     ]
    }
   ],
   "source": [
    "n = input(\"Enter character: \")\n",
    "c = n[0]\n",
    "if ord(c) in range(48, 58):\n",
    "    print(f\"{c} is a digit\")\n",
    "elif ord(c) in range(65, 91):\n",
    "    print(f\"{c} is a uppercase character\")\n",
    "elif ord(c) in range(97, 123):\n",
    "    print(f\"{c} is a lowercase character\")\n",
    "else:\n",
    "    print(f\"{c} is a special digit\")"
   ]
  },
  {
   "cell_type": "code",
   "execution_count": 19,
   "metadata": {},
   "outputs": [
    {
     "name": "stdout",
     "output_type": "stream",
     "text": [
      "Grade is B\n"
     ]
    }
   ],
   "source": [
    "g = float(input(\"Enter marks out of 100: \"))\n",
    "o = \"F\"\n",
    "if g >= 90:\n",
    "    o = \"A\"\n",
    "elif g >= 80:\n",
    "    o = \"B\"\n",
    "elif g >= 70:\n",
    "    o = \"C\"\n",
    "elif g >= 60:\n",
    "    o = \"D\"\n",
    "elif g >= 50:\n",
    "    o = \"E\"\n",
    "print(f\"Grade is {o}\")"
   ]
  },
  {
   "cell_type": "code",
   "execution_count": 21,
   "metadata": {},
   "outputs": [
    {
     "name": "stdout",
     "output_type": "stream",
     "text": [
      "10 * 1 = 10\n",
      "10 * 2 = 20\n",
      "10 * 3 = 30\n",
      "10 * 4 = 40\n",
      "10 * 5 = 50\n",
      "10 * 6 = 60\n",
      "10 * 7 = 70\n",
      "10 * 8 = 80\n",
      "10 * 9 = 90\n",
      "10 * 10 = 100\n"
     ]
    }
   ],
   "source": [
    "n = int(input(\"Enter the number of rows: \"))\n",
    "for i in range(1, n+1):\n",
    "    print(f\"10 * {i} = {10*i}\")"
   ]
  },
  {
   "cell_type": "code",
   "execution_count": 22,
   "metadata": {},
   "outputs": [
    {
     "name": "stdout",
     "output_type": "stream",
     "text": [
      "The date is valid.\n"
     ]
    }
   ],
   "source": [
    "year = int(input(\"Enter year: \"))\n",
    "month = int(input(\"Enter month: \"))\n",
    "day = int(input(\"Enter day: \"))\n",
    "\n",
    "leap_year = (year % 4 == 0 and year % 100 != 0) or (year % 400 == 0)\n",
    "\n",
    "if month == 2:\n",
    "    max_days = 29 if leap_year else 28\n",
    "elif month == 4 or month == 6 or month == 9 or month == 11:\n",
    "    max_days = 30\n",
    "else:\n",
    "    max_days = 31\n",
    "\n",
    "if day <= max_days:\n",
    "    print(\"The date is valid.\")\n",
    "else:\n",
    "    print(\"The date is invalid.\")"
   ]
  },
  {
   "cell_type": "code",
   "execution_count": 24,
   "metadata": {},
   "outputs": [
    {
     "name": "stdout",
     "output_type": "stream",
     "text": [
      "\t#--------rEeee--------#\n",
      "\t|Find :               |\n",
      "\t|  1. Factorial       |\n",
      "\t|  2. Sum of digits   |\n",
      "\t|  3. Quit            |\n",
      "\t#---------------------#\n",
      "\tSum of all digits is: 6\n"
     ]
    }
   ],
   "source": [
    "while True:\n",
    "    print(\"\\t#--------rEeee--------#\")\n",
    "    print(\"\\t|Find :               |\")\n",
    "    print(\"\\t|  1. Factorial       |\")\n",
    "    print(\"\\t|  2. Sum of digits   |\")\n",
    "    print(\"\\t|  3. Quit            |\")\n",
    "    print(\"\\t#---------------------#\")\n",
    "    ree = int(input(\"\\t>>> \"))\n",
    "    if ree == 1:\n",
    "        n = int(input(\"\\n\\tEnter number: \"))\n",
    "        ans = 1\n",
    "        for i in range(n, 1, -1):\n",
    "            ans *= i\n",
    "        print(f\"\\t{n}! = {ans}\")\n",
    "        break\n",
    "    elif ree == 2:\n",
    "        n = input(\"\\n\\tEnter number: \")\n",
    "        ans = 0\n",
    "        for i in n:\n",
    "            ans += int(i)\n",
    "        print(f\"\\tSum of all digits is: {ans}\")\n",
    "        break\n",
    "    elif ree == 3:\n",
    "        print(\"Quitting\")\n",
    "        break\n",
    "    else:\n",
    "        print(\"\\tINVALID INPUT\\t\\nPlease try again.\")\n",
    "        print(\"\\t\\n\\n___________________________\\n\\n\")"
   ]
  },
  {
   "cell_type": "code",
   "execution_count": 7,
   "metadata": {},
   "outputs": [
    {
     "name": "stdout",
     "output_type": "stream",
     "text": [
      "Sum of even numbers until 10 = 30\n",
      "Average of even numbers until 10 = 6.0\n",
      "\n",
      "Sum of odd numbers until 10 = 25\n",
      "Average of odd numbers until 10 = 5.0\n",
      "\n",
      "Sum of prime numbers until 10 = 17\n",
      "Average of prime numbers until 10 = 4.25\n",
      "\n"
     ]
    }
   ],
   "source": [
    "n = int(input(\"Enter number: \"))\n",
    "\n",
    "SO, SE, SP, CO, CE, CP = 0, 0, 0, 0, 0, 0\n",
    "\n",
    "for num in range(1, n + 1):\n",
    "    if num % 2 == 0:\n",
    "        SE += num\n",
    "        CE += 1\n",
    "    else:\n",
    "        SO += num\n",
    "        CO += 1\n",
    "    \n",
    "    if num > 1:\n",
    "        is_prime = True\n",
    "        for i in range(2, int(num**0.5) + 1):\n",
    "            if num % i == 0:\n",
    "                is_prime = False\n",
    "                break\n",
    "        if is_prime:\n",
    "            SP += num\n",
    "            CP += 1\n",
    "\n",
    "AO = SO / CO if CO > 0 else 0\n",
    "AE = SE / CE if CE > 0 else 0\n",
    "AP = SP / CP if CP > 0 else 0\n",
    "\n",
    "print(f\"Sum of even numbers until {n} = {SE}\\nAverage of even numbers until {n} = {AE}\\n\")\n",
    "print(f\"Sum of odd numbers until {n} = {SO}\\nAverage of odd numbers until {n} = {AO}\\n\")\n",
    "print(f\"Sum of prime numbers until {n} = {SP}\\nAverage of prime numbers until {n} = {AP}\\n\")"
   ]
  },
  {
   "cell_type": "code",
   "execution_count": 9,
   "metadata": {},
   "outputs": [
    {
     "name": "stdout",
     "output_type": "stream",
     "text": [
      "Sum of prime numbers between 0 and 10 is 17\n"
     ]
    }
   ],
   "source": [
    "a = int(input(\"Start of range: \"))\n",
    "b = int(input(\"End of range: \"))\n",
    "a, b = (a, b) if a > b else (b, a)\n",
    "ans = 0\n",
    "for num in range(b, a + 1):\n",
    "    if num > 1:\n",
    "        is_prime = True\n",
    "        for i in range(2, int(num**0.5) + 1):\n",
    "            if num % i == 0:\n",
    "                is_prime = False\n",
    "                break\n",
    "        if is_prime:\n",
    "            ans += num\n",
    "print(f\"Sum of prime numbers between {b} and {a} is {ans}\")"
   ]
  },
  {
   "cell_type": "code",
   "execution_count": 11,
   "metadata": {},
   "outputs": [
    {
     "name": "stdout",
     "output_type": "stream",
     "text": [
      "The roots are real and different:\n",
      "Root 1 = 1.0\n",
      "Root 2 = -1.0\n"
     ]
    }
   ],
   "source": [
    "import math\n",
    "\n",
    "a = float(input(\"Enter coefficient a: \"))\n",
    "b = float(input(\"Enter coefficient b: \"))\n",
    "c = float(input(\"Enter coefficient c: \"))\n",
    "\n",
    "D = b**2 - 4*a*c\n",
    "\n",
    "if D >= 0:\n",
    "    rootA = (-b + math.sqrt(D)) / (2*a)\n",
    "    rootB = (-b - math.sqrt(D)) / (2*a)\n",
    "\n",
    "    if D > 0:\n",
    "        print(f\"The roots are real and different:\\nRoot 1 = {rootA}\\nRoot 2 = {rootB}\")\n",
    "    else:\n",
    "        print(f\"The roots are real and the same:\\nRoot = {rootA}\")\n",
    "else:\n",
    "    print(\"No real roots\")"
   ]
  },
  {
   "cell_type": "markdown",
   "metadata": {},
   "source": [
    "## Sept"
   ]
  },
  {
   "cell_type": "markdown",
   "metadata": {},
   "source": [
    "### 9 Sept"
   ]
  },
  {
   "cell_type": "code",
   "execution_count": 3,
   "metadata": {},
   "outputs": [
    {
     "name": "stdout",
     "output_type": "stream",
     "text": [
      "input string: hello my name is 123\n",
      "\n",
      "vowels :\t5\t['e', 'o', 'a', 'e', 'i']\n",
      "consonants :\t8\t['h', 'l', 'l', 'm', 'y', 'n', 'm', 's']\n",
      "digits :\t3\t['1', '2', '3']\n",
      "other bullshit :4\t[' ', ' ', ' ', ' ']\n"
     ]
    }
   ],
   "source": [
    "s = input(\">>> \")\n",
    "v, c, d, ob = 0, 0, 0, 0\n",
    "v_, c_, d_, ob_ = [], [], [], []\n",
    "for i in s:\n",
    "    if i in \"0123456789\":\n",
    "        d += 1\n",
    "        d_.append(i)\n",
    "    elif i in \"aeiou\" or i in \"AEIOU\":\n",
    "        v += 1\n",
    "        v_.append(i)\n",
    "    elif i in \"bcdfghjklmnpqrstvwxyz\" or i in \"BCDFGHJKLMNPQRSTVWXYZ\":\n",
    "        c += 1\n",
    "        c_.append(i)\n",
    "    else:\n",
    "        ob += 1\n",
    "        ob_.append(i)\n",
    "print(f\"input string: {s}\\n\")\n",
    "print(f\"vowels :\\t{v}\\t{v_}\\nconsonants :\\t{c}\\t{c_}\\ndigits :\\t{d}\\t{d_}\\nother bullshit :{ob}\\t{ob_}\")"
   ]
  },
  {
   "cell_type": "code",
   "execution_count": 1,
   "metadata": {},
   "outputs": [
    {
     "name": "stdout",
     "output_type": "stream",
     "text": [
      "\n",
      "\n",
      "\t#--------rEeee--------#\n",
      "\t|Count number of:     |\n",
      "\t|  1. Vowels          |\n",
      "\t|  2. Consonants      |\n",
      "\t|  3. Digits          |\n",
      "\t|  4. Spaces          |\n",
      "\t|  5. Special Chars   |\n",
      "\t|                     |\n",
      "\t|  6. Exit            |\n",
      "\t#---------------------#\n",
      "\n",
      "No. of vowels is: 5\n",
      "\n",
      "No. of consonants is: 6\n",
      "\n",
      "No. of digits is: 1\n",
      "\n",
      "No. of spaces is: 4\n",
      "\n",
      "No. of special characters is4\n"
     ]
    }
   ],
   "source": [
    "s = input(\">>> \")\n",
    "v, c, d, sp, ob = 0, 0, 0, 0, 0\n",
    "for i in s:\n",
    "    if i in \"0123456789\":\n",
    "        d += 1\n",
    "    elif i in \"aeiouAEIOU\":\n",
    "        v += 1\n",
    "    elif i in \"bcdfghjklmnpqrstvwxyzBCDFGHJKLMNPQRSTVWXYZ\":\n",
    "        c += 1\n",
    "    elif i in \" \":\n",
    "        sp += 1\n",
    "    else:\n",
    "        ob += 1\n",
    "\n",
    "print(\"\\n\")\n",
    "print(\"\\t#--------rEeee--------#\")\n",
    "print(\"\\t|Count number of:     |\")\n",
    "print(\"\\t|  1. Vowels          |\")\n",
    "print(\"\\t|  2. Consonants      |\")\n",
    "print(\"\\t|  3. Digits          |\")\n",
    "print(\"\\t|  4. Spaces          |\")\n",
    "print(\"\\t|  5. Special Chars   |\")\n",
    "print(\"\\t|                     |\")\n",
    "print(\"\\t|  6. Exit            |\")\n",
    "print(\"\\t#---------------------#\")\n",
    "while True:\n",
    "    o = input(\"> \")\n",
    "    if o == \"1\":\n",
    "        print(f\"\\nNo. of vowels is: {v}\")\n",
    "    elif o == \"2\":\n",
    "        print(f\"\\nNo. of consonants is: {c}\")\n",
    "    elif o == \"3\":\n",
    "        print(f\"\\nNo. of digits is: {d}\")\n",
    "    elif o == \"4\":\n",
    "        print(f\"\\nNo. of spaces is: {sp}\")\n",
    "    elif o == \"5\":\n",
    "        print(f\"\\nNo. of special characters is{sp}\")\n",
    "    elif o == \"6\":\n",
    "        break\n",
    "    else:\n",
    "        print(\"INVALID INPUT\")"
   ]
  },
  {
   "cell_type": "markdown",
   "metadata": {},
   "source": [
    "### 10 Sept"
   ]
  },
  {
   "cell_type": "code",
   "execution_count": 2,
   "metadata": {},
   "outputs": [
    {
     "name": "stdout",
     "output_type": "stream",
     "text": [
      "a count : 1\n",
      "A count : 0\n"
     ]
    }
   ],
   "source": [
    "s = input(\">>> \")\n",
    "a, A = 0, 0\n",
    "for i in s:\n",
    "    if i == \"a\":\n",
    "        a += 1\n",
    "    elif i == \"A\":\n",
    "        A += 0\n",
    "print(f\"a count : {a}\\nA count : {A}\")"
   ]
  },
  {
   "cell_type": "markdown",
   "metadata": {},
   "source": [
    "### 12 Sept"
   ]
  },
  {
   "cell_type": "code",
   "execution_count": 2,
   "metadata": {},
   "outputs": [
    {
     "name": "stdout",
     "output_type": "stream",
     "text": [
      "If All My Mental Illnesses Faught Eachother, Obesity Would Win         \n"
     ]
    }
   ],
   "source": [
    "s = input(\">>> \")\n",
    "output = s[0].upper()\n",
    "for i in range(1, len(s)):\n",
    "    output += s[i].upper() if s[i-1] == \" \" else s[i].lower()\n",
    "print(output)"
   ]
  },
  {
   "cell_type": "markdown",
   "metadata": {},
   "source": [
    "### 30 Sept"
   ]
  },
  {
   "cell_type": "code",
   "execution_count": 28,
   "metadata": {},
   "outputs": [
    {
     "name": "stdout",
     "output_type": "stream",
     "text": [
      "Item : 1 at index : 0\n",
      "Item : 2 at index : 1\n",
      "Item : 3 at index : 2\n",
      "Item : 4 at index : 3\n",
      "Item : 5 at index : 4\n"
     ]
    }
   ],
   "source": [
    "l = list(eval(input(\"Enter five numbers seperated by comma: \")))\n",
    "for i in range(len(l)):\n",
    "    print(f\"Item : {l[i]} at index : {i}\")"
   ]
  },
  {
   "cell_type": "markdown",
   "metadata": {},
   "source": [
    "## Oct"
   ]
  },
  {
   "cell_type": "markdown",
   "metadata": {},
   "source": [
    "### 1 Oct"
   ]
  },
  {
   "cell_type": "code",
   "execution_count": 1,
   "metadata": {},
   "outputs": [
    {
     "name": "stdout",
     "output_type": "stream",
     "text": [
      "Sum of slice 1 : 66\n",
      "Avg of slice 2 : 9.0\n"
     ]
    }
   ],
   "source": [
    "l = list(eval(input(\"Enter values seperated by comma: \")))\n",
    "l.sort()\n",
    "l1, l2 = l[5:16:2], l[::4]\n",
    "c, d = 0, 0\n",
    "\n",
    "for i in l1:\n",
    "    c += int(i)\n",
    "for j in l2:\n",
    "    d += int(j)\n",
    "\n",
    "print(f\"Sum of slice 1 : {c}\")\n",
    "print(f\"Avg of slice 2 : {d / len(l2)}\")"
   ]
  },
  {
   "cell_type": "markdown",
   "metadata": {},
   "source": [
    "### 3 Oct"
   ]
  },
  {
   "cell_type": "code",
   "execution_count": 1,
   "metadata": {},
   "outputs": [
    {
     "name": "stdout",
     "output_type": "stream",
     "text": [
      "['hello', 'my', 'name', 'is', 'star.stalker9160']\n"
     ]
    }
   ],
   "source": [
    "s = \"   hello     my name is star.stalker9160\"\n",
    "\n",
    "\n",
    "def retarded_function(string):\n",
    "    result = []\n",
    "    current = []\n",
    "    i = 0\n",
    "    while i < len(string):\n",
    "        if string[i].isspace():\n",
    "            if current:\n",
    "                result.append(''.join(current))\n",
    "                current = []\n",
    "            while i < len(string) and string[i].isspace():\n",
    "                i += 1\n",
    "        else:\n",
    "            current.append(string[i])\n",
    "            i += 1\n",
    "    \n",
    "    if current:\n",
    "        result.append(''.join(current))\n",
    "\n",
    "    return result\n",
    "\n",
    "\n",
    "print(retarded_function(s))\n"
   ]
  },
  {
   "cell_type": "code",
   "execution_count": 7,
   "metadata": {},
   "outputs": [
    {
     "name": "stdout",
     "output_type": "stream",
     "text": [
      "[1, 2, 3, 4, 45, 67, 33]\n"
     ]
    }
   ],
   "source": [
    "l = [1, 2, 3, 4]\n",
    "i = input(\">>> \")\n",
    "l.append(int(i)) if i.strip().isdigit() else l.extend(list(eval(i)))\n",
    "print(l)"
   ]
  },
  {
   "cell_type": "markdown",
   "metadata": {},
   "source": [
    "### 7 Oct"
   ]
  },
  {
   "cell_type": "code",
   "execution_count": 25,
   "metadata": {},
   "outputs": [
    {
     "name": "stdout",
     "output_type": "stream",
     "text": [
      "element '1' at index 0\n",
      "element '4' at index 1\n",
      "element '2' at index 2\n",
      "element '7' at index 3\n",
      "element '5' at index 4\n"
     ]
    }
   ],
   "source": [
    "l = list(eval(input(\">>> \")))\n",
    "c = 0\n",
    "while c < len(l):\n",
    "    print(f\"element '{l[c]}' at index {c}\")\n",
    "    c += 1"
   ]
  },
  {
   "cell_type": "code",
   "execution_count": 26,
   "metadata": {},
   "outputs": [
    {
     "name": "stdout",
     "output_type": "stream",
     "text": [
      "amazing Ostriches are Omnipotent\n"
     ]
    }
   ],
   "source": [
    "s = \"amazing ostriches are omnipotent\"\n",
    "out = \"\"\n",
    "checker = True\n",
    "\n",
    "for i in s:\n",
    "    x = i\n",
    "    if i == ' ':\n",
    "        checker = True\n",
    "\n",
    "    if checker and i == 'o':\n",
    "        x = \"O\"\n",
    "        checker = False\n",
    "\n",
    "    out += x\n",
    "\n",
    "print(out)"
   ]
  },
  {
   "cell_type": "markdown",
   "metadata": {},
   "source": [
    "### 9 Oct"
   ]
  },
  {
   "cell_type": "code",
   "execution_count": 19,
   "metadata": {},
   "outputs": [
    {
     "name": "stdout",
     "output_type": "stream",
     "text": [
      "['hi', 2, 'ree', 4, 'rEe', 6]\n"
     ]
    }
   ],
   "source": [
    "l = [1, 2, 3, 4, 5, 6]\n",
    "l[::2] = [\"hi\", \"ree\", \"rEe\"]\n",
    "print(l)"
   ]
  },
  {
   "cell_type": "markdown",
   "metadata": {},
   "source": [
    "### 10 Oct"
   ]
  },
  {
   "cell_type": "code",
   "execution_count": 3,
   "metadata": {},
   "outputs": [
    {
     "name": "stdout",
     "output_type": "stream",
     "text": [
      "sorted list - [1, 3, 3, 4, 6]\n",
      "reversed list - [6, 4, 3, 3, 1]\n"
     ]
    }
   ],
   "source": [
    "l = list(eval(input(\">>> \")))\n",
    "l1, l2 = l, l\n",
    "l.sort()\n",
    "print(f\"sorted list - {l}\")\n",
    "l.reverse()\n",
    "print(f\"reversed list - {l}\")"
   ]
  },
  {
   "cell_type": "code",
   "execution_count": 4,
   "metadata": {},
   "outputs": [
    {
     "name": "stdout",
     "output_type": "stream",
     "text": [
      "average = 3.2\n"
     ]
    }
   ],
   "source": [
    "l = list(eval(input(\">>> \")))\n",
    "print(f\"average = {sum(l)/len(l)}\")"
   ]
  },
  {
   "cell_type": "code",
   "execution_count": 17,
   "metadata": {},
   "outputs": [
    {
     "name": "stdout",
     "output_type": "stream",
     "text": [
      "biggest element in 1st half\n"
     ]
    }
   ],
   "source": [
    "import math\n",
    "l = list(eval(input(\">>> \")))\n",
    "if len(l) % 2 == 0:\n",
    "    print(\"biggest element in 1st half\") if l.index(max(l)) <= len(l) / 2 else print(\"biggest element in 2nd half\")\n",
    "else:\n",
    "    mid = math.ceil(len(l)/2)\n",
    "    if l.index(max(l))+1 == mid:\n",
    "        print(\"biggest element exactly in the middle\")\n",
    "    elif l.index(max(l))+1 < mid:\n",
    "        print(\"biggest element in 1st half\")\n",
    "    elif l.index(max(l))+1 > mid:\n",
    "        print(\"biggest element in 2nd half\")"
   ]
  },
  {
   "cell_type": "code",
   "execution_count": 2,
   "metadata": {},
   "outputs": [
    {
     "name": "stdout",
     "output_type": "stream",
     "text": [
      "item '55' does not exist in the list\n"
     ]
    }
   ],
   "source": [
    "l = list(eval(input(\"List: \")))\n",
    "e = input(\"Element to search for: \")\n",
    "found = False\n",
    "for i in range(len(l)):\n",
    "    if str(l[i]) == e:\n",
    "        print(f\"item '{e}' found at index {i}\")\n",
    "        found = True\n",
    "if not found:\n",
    "    print(f\"item '{e}' does not exist in the list\")"
   ]
  },
  {
   "cell_type": "code",
   "execution_count": 4,
   "metadata": {},
   "outputs": [
    {
     "name": "stdout",
     "output_type": "stream",
     "text": [
      "item '0' does not exist in the list\n"
     ]
    }
   ],
   "source": [
    "l = list(eval(input(\"List: \")))\n",
    "e = input(\"Element: \")\n",
    "c = 0\n",
    "for i in l:\n",
    "    if str(i) == e:\n",
    "        c += 1\n",
    "print(f\"item '{e}' does not exist in the list\") if c == 0 else print(f\"item '{e}' has a frequency of {c}\")"
   ]
  },
  {
   "cell_type": "code",
   "execution_count": 7,
   "metadata": {},
   "outputs": [
    {
     "name": "stdout",
     "output_type": "stream",
     "text": [
      "2, 1, 0, 3\n"
     ]
    }
   ],
   "source": [
    "l = list(eval(input(\">>> \")))\n",
    "\n",
    "if len(l) % 2 != 0:\n",
    "    e = eval(input(\"pls add another element: \"))\n",
    "    l[len(l)-1] = e\n",
    "\n",
    "swapped = [0] * len(l)\n",
    "for i in range(0, len(l), 2):\n",
    "    swapped[i] = l[i + 1]\n",
    "    swapped[i + 1] = l[i]\n",
    "\n",
    "for i in range(len(swapped)):\n",
    "    if i > 0:\n",
    "        print(\", \", end=\"\")\n",
    "    print(swapped[i], end=\"\")\n",
    "print()"
   ]
  }
 ],
 "metadata": {
  "kernelspec": {
   "display_name": "Python 3",
   "language": "python",
   "name": "python3"
  },
  "language_info": {
   "codemirror_mode": {
    "name": "ipython",
    "version": 3
   },
   "file_extension": ".py",
   "mimetype": "text/x-python",
   "name": "python",
   "nbconvert_exporter": "python",
   "pygments_lexer": "ipython3",
   "version": "3.13.0"
  }
 },
 "nbformat": 4,
 "nbformat_minor": 2
}
