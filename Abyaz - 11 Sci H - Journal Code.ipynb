{
 "cells": [
  {
   "cell_type": "markdown",
   "metadata": {},
   "source": [
    "# Abyaz - Journal Code"
   ]
  },
  {
   "cell_type": "markdown",
   "metadata": {},
   "source": [
    "## Summer Assignment Work"
   ]
  },
  {
   "cell_type": "code",
   "execution_count": null,
   "metadata": {},
   "outputs": [
    {
     "name": "stdout",
     "output_type": "stream",
     "text": [
      "Hello Abyaz!\n"
     ]
    }
   ],
   "source": [
    "name = input(\"Enter your name: \")\n",
    "print(f\"Hello {name.capitalize()}!\")"
   ]
  },
  {
   "cell_type": "code",
   "execution_count": null,
   "metadata": {},
   "outputs": [
    {
     "name": "stdout",
     "output_type": "stream",
     "text": [
      "Largest number: 6.0\n",
      "Smallest number: 5.0\n"
     ]
    }
   ],
   "source": [
    "a = set(eval(input(\"Enter two reebers seperated by a comma: \")))\n",
    "largest, smallest = float(max(a)), float(min(a))\n",
    "if largest != smallest:\n",
    "    print(f\"Largest number: {largest}\\nSmallest number: {smallest}\")\n",
    "else:\n",
    "    print(f\"They are equal\")"
   ]
  },
  {
   "cell_type": "code",
   "execution_count": null,
   "metadata": {},
   "outputs": [
    {
     "name": "stdout",
     "output_type": "stream",
     "text": [
      "Final answer: 61\n"
     ]
    }
   ],
   "source": [
    "x = int(input(\"Enter the value of x: \"))\n",
    "n = int(input(\"Enter the value of n: \"))\n",
    "ans = 1\n",
    "for i in range(2, n+1):\n",
    "    ans += x**i\n",
    "print(f\"Final answer: {ans}\")"
   ]
  },
  {
   "cell_type": "code",
   "execution_count": null,
   "metadata": {},
   "outputs": [
    {
     "name": "stdout",
     "output_type": "stream",
     "text": [
      "Final answer: 6.0\n"
     ]
    }
   ],
   "source": [
    "def fac(n):\n",
    "    a = 1\n",
    "    for i in range(n, 1, -1):\n",
    "        a * i\n",
    "    return a\n",
    "\n",
    "x = int(input(\"Enter the value of x: \"))\n",
    "n = int(input(\"Enter the value of n: \"))\n",
    "ans = 0\n",
    "for i in range(1, n+1):\n",
    "    if i % 2 == 0:\n",
    "        ans -= (x**i)/fac(i)\n",
    "    else:\n",
    "        ans += (x**i)/fac(i)\n",
    "         \n",
    "print(f\"Final answer: {ans}\")"
   ]
  },
  {
   "cell_type": "code",
   "execution_count": null,
   "metadata": {},
   "outputs": [
    {
     "name": "stdout",
     "output_type": "stream",
     "text": [
      "\t#--------rEeee--------#\n",
      "\t|Check if number is:  |\n",
      "\t|  1. Perfect         |\n",
      "\t|  2. Armstrong       |\n",
      "\t|  3. Palindrome      |\n",
      "\t#---------------------#\n",
      "\t12321 is a palindrome\n"
     ]
    }
   ],
   "source": [
    "while True:\n",
    "    print(\"\\t#--------rEeee--------#\")\n",
    "    print(\"\\t|Check if number is:  |\")\n",
    "    print(\"\\t|  1. Perfect         |\")\n",
    "    print(\"\\t|  2. Armstrong       |\")\n",
    "    print(\"\\t|  3. Palindrome      |\")\n",
    "    print(\"\\t#---------------------#\")\n",
    "    ree = int(input(\"\\t>>> \"))\n",
    "    if ree == 1:\n",
    "        n = int(input(\"\\n\\tEnter number: \"))\n",
    "        l = 1\n",
    "        for i in range(2,n):\n",
    "            if n%i == 0:\n",
    "                l+=i\n",
    "        if l == n:\n",
    "            print(f\"\\t{n} is perfect\")\n",
    "        else:\n",
    "            print(f\"\\t{n} is not perfect\")\n",
    "        break\n",
    "    elif ree == 2:\n",
    "        n = input(\"\\n\\tEnter number: \")\n",
    "        pow_ = len(n)\n",
    "        l = 0\n",
    "        for i in n:\n",
    "            l += int(i)**pow_\n",
    "        if l == int(n):\n",
    "            print(f\"\\t{n} is an armstrong number\")\n",
    "        else:\n",
    "            print(f\"\\t{n} is not an armstrong number\")\n",
    "        break\n",
    "    elif ree == 3:\n",
    "        n = input(\"\\n\\tEnter number: \")\n",
    "        if len(n) == 1:\n",
    "            print(f\"\\t{n} is a palindrome\")\n",
    "            break\n",
    "        t = int(n)\n",
    "        l = 0\n",
    "        n = int(n)\n",
    "        for i in range(len(str(n)), 0, -1):\n",
    "            a = n%10\n",
    "            n //= 10\n",
    "            l *= 10\n",
    "            l += a\n",
    "        if l == t:\n",
    "            print(f\"\\t{t} is a palindrome\")\n",
    "        else:\n",
    "            print(f\"\\t{t} is not a palindrome\")\n",
    "        break\n",
    "    else:\n",
    "        print(\"INVALID INPUT\\nPlease try again.\")\n",
    "        print(\"\\n\\n___________________________\\n\\n\")"
   ]
  },
  {
   "cell_type": "code",
   "execution_count": null,
   "metadata": {},
   "outputs": [
    {
     "name": "stdout",
     "output_type": "stream",
     "text": [
      "4 is not prime\n"
     ]
    }
   ],
   "source": [
    "import math\n",
    "n = int(input(\"Enter number: \"))\n",
    "isPrime = True\n",
    "if n == 1:\n",
    "    print(\"1 is neither prime nor composite\")\n",
    "elif n == 2:\n",
    "    print(\"2 is prime\")\n",
    "else:\n",
    "    for i in range(2, math.ceil(math.sqrt(n))+1):\n",
    "        if n % i == 0:\n",
    "            isPrime = False\n",
    "            break\n",
    "    print(f\"{n} is prime\") if isPrime else print(f\"{n} is not prime\")"
   ]
  },
  {
   "cell_type": "code",
   "execution_count": null,
   "metadata": {},
   "outputs": [
    {
     "name": "stdout",
     "output_type": "stream",
     "text": [
      "0 1 1 2 3 "
     ]
    }
   ],
   "source": [
    "n = int(input(\"Enter the Enter the number of rows: \"))\n",
    "a, b = 0, 1\n",
    "for i in range(n):\n",
    "    print(a, end = \" \")\n",
    "    a, b = b, a + b"
   ]
  },
  {
   "cell_type": "code",
   "execution_count": null,
   "metadata": {},
   "outputs": [
    {
     "name": "stdout",
     "output_type": "stream",
     "text": [
      "\tPATTERN 1\n",
      "*\n",
      "**\n",
      "***\n",
      "****\n",
      "*****\n",
      "\tPATTERN 2\n",
      "1 2 3 4 5 \n",
      "1 2 3 4 \n",
      "1 2 3 \n",
      "1 2 \n",
      "1 \n",
      "\tPATTERN 3\n",
      "A B C D E \n",
      "A B C D \n",
      "A B C \n",
      "A B \n",
      "A \n"
     ]
    }
   ],
   "source": [
    "print(\"\\tPATTERN 1\")\n",
    "n = int(input(\"Enter the number of rows:\"))\n",
    "for i in range(1, n+1):\n",
    "    print(\"*\"*i)\n",
    "\n",
    "print(\"\\tPATTERN 2\")\n",
    "n = int(input(\"Enter the number of rows:\"))\n",
    "for i in range(n, 0, -1):\n",
    "    for j in range(1, n+1):\n",
    "        print(j, end = \" \")\n",
    "    print()\n",
    "    n -= 1 \n",
    "\n",
    "print(\"\\tPATTERN 3\")\n",
    "n = int(input(\"Enter the number of rows:\"))\n",
    "for i in range(1, n+1):\n",
    "    r = 65 + n\n",
    "    for j in range(65, r):\n",
    "        print(chr(j), end = \" \")\n",
    "    print()\n",
    "    n -= 1"
   ]
  },
  {
   "cell_type": "code",
   "execution_count": null,
   "metadata": {},
   "outputs": [
    {
     "name": "stdout",
     "output_type": "stream",
     "text": [
      "; is a special digit\n"
     ]
    }
   ],
   "source": [
    "n = input(\"Enter character: \")\n",
    "c = n[0]\n",
    "if ord(c) in range(48, 58):\n",
    "    print(f\"{c} is a digit\")\n",
    "elif ord(c) in range(65, 91):\n",
    "    print(f\"{c} is a uppercase character\")\n",
    "elif ord(c) in range(97, 123):\n",
    "    print(f\"{c} is a lowercase character\")\n",
    "else:\n",
    "    print(f\"{c} is a special digit\")"
   ]
  },
  {
   "cell_type": "code",
   "execution_count": null,
   "metadata": {},
   "outputs": [
    {
     "name": "stdout",
     "output_type": "stream",
     "text": [
      "Grade is B\n"
     ]
    }
   ],
   "source": [
    "g = float(input(\"Enter marks out of 100: \"))\n",
    "o = \"F\"\n",
    "if g >= 90:\n",
    "    o = \"A\"\n",
    "elif g >= 80:\n",
    "    o = \"B\"\n",
    "elif g >= 70:\n",
    "    o = \"C\"\n",
    "elif g >= 60:\n",
    "    o = \"D\"\n",
    "elif g >= 50:\n",
    "    o = \"E\"\n",
    "print(f\"Grade is {o}\")"
   ]
  },
  {
   "cell_type": "code",
   "execution_count": null,
   "metadata": {},
   "outputs": [
    {
     "name": "stdout",
     "output_type": "stream",
     "text": [
      "10 * 1 = 10\n",
      "10 * 2 = 20\n",
      "10 * 3 = 30\n",
      "10 * 4 = 40\n",
      "10 * 5 = 50\n",
      "10 * 6 = 60\n",
      "10 * 7 = 70\n",
      "10 * 8 = 80\n",
      "10 * 9 = 90\n",
      "10 * 10 = 100\n"
     ]
    }
   ],
   "source": [
    "n = int(input(\"Enter the number of rows: \"))\n",
    "for i in range(1, n+1):\n",
    "    print(f\"10 * {i} = {10*i}\")"
   ]
  },
  {
   "cell_type": "code",
   "execution_count": null,
   "metadata": {},
   "outputs": [
    {
     "name": "stdout",
     "output_type": "stream",
     "text": [
      "The date is valid.\n"
     ]
    }
   ],
   "source": [
    "year = int(input(\"Enter year: \"))\n",
    "month = int(input(\"Enter month: \"))\n",
    "day = int(input(\"Enter day: \"))\n",
    "\n",
    "leap_year = (year % 4 == 0 and year % 100 != 0) or (year % 400 == 0)\n",
    "\n",
    "if month == 2:\n",
    "    max_days = 29 if leap_year else 28\n",
    "elif month == 4 or month == 6 or month == 9 or month == 11:\n",
    "    max_days = 30\n",
    "else:\n",
    "    max_days = 31\n",
    "\n",
    "if day <= max_days:\n",
    "    print(\"The date is valid.\")\n",
    "else:\n",
    "    print(\"The date is invalid.\")"
   ]
  },
  {
   "cell_type": "code",
   "execution_count": null,
   "metadata": {},
   "outputs": [
    {
     "name": "stdout",
     "output_type": "stream",
     "text": [
      "\t#--------rEeee--------#\n",
      "\t|Find :               |\n",
      "\t|  1. Factorial       |\n",
      "\t|  2. Sum of digits   |\n",
      "\t|  3. Quit            |\n",
      "\t#---------------------#\n",
      "\tSum of all digits is: 6\n"
     ]
    }
   ],
   "source": [
    "while True:\n",
    "    print(\"\\t#--------rEeee--------#\")\n",
    "    print(\"\\t|Find :               |\")\n",
    "    print(\"\\t|  1. Factorial       |\")\n",
    "    print(\"\\t|  2. Sum of digits   |\")\n",
    "    print(\"\\t|  3. Quit            |\")\n",
    "    print(\"\\t#---------------------#\")\n",
    "    ree = int(input(\"\\t>>> \"))\n",
    "    if ree == 1:\n",
    "        n = int(input(\"\\n\\tEnter number: \"))\n",
    "        ans = 1\n",
    "        for i in range(n, 1, -1):\n",
    "            ans *= i\n",
    "        print(f\"\\t{n}! = {ans}\")\n",
    "        break\n",
    "    elif ree == 2:\n",
    "        n = input(\"\\n\\tEnter number: \")\n",
    "        ans = 0\n",
    "        for i in n:\n",
    "            ans += int(i)\n",
    "        print(f\"\\tSum of all digits is: {ans}\")\n",
    "        break\n",
    "    elif ree == 3:\n",
    "        print(\"Quitting\")\n",
    "        break\n",
    "    else:\n",
    "        print(\"\\tINVALID INPUT\\t\\nPlease try again.\")\n",
    "        print(\"\\t\\n\\n___________________________\\n\\n\")"
   ]
  },
  {
   "cell_type": "code",
   "execution_count": null,
   "metadata": {},
   "outputs": [
    {
     "name": "stdout",
     "output_type": "stream",
     "text": [
      "Sum of even numbers until 10 = 30\n",
      "Average of even numbers until 10 = 6.0\n",
      "\n",
      "Sum of odd numbers until 10 = 25\n",
      "Average of odd numbers until 10 = 5.0\n",
      "\n",
      "Sum of prime numbers until 10 = 17\n",
      "Average of prime numbers until 10 = 4.25\n",
      "\n"
     ]
    }
   ],
   "source": [
    "n = int(input(\"Enter number: \"))\n",
    "\n",
    "SO, SE, SP, CO, CE, CP = 0, 0, 0, 0, 0, 0\n",
    "\n",
    "for num in range(1, n + 1):\n",
    "    if num % 2 == 0:\n",
    "        SE += num\n",
    "        CE += 1\n",
    "    else:\n",
    "        SO += num\n",
    "        CO += 1\n",
    "    \n",
    "    if num > 1:\n",
    "        is_prime = True\n",
    "        for i in range(2, int(num**0.5) + 1):\n",
    "            if num % i == 0:\n",
    "                is_prime = False\n",
    "                break\n",
    "        if is_prime:\n",
    "            SP += num\n",
    "            CP += 1\n",
    "\n",
    "AO = SO / CO if CO > 0 else 0\n",
    "AE = SE / CE if CE > 0 else 0\n",
    "AP = SP / CP if CP > 0 else 0\n",
    "\n",
    "print(f\"Sum of even numbers until {n} = {SE}\\nAverage of even numbers until {n} = {AE}\\n\")\n",
    "print(f\"Sum of odd numbers until {n} = {SO}\\nAverage of odd numbers until {n} = {AO}\\n\")\n",
    "print(f\"Sum of prime numbers until {n} = {SP}\\nAverage of prime numbers until {n} = {AP}\\n\")"
   ]
  },
  {
   "cell_type": "code",
   "execution_count": null,
   "metadata": {},
   "outputs": [
    {
     "name": "stdout",
     "output_type": "stream",
     "text": [
      "Sum of prime numbers between 0 and 10 is 17\n"
     ]
    }
   ],
   "source": [
    "a = int(input(\"Start of range: \"))\n",
    "b = int(input(\"End of range: \"))\n",
    "a, b = (a, b) if a > b else (b, a)\n",
    "ans = 0\n",
    "for num in range(b, a + 1):\n",
    "    if num > 1:\n",
    "        is_prime = True\n",
    "        for i in range(2, int(num**0.5) + 1):\n",
    "            if num % i == 0:\n",
    "                is_prime = False\n",
    "                break\n",
    "        if is_prime:\n",
    "            ans += num\n",
    "print(f\"Sum of prime numbers between {b} and {a} is {ans}\")"
   ]
  },
  {
   "cell_type": "code",
   "execution_count": null,
   "metadata": {},
   "outputs": [
    {
     "name": "stdout",
     "output_type": "stream",
     "text": [
      "The roots are real and different:\n",
      "Root 1 = 1.0\n",
      "Root 2 = -1.0\n"
     ]
    }
   ],
   "source": [
    "import math\n",
    "\n",
    "a = float(input(\"Enter coefficient a: \"))\n",
    "b = float(input(\"Enter coefficient b: \"))\n",
    "c = float(input(\"Enter coefficient c: \"))\n",
    "\n",
    "D = b**2 - 4*a*c\n",
    "\n",
    "if D >= 0:\n",
    "    rootA = (-b + math.sqrt(D)) / (2*a)\n",
    "    rootB = (-b - math.sqrt(D)) / (2*a)\n",
    "\n",
    "    if D > 0:\n",
    "        print(f\"The roots are real and different:\\nRoot 1 = {rootA}\\nRoot 2 = {rootB}\")\n",
    "    else:\n",
    "        print(f\"The roots are real and the same:\\nRoot = {rootA}\")\n",
    "else:\n",
    "    print(\"No real roots\")"
   ]
  },
  {
   "cell_type": "markdown",
   "metadata": {},
   "source": [
    "## String Manipulation - Part 1"
   ]
  },
  {
   "cell_type": "code",
   "execution_count": 1,
   "metadata": {},
   "outputs": [
    {
     "name": "stdout",
     "output_type": "stream",
     "text": [
      "number of times 'a' appears is 1\n"
     ]
    }
   ],
   "source": [
    "s = input(\">>> \")\n",
    "a = 0\n",
    "for i in s:\n",
    "    if i == 'a':\n",
    "        a += 1\n",
    "print(f\"number of times 'a' appears is {a}\")"
   ]
  },
  {
   "cell_type": "code",
   "execution_count": 13,
   "metadata": {},
   "outputs": [
    {
     "name": "stdout",
     "output_type": "stream",
     "text": [
      "a\n",
      "bb\n",
      "ccc\n",
      "\n",
      "a\n",
      "ab\n",
      "abc\n",
      "\n",
      "abc\n",
      "ab\n",
      "a\n",
      "\n",
      "cba\n",
      "cb\n",
      "c\n",
      "\n",
      "a\n",
      "abab\n",
      "abcabcabc\n"
     ]
    }
   ],
   "source": [
    "s = input(\">>> \")\n",
    "\n",
    "# pattern 1\n",
    "for i in range(len(s)):\n",
    "    print(s[i] * (i+1))\n",
    "\n",
    "print()\n",
    "\n",
    "# pattern 2\n",
    "for i in range(len(s)):\n",
    "    print(s[:i+1])\n",
    "\n",
    "print()\n",
    "\n",
    "# pattern 3\n",
    "for i in range(len(s), 0, -1):\n",
    "    print(s[:i])\n",
    "\n",
    "print()\n",
    "\n",
    "# pattern 4\n",
    "for i in range(len(s), 0, -1):\n",
    "    print(s[::-1][:i])\n",
    "\n",
    "print()\n",
    "\n",
    "# pattern 5\n",
    "for i in range(1, len(s) + 1):\n",
    "    print(s[:i] * i)"
   ]
  },
  {
   "cell_type": "code",
   "execution_count": 1,
   "metadata": {},
   "outputs": [
    {
     "name": "stdout",
     "output_type": "stream",
     "text": [
      "number of words in sentence: 6\n"
     ]
    }
   ],
   "source": [
    "w = input(\">>> \").split()\n",
    "print(f\"number of words in sentence: {len(w)}\")"
   ]
  },
  {
   "cell_type": "code",
   "execution_count": 2,
   "metadata": {},
   "outputs": [
    {
     "name": "stdout",
     "output_type": "stream",
     "text": [
      "number of vowels in given input is 11\n"
     ]
    }
   ],
   "source": [
    "s = input(\">>> \")\n",
    "v = 0\n",
    "for i in s:\n",
    "    if i in \"AEIOUaeiou\":\n",
    "        v += 1\n",
    "print(f\"number of vowels in given input is {v}\")"
   ]
  },
  {
   "cell_type": "code",
   "execution_count": 3,
   "metadata": {},
   "outputs": [
    {
     "name": "stdout",
     "output_type": "stream",
     "text": [
      "'mom' is a palindrome\n"
     ]
    }
   ],
   "source": [
    "s = input(\">>> \")\n",
    "if s == s[::-1]:\n",
    "    print(f\"'{s}' is a palindrome\")\n",
    "else:\n",
    "    print(f\"'{s}' is not a palindrome\")"
   ]
  },
  {
   "cell_type": "code",
   "execution_count": 4,
   "metadata": {},
   "outputs": [
    {
     "name": "stdout",
     "output_type": "stream",
     "text": [
      "yes, word is in sentence\n"
     ]
    }
   ],
   "source": [
    "w = input(\"Enter word: \")\n",
    "s = input(\"Enter sentence: \")\n",
    "if w in s:\n",
    "    print(f\"yes, word is in sentence\")\n",
    "else:\n",
    "    print(f\"no, word is not in sentence\")"
   ]
  },
  {
   "cell_type": "code",
   "execution_count": 17,
   "metadata": {},
   "outputs": [
    {
     "name": "stdout",
     "output_type": "stream",
     "text": [
      "The largest string is: asdfasdf\n"
     ]
    }
   ],
   "source": [
    "n = int(input(\"Enter n: \"))\n",
    "l = \"\"\n",
    "\n",
    "for i in range(n):\n",
    "    c = input(f\"{i+1}. \")\n",
    "    if len(c) > len(l):\n",
    "        l = c\n",
    "\n",
    "print(f\"The largest string is: {l}\")"
   ]
  },
  {
   "cell_type": "code",
   "execution_count": 18,
   "metadata": {},
   "outputs": [
    {
     "name": "stdout",
     "output_type": "stream",
     "text": [
      "The shortest string is: j\n"
     ]
    }
   ],
   "source": [
    "n = int(input(\"Enter the number of strings: \"))\n",
    "s = None\n",
    "\n",
    "for i in range(n):\n",
    "    c = input(f\"{i+1}. \")\n",
    "    if s is None or len(c) < len(s):\n",
    "        s = c\n",
    "\n",
    "print(f\"The shortest string is: {s}\")"
   ]
  },
  {
   "cell_type": "markdown",
   "metadata": {},
   "source": [
    "## String Manipulation - Part 2"
   ]
  },
  {
   "cell_type": "code",
   "execution_count": 1,
   "metadata": {},
   "outputs": [
    {
     "name": "stdout",
     "output_type": "stream",
     "text": [
      "alphabets - 24\n",
      "digits - 4\n",
      "special characters - 7\n"
     ]
    }
   ],
   "source": [
    "s = input(\">>> \")\n",
    "a, d, ob = 0, 0, 0\n",
    "for i in s:\n",
    "    if i in \"0123456789\":\n",
    "        d += 1\n",
    "    elif i in \"abcdefghijklmnopqrstuvwxyzABCDEFGHIJKLMNOPQRSTUVWXYZ\":\n",
    "        a += 1\n",
    "    else:\n",
    "        ob += 1\n",
    "\n",
    "print(f\"alphabets - {a}\\ndigits - {d}\\nspecial characters - {ob}\")"
   ]
  },
  {
   "cell_type": "code",
   "execution_count": 1,
   "metadata": {},
   "outputs": [
    {
     "name": "stdout",
     "output_type": "stream",
     "text": [
      "output string: tHIs shOULd wORK INt hEORY\n"
     ]
    }
   ],
   "source": [
    "s = input(\">>> \")\n",
    "o = \"\"\n",
    "for i in s:\n",
    "    if \"a\" <= i <= \"z\":\n",
    "        o += chr(ord(i) - 32)\n",
    "    elif \"A\" <= i <= \"Z\":\n",
    "        o += chr(ord(i) + 32)\n",
    "    else:\n",
    "         o += i\n",
    "print(f\"output string: {o}\")"
   ]
  },
  {
   "cell_type": "code",
   "execution_count": 5,
   "metadata": {},
   "outputs": [
    {
     "name": "stdout",
     "output_type": "stream",
     "text": [
      "output string: This Is Atest\n"
     ]
    }
   ],
   "source": [
    "s = input(\">>> \")\n",
    "o = chr(ord(s[0]) - 32)\n",
    "\n",
    "for i in range(1, len(s)):\n",
    "    if s[i] != \" \" and s[i-1] == \" \":\n",
    "        o += chr(ord(s[i]) - 32)\n",
    "    else:\n",
    "        o += s[i]\n",
    "\n",
    "print(f\"output string: {o}\")"
   ]
  },
  {
   "cell_type": "code",
   "execution_count": 5,
   "metadata": {},
   "outputs": [
    {
     "name": "stdout",
     "output_type": "stream",
     "text": [
      "Extracted digits : 5 + 6 + 7 + 8\n",
      "Sum : 26\n"
     ]
    }
   ],
   "source": [
    "s = input(\">>> \")\n",
    "d = \"\"\n",
    "s_ = 0\n",
    "for i in s:\n",
    "    if i in \"0123456789\":\n",
    "        d += f\"{i} + \"\n",
    "        s_ += int(i)\n",
    "print(f\"Extracted digits : {d[:-3]}\\nSum : {s_}\")"
   ]
  },
  {
   "cell_type": "code",
   "execution_count": 6,
   "metadata": {},
   "outputs": [
    {
     "name": "stdout",
     "output_type": "stream",
     "text": [
      "hello\n",
      "my\n",
      "name\n",
      "is\n",
      "star.stalker9160\n"
     ]
    }
   ],
   "source": [
    "s = input(\">>> \")\n",
    "for i in s.split():\n",
    "    print(i)"
   ]
  },
  {
   "cell_type": "code",
   "execution_count": 9,
   "metadata": {},
   "outputs": [
    {
     "name": "stdout",
     "output_type": "stream",
     "text": [
      "number of times 'brother' appears is 3\n"
     ]
    }
   ],
   "source": [
    "t = input(\"Enter text: \")\n",
    "w = input(\"Enter word: \")\n",
    "c = 0\n",
    "\n",
    "for i in t.split():\n",
    "    if i == w:\n",
    "        c += 1\n",
    "\n",
    "print(f\"number of times '{w}' appears is {c}\")"
   ]
  },
  {
   "cell_type": "code",
   "execution_count": 5,
   "metadata": {},
   "outputs": [
    {
     "name": "stdout",
     "output_type": "stream",
     "text": [
      "hello my name is abyaz\n"
     ]
    }
   ],
   "source": [
    "s = input(\">>> \").split()\n",
    "o = input(\"Pick word to replace: \")\n",
    "n = input(f\"Pick word to replace '{o}' with: \")\n",
    "\n",
    "o_ = \"\"\n",
    "for i in s:\n",
    "    if i == o:\n",
    "        o_ += f\"{n} \"\n",
    "    else:\n",
    "        o_ += f\"{i} \"\n",
    "\n",
    "print(o_[:-1])"
   ]
  },
  {
   "cell_type": "code",
   "execution_count": 7,
   "metadata": {},
   "outputs": [
    {
     "name": "stdout",
     "output_type": "stream",
     "text": [
      "hello my name is abyaz\n"
     ]
    }
   ],
   "source": [
    "s = input(\">>> \").split()\n",
    "w = input(\"Pick word to replace: \")\n",
    "\n",
    "o_ = \"\"\n",
    "for i in s:\n",
    "    if i == w:\n",
    "        o_ += f\"{w[::-1]} \"\n",
    "    else:\n",
    "        o_ += f\"{i} \"\n",
    "\n",
    "print(o_[:-1])"
   ]
  },
  {
   "cell_type": "markdown",
   "metadata": {},
   "source": [
    "## Lists - Part 1"
   ]
  },
  {
   "cell_type": "code",
   "execution_count": 1,
   "metadata": {},
   "outputs": [
    {
     "name": "stdout",
     "output_type": "stream",
     "text": [
      "Sum of even: 6\n",
      "Sum of odd : 9\n"
     ]
    }
   ],
   "source": [
    "l = list(eval(input(\">>> \")))\n",
    "so, se = 0, 0\n",
    "for i in l:\n",
    "    if i % 2 == 0:\n",
    "        se += i\n",
    "    else:\n",
    "        so += i\n",
    "print(f\"Sum of even: {se}\\nSum of odd : {so}\")"
   ]
  },
  {
   "cell_type": "code",
   "execution_count": 2,
   "metadata": {},
   "outputs": [
    {
     "name": "stdout",
     "output_type": "stream",
     "text": [
      "element '3' found in list\n"
     ]
    }
   ],
   "source": [
    "l = list(eval(input(\">>> \")))\n",
    "c = input(\"Enter search term: \")\n",
    "for j in l:\n",
    "    if c == str(j):\n",
    "        print(f\"element '{c}' found in list\")\n",
    "        break\n",
    "else:\n",
    "    print(f\"element '{c}' not found in list\")"
   ]
  },
  {
   "cell_type": "code",
   "execution_count": 6,
   "metadata": {},
   "outputs": [
    {
     "name": "stdout",
     "output_type": "stream",
     "text": [
      "[6, 5, 4, 3, 2, 1]\n"
     ]
    }
   ],
   "source": [
    "l = list(eval(input(\">>> \")))\n",
    "\n",
    "left = 0\n",
    "right = len(l) - 1\n",
    "\n",
    "while left < right:\n",
    "    l[left], l[right] = l[right], l[left]\n",
    "    left += 1\n",
    "    right -= 1\n",
    "\n",
    "print(l)"
   ]
  },
  {
   "cell_type": "code",
   "execution_count": 9,
   "metadata": {},
   "outputs": [
    {
     "name": "stdout",
     "output_type": "stream",
     "text": [
      "list has odd number of elements\n",
      "[2, 1, 4, 3, 6, 5]\n"
     ]
    }
   ],
   "source": [
    "l = list(eval(input(\">>> \")))\n",
    "if len(l) % 2 != 0:\n",
    "    print(\"list has odd number of elements\")\n",
    "    l.append(eval(input(\"Please enter one more element: \")))\n",
    "\n",
    "for i in range(0, len(l) - 1, 2):\n",
    "    l[i], l[i + 1] = l[i + 1], l[i]\n",
    "\n",
    "print(l)"
   ]
  },
  {
   "cell_type": "code",
   "execution_count": 2,
   "metadata": {},
   "outputs": [
    {
     "name": "stdout",
     "output_type": "stream",
     "text": [
      "List after swapping halves: [4, 5, 3, 1, 2]\n"
     ]
    }
   ],
   "source": [
    "l = list(eval(input(\">>> \")))\n",
    "\n",
    "mid = len(l) // 2\n",
    "\n",
    "if len(l) % 2 == 0:\n",
    "    temp = l[:mid]\n",
    "    l[:mid] = l[mid:]\n",
    "    l[mid:] = temp\n",
    "else:\n",
    "    te = l[:mid]\n",
    "    l[:mid] = l[mid + 1:]\n",
    "    l[mid + 1:] = temp\n",
    "\n",
    "print(l)"
   ]
  },
  {
   "cell_type": "code",
   "execution_count": 4,
   "metadata": {},
   "outputs": [
    {
     "name": "stdout",
     "output_type": "stream",
     "text": [
      "[1, 0, 1, 0, 1, 0]\n"
     ]
    }
   ],
   "source": [
    "l = list(eval(input(\">>> \")))\n",
    "o = []\n",
    "for i in l:\n",
    "    o.append(i % 2)\n",
    "print(o)"
   ]
  },
  {
   "cell_type": "code",
   "execution_count": 4,
   "metadata": {},
   "outputs": [
    {
     "name": "stdout",
     "output_type": "stream",
     "text": [
      "odd numbers : [1, 3, 5]\n",
      "even numbers: [2, 4, 6]\n"
     ]
    }
   ],
   "source": [
    "l = list(eval(input(\">>> \")))\n",
    "lo, le = [], []\n",
    "for i in l:\n",
    "    lo.append(i) if i % 2 != 0 else le.append(i)\n",
    "print(f\"odd numbers : {lo}\\neven numbers: {le}\")"
   ]
  },
  {
   "cell_type": "code",
   "execution_count": 7,
   "metadata": {},
   "outputs": [
    {
     "name": "stdout",
     "output_type": "stream",
     "text": [
      "list of primes: [2, 3, 5, 7]\n"
     ]
    }
   ],
   "source": [
    "import math\n",
    "l = list(eval(input(\">>> \")))\n",
    "p = []\n",
    "for n in l:\n",
    "    isPrime = True\n",
    "    if n == 1:\n",
    "        continue\n",
    "    elif n == 2:\n",
    "        p.append(2)\n",
    "    else:\n",
    "        for i in range(2, math.ceil(math.sqrt(n))+1):\n",
    "            if n % i == 0:\n",
    "                isPrime = False\n",
    "                break\n",
    "        p.append(n) if isPrime else ...\n",
    "print(f\"list of primes: {p}\")"
   ]
  },
  {
   "cell_type": "code",
   "execution_count": 9,
   "metadata": {},
   "outputs": [
    {
     "name": "stdout",
     "output_type": "stream",
     "text": [
      "list of perfect numbers: [1, 6]\n"
     ]
    }
   ],
   "source": [
    "l_ = list(eval(input(\">>> \")))\n",
    "p = []\n",
    "\n",
    "for n in l_:\n",
    "    l = 1\n",
    "    for i in range(2,n):\n",
    "        if n%i == 0:\n",
    "            l+=i\n",
    "    if l == n:\n",
    "        p.append(n)\n",
    "\n",
    "print(f\"list of perfect numbers: {p}\")"
   ]
  },
  {
   "cell_type": "code",
   "execution_count": 11,
   "metadata": {},
   "outputs": [
    {
     "name": "stdout",
     "output_type": "stream",
     "text": [
      "list of armstrong numbers: [1, 153]\n"
     ]
    }
   ],
   "source": [
    "l_ = list(eval(input(\">>> \")))\n",
    "a = []\n",
    "\n",
    "for n in l_:\n",
    "    n = str(n)\n",
    "    pow_ = len(n)\n",
    "    l = 0\n",
    "    for i in n:\n",
    "        l += int(i)**pow_\n",
    "    if l == int(n):\n",
    "        a.append(int(n))\n",
    "\n",
    "print(f\"list of armstrong numbers: {a}\")"
   ]
  },
  {
   "cell_type": "code",
   "execution_count": 12,
   "metadata": {},
   "outputs": [
    {
     "name": "stdout",
     "output_type": "stream",
     "text": [
      "[1, 2, 3, 4, 5, 6]\n"
     ]
    }
   ],
   "source": [
    "print(list(eval(input(\">>> \"))) + list(eval(input(\">>> \"))))"
   ]
  },
  {
   "cell_type": "code",
   "execution_count": 1,
   "metadata": {},
   "outputs": [
    {
     "name": "stdout",
     "output_type": "stream",
     "text": [
      "sorted list : [1, 2, 4, 4, 4, 23]\n"
     ]
    }
   ],
   "source": [
    "l = list(eval(input(\"list 1: \"))) + list(eval(input(\"list 2: \")))\n",
    "\n",
    "stack = [(0, len(l) - 1)]\n",
    "top = -1\n",
    "\n",
    "while top != -1 or not stack:\n",
    "    if top == -1:\n",
    "        start, end = stack[0]\n",
    "        top += 1\n",
    "    else:\n",
    "        start, end = stack[top]\n",
    "        top -= 1\n",
    "\n",
    "    if start < end:\n",
    "        pivot = l[end]\n",
    "        p_index = start\n",
    "\n",
    "        for i in range(start, end):\n",
    "            if l[i] < pivot:\n",
    "                l[i], l[p_index] = l[p_index], l[i]\n",
    "                p_index += 1\n",
    "\n",
    "        l[p_index], l[end] = l[end], l[p_index]\n",
    "\n",
    "        top += 1\n",
    "        stack.append((start, p_index - 1))\n",
    "\n",
    "        top += 1\n",
    "        stack.append((p_index + 1, end))\n",
    "\n",
    "print(f\"sorted list : {l}\")"
   ]
  },
  {
   "cell_type": "code",
   "execution_count": null,
   "metadata": {},
   "outputs": [],
   "source": [
    "# prev but make first ascending, 2nd and 3th make descending"
   ]
  },
  {
   "cell_type": "code",
   "execution_count": 3,
   "metadata": {},
   "outputs": [
    {
     "name": "stdout",
     "output_type": "stream",
     "text": [
      "[1, 'a', 2, 'b', 3, 'c']\n"
     ]
    }
   ],
   "source": [
    "l1 = list(eval(input(\">>> \")))\n",
    "l2 = list(eval(input(\">>> \")))\n",
    "\n",
    "o = []\n",
    "min_ = len(l1) if len(l1) < len(l2) else min_ = len(l2)\n",
    "\n",
    "for i in range(min_):\n",
    "    o.append(l1[i])\n",
    "    o.append(l2[i])\n",
    "\n",
    "for i in range(min_, len(l1)):\n",
    "    o.append(l1[i])\n",
    "\n",
    "for i in range(min_, len(l2)):\n",
    "    o.append(l2[i])\n",
    "\n",
    "print(o)"
   ]
  },
  {
   "cell_type": "code",
   "execution_count": 3,
   "metadata": {},
   "outputs": [
    {
     "name": "stdout",
     "output_type": "stream",
     "text": [
      "[1, 2, 3]\n"
     ]
    }
   ],
   "source": [
    "l = list(eval(input(\"enter list: \")))\n",
    "l.remove(int(input(\"what number to remove: \")))\n",
    "print(l)"
   ]
  },
  {
   "cell_type": "code",
   "execution_count": 18,
   "metadata": {},
   "outputs": [
    {
     "name": "stdout",
     "output_type": "stream",
     "text": [
      "[1, 2, 3, 4, 5, 33]\n"
     ]
    }
   ],
   "source": [
    "l, o = [], []\n",
    "for i in range(int(input(\"Enter n: \"))):\n",
    "    l.append(int(input(f\"{i+1}. \")))\n",
    "L = int(input(\"Enter index where you want to add element: \"))\n",
    "o += l[:L] + list(eval(input(\"Enter n\")+\",\")) + l[L+1:]\n",
    "print(o)"
   ]
  },
  {
   "cell_type": "code",
   "execution_count": 19,
   "metadata": {},
   "outputs": [
    {
     "name": "stdout",
     "output_type": "stream",
     "text": [
      "[1, 2, 4, 5, 6, 7, 8, 9]\n"
     ]
    }
   ],
   "source": [
    "l = list(eval(input(\"enter list: \")))\n",
    "n = input(\"Enter number to remove: \")\n",
    "o = []\n",
    "\n",
    "for i in l:\n",
    "    if str(i) == n:\n",
    "        continue\n",
    "    o.append(i)\n",
    "\n",
    "print(o)"
   ]
  },
  {
   "cell_type": "code",
   "execution_count": 7,
   "metadata": {},
   "outputs": [
    {
     "name": "stdout",
     "output_type": "stream",
     "text": [
      "Matrix: \n",
      "[1, 2, 3]\n",
      "[4, 5, 6]\n",
      "[7, 8, 9]\n",
      "\n",
      "Sum of row 1: 6\n",
      "Sum of row 2: 15\n",
      "Sum of row 3: 24\n"
     ]
    }
   ],
   "source": [
    "m = int(input(\"m: \"))\n",
    "n = int(input(\"n: \"))\n",
    "M = []\n",
    "\n",
    "for i in range(m):\n",
    "    l_ = []\n",
    "    for j in range(n):\n",
    "        l_.append(int(input(\">>> \")))\n",
    "    M.append(l_)\n",
    "\n",
    "print(\"Matrix: \")\n",
    "for i in M:\n",
    "    print(i)\n",
    "print()\n",
    "\n",
    "for i, row in enumerate(M):\n",
    "    row_sum = sum(row)\n",
    "    print(f\"Sum of row {i + 1}: {row_sum}\")"
   ]
  },
  {
   "cell_type": "code",
   "execution_count": 6,
   "metadata": {},
   "outputs": [
    {
     "name": "stdout",
     "output_type": "stream",
     "text": [
      "Matrix: \n",
      "[1, 2, 3]\n",
      "[4, 5, 6]\n",
      "[7, 8, 9]\n",
      "\n",
      "Sum of col 1: 12\n",
      "Sum of col 2: 15\n",
      "Sum of col 3: 18\n"
     ]
    }
   ],
   "source": [
    "m = int(input(\"m: \"))\n",
    "n = int(input(\"n: \"))\n",
    "M = []\n",
    "\n",
    "for i in range(m):\n",
    "    l_ = []\n",
    "    for j in range(n):\n",
    "        l_.append(int(input(\">>> \")))\n",
    "    M.append(l_)\n",
    "\n",
    "print(\"Matrix: \")\n",
    "for i in M:\n",
    "    print(i)\n",
    "print()\n",
    "\n",
    "s = [0] * len(M[0])\n",
    "\n",
    "for row in M:\n",
    "    for j in range(len(row)):\n",
    "        s[j] += row[j]\n",
    "\n",
    "for index, total in enumerate(s):\n",
    "    print(f\"Sum of col {index + 1}: {total}\")"
   ]
  },
  {
   "cell_type": "code",
   "execution_count": 11,
   "metadata": {},
   "outputs": [
    {
     "name": "stdout",
     "output_type": "stream",
     "text": [
      "1     \n",
      "  5   \n",
      "    9 \n",
      "\n",
      "sum of above diagonal is: 15\n"
     ]
    }
   ],
   "source": [
    "m = int(input(\"m: \"))\n",
    "M = []\n",
    "\n",
    "for i in range(m):\n",
    "    l_ = []\n",
    "    for j in range(m):\n",
    "        l_.append(int(input(\">>> \")))\n",
    "    M.append(l_)\n",
    "\n",
    "s = 0\n",
    "\n",
    "for i in range(len(M)):\n",
    "    for j in range(len(M[i])):\n",
    "        if i == j:\n",
    "            print(f\"{M[i][j]} \", end=\"\")\n",
    "            s += M[i][j]\n",
    "        else:\n",
    "            print(\"  \", end=\"\")\n",
    "    print()\n",
    "\n",
    "print(f\"\\nsum of above diagonal is: {s}\")"
   ]
  },
  {
   "cell_type": "code",
   "execution_count": 1,
   "metadata": {},
   "outputs": [
    {
     "name": "stdout",
     "output_type": "stream",
     "text": [
      "1     \n",
      "4 5   \n",
      "7 8 9 \n"
     ]
    }
   ],
   "source": [
    "m = int(input(\"m: \"))\n",
    "M = []\n",
    "\n",
    "for i in range(m):\n",
    "    l_ = []\n",
    "    for j in range(m):\n",
    "        l_.append(int(input(\">>> \")))\n",
    "    M.append(l_)\n",
    "\n",
    "for i in range(m):\n",
    "    for j in range(m):\n",
    "        if i >= j:\n",
    "            print(M[i][j], end=\" \")\n",
    "        else:\n",
    "            print(\" \", end=\" \")\n",
    "    print()"
   ]
  },
  {
   "cell_type": "code",
   "execution_count": 5,
   "metadata": {},
   "outputs": [
    {
     "name": "stdout",
     "output_type": "stream",
     "text": [
      "[1, 4, 7]\n",
      "[2, 5, 8]\n",
      "[3, 6, 9]\n"
     ]
    }
   ],
   "source": [
    "m = int(input(\"m: \"))\n",
    "M = []\n",
    "\n",
    "for i in range(m):\n",
    "    l_ = []\n",
    "    for j in range(m):\n",
    "        l_.append(int(input(\">>> \")))\n",
    "    M.append(l_)\n",
    "\n",
    "T = [[0] * m for _ in range(m)]\n",
    "\n",
    "for i in range(m):\n",
    "    for j in range(m):\n",
    "        T[i][j] = M[j][i]\n",
    "\n",
    "for i in T:\n",
    "    print(i)"
   ]
  },
  {
   "cell_type": "code",
   "execution_count": 2,
   "metadata": {},
   "outputs": [
    {
     "name": "stdout",
     "output_type": "stream",
     "text": [
      "name 'eee' found\n"
     ]
    }
   ],
   "source": [
    "l = []\n",
    "\n",
    "for i in range(int(input(\"Enter n: \"))):\n",
    "    l.append(input(f\"{i+1}. \"))\n",
    "\n",
    "s = input(\"search term: \")\n",
    "\n",
    "for i in l:\n",
    "    if i == s:\n",
    "        print(f\"name '{s}' found\")\n",
    "        break\n",
    "else:\n",
    "    print(f\"name '{s}' not found\")"
   ]
  },
  {
   "cell_type": "code",
   "execution_count": null,
   "metadata": {},
   "outputs": [
    {
     "name": "stdout",
     "output_type": "stream",
     "text": [
      "\n",
      "Names starting with 'a' :\n",
      "aaa\n",
      "aaa\n"
     ]
    }
   ],
   "source": [
    "a = []\n",
    "\n",
    "for i in range(int(input(\"Enter n: \"))):\n",
    "    temp = input(f\"{i+1}. \")\n",
    "    a.append(temp) if temp[0] in \"Aa\" else ...\n",
    "\n",
    "print(\"\\nNames starting with 'a' :\")\n",
    "for i in a:\n",
    "    print(i)"
   ]
  },
  {
   "cell_type": "code",
   "execution_count": null,
   "metadata": {},
   "outputs": [],
   "source": [
    "o = []\n",
    "\n",
    "for i in range(int(input(\"Enter n: \"))):\n",
    "    temp = input(f\"{i+1}. \")\n",
    "    o.append(temp) if \"BbVv\" in temp else ...\n",
    "\n",
    "print(\"\\nNames containing either 'b' or 'v' :\")\n",
    "for i in o:\n",
    "    print(i)"
   ]
  },
  {
   "cell_type": "code",
   "execution_count": 10,
   "metadata": {},
   "outputs": [
    {
     "name": "stdout",
     "output_type": "stream",
     "text": [
      "no. of words starting with a are: 4\n"
     ]
    }
   ],
   "source": [
    "l = input(\">>> \").split()\n",
    "c = 0\n",
    "\n",
    "for i in l:\n",
    "    if i[0] in \"Aa\":\n",
    "        c += 1\n",
    "\n",
    "print(f\"no. of words starting with a are: {c}\")"
   ]
  },
  {
   "cell_type": "code",
   "execution_count": 11,
   "metadata": {},
   "outputs": [
    {
     "name": "stdout",
     "output_type": "stream",
     "text": [
      "fdsa\n",
      "asdf\n",
      "zayba\n",
      "abyaz\n"
     ]
    }
   ],
   "source": [
    "l = input(\">>> \").split()\n",
    "\n",
    "for i in l:\n",
    "    print(i[::-1])"
   ]
  },
  {
   "cell_type": "code",
   "execution_count": 14,
   "metadata": {},
   "outputs": [
    {
     "name": "stdout",
     "output_type": "stream",
     "text": [
      "New sentence: \n",
      "hii my name are star.stalker9160\n"
     ]
    }
   ],
   "source": [
    "l = input(\"enter sentence: \").split()\n",
    "o = input(\"pick word to replace: \")\n",
    "n = input(f\"pick word to replace '{o}' with: \")\n",
    "\n",
    "for i, v in enumerate(l):\n",
    "    if v == o:\n",
    "        l[i] = n\n",
    "\n",
    "print(\"New sentence: \")\n",
    "print(' '.join(l))"
   ]
  },
  {
   "cell_type": "code",
   "execution_count": 19,
   "metadata": {},
   "outputs": [
    {
     "name": "stdout",
     "output_type": "stream",
     "text": [
      "\n",
      "                 o  o  O  O\n",
      "            ,_____  ____    O\n",
      "            | PMD \\_|[]|_'__Y\n",
      "            |_______|__|_|__|}\n",
      "=============oo--oo==oo--OOO\\\\====================\n",
      "\n",
      "Train 'asdf' with train no. 1 is traveling from Benares to Kolkata.\n",
      "Train 'abcd' with train no. 4 is traveling from Benares to Kolkata.\n",
      "\n",
      "\n",
      "\n",
      "Train table:\n",
      "\n",
      " train number   |  train name  |  starting point  |  ending point \n",
      "-----------------------------------------------------------------\n",
      "       1        |     asdf     |    trivandrum    |     mumbai    \n",
      "       2        |     fdsa     |     chennai      |    kolkata    \n",
      "       3        |     reee     |      kochi       |     mumbai    \n",
      "       4        |     abcd     |    trivandrum    |     mumbai    \n"
     ]
    }
   ],
   "source": [
    "trains = []\n",
    "\n",
    "print(r\"\"\"\n",
    "                 o  o  O  O\n",
    "            ,_____  ____    O\n",
    "            | PMD \\_|[]|_'__Y\n",
    "            |_______|__|_|__|}\n",
    "=============oo--oo==oo--OOO\\\\====================\n",
    "\"\"\")\n",
    "\n",
    "for i in range(int(input(\"enter n: \"))):\n",
    "    print(\"\\n\")\n",
    "    t = []\n",
    "    endPts = []\n",
    "    t.append(int(input(\"Train no: \")))\n",
    "    t.append(input(\"Train name: \"))\n",
    "    endPts.append(input(\"Start point: \"))\n",
    "    endPts.append(input(\"Destination: \"))\n",
    "    t.append(endPts)\n",
    "    trains.append(t)\n",
    "\n",
    "for i in trains:\n",
    "    if i[2] == [\"trivandrum\", \"mumbai\"]:\n",
    "        print(f\"Train '{i[1]}' with train no. {i[0]} is traveling from Benares to Kolkata.\")\n",
    "\n",
    "print(\"\\n\\n\")\n",
    "print(\"Train table:\\n\")\n",
    "print(f\"{'train number':^15} | {'train name':^12} | {'starting point':^16} | {'ending point':^14}\")\n",
    "print(\"-\" * 65)\n",
    "\n",
    "for item in trains:    \n",
    "    print(f\"{item[0]:^15} | {item[1]:^12} | {item[2][0]:^16} | {item[2][1]:^14}\")"
   ]
  },
  {
   "cell_type": "code",
   "execution_count": 25,
   "metadata": {},
   "outputs": [
    {
     "name": "stdout",
     "output_type": "stream",
     "text": [
      "\n",
      "pre-change employee table:\n",
      "\n",
      "  ecode    |      name       |   designation   |   salary  \n",
      "------------------------------------------------------------\n",
      "   101     |      asdf       |     manager     |  5000.00  \n",
      "   102     |      fdsa       |    developer    |  4500.00  \n",
      "   103     |      reee       |     analyst     |  4200.00  \n",
      "   104     |     nerd 5      |     manager     |  5500.00  \n",
      "   105     |    i hate qa    |     tester      |  3800.00  \n",
      "\n",
      "post-change employee table:\n",
      "\n",
      "  ecode    |      name       |   designation   |   salary  \n",
      "------------------------------------------------------------\n",
      "   101     |      asdf       |     manager     |  6000.00  \n",
      "   102     |      fdsa       |    developer    |  5000.00  \n",
      "   103     |      reee       |     analyst     |  4700.00  \n",
      "   104     |     nerd 5      |     manager     |  6500.00  \n",
      "   105     |    i hate qa    |     tester      |  4300.00  \n"
     ]
    }
   ],
   "source": [
    "employees = []\n",
    "\n",
    "for i in range(int(input(\"enter n: \"))):\n",
    "    print(\"\\n\")\n",
    "    e = []\n",
    "    e.append(int(input(\"ecode: \")))\n",
    "    e.append(input(\"name: \"))\n",
    "    e.append(input(\"eesignation: \"))\n",
    "    sal = float(input(\"salary: \"))\n",
    "    if e[2] == \"manager\":\n",
    "        sal += 1000\n",
    "    else:\n",
    "        sal += 500\n",
    "    e.append(sal)\n",
    "    employees.append(e)\n",
    "\n",
    "print(\"\\npre-change employee table:\\n\")\n",
    "print(f\"{'ecode':^10} | {'name':^15} | {'designation':^15} | {'salary':^10}\")\n",
    "print(\"-\" * 60)\n",
    "\n",
    "for e in employees:\n",
    "    print(f\"{e[0]:^10} | {e[1]:^15} | {e[2]:^15} | {e[3]:^10.2f}\")\n",
    "\n",
    "for e in employees:\n",
    "    if e[2] == \"manager\":\n",
    "        e[3] += 1000\n",
    "    else:\n",
    "        e[3] += 500\n",
    "\n",
    "print(\"\\npost-change employee table:\\n\")\n",
    "print(f\"{'ecode':^10} | {'name':^15} | {'designation':^15} | {'salary':^10}\")\n",
    "print(\"-\" * 60)\n",
    "\n",
    "for e in employees:    \n",
    "    print(f\"{e[0]:^10} | {e[1]:^15} | {e[2]:^15} | {e[3]:^10.2f}\")"
   ]
  },
  {
   "cell_type": "code",
   "execution_count": 27,
   "metadata": {},
   "outputs": [
    {
     "name": "stdout",
     "output_type": "stream",
     "text": [
      "\n",
      "pre-change student table:\n",
      "\n",
      "     name       |  theory marks   |  practical marks \n",
      "--------------------------------------------------\n",
      "      ree       |       85        |        90        \n",
      "      asf       |       75        |        80        \n",
      "    nerd 2      |       95        |        88        \n",
      "    dumbass     |       70        |        85        \n",
      "     fdsa       |       82        |        78        \n",
      "\n",
      "post-change student table:\n",
      "\n",
      "     name       |  theory marks   |  practical marks  | total marks \n",
      "-----------------------------------------------------------------\n",
      "      ree       |       85        |        90         |     175     \n",
      "      asf       |       75        |        80         |     155     \n",
      "    nerd 2      |       95        |        88         |     183     \n",
      "    dumbass     |       70        |        85         |     155     \n",
      "     fdsa       |       82        |        78         |     160     \n",
      "\n",
      "\n",
      "the student with the highest marks is: nerd 2 with 183 marks.\n"
     ]
    }
   ],
   "source": [
    "students = []\n",
    "\n",
    "for i in range(int(input(\"enter n: \"))):\n",
    "    print(\"\\n\")\n",
    "    s = []\n",
    "    s.append(input(\"name: \"))\n",
    "    theory = int(input(\"theory marks: \"))\n",
    "    practical = int(input(\"practical marks: \"))\n",
    "    s.append(theory)\n",
    "    s.append(practical)\n",
    "    totalMarks = theory + practical\n",
    "    s.append(totalMarks)\n",
    "    students.append(s)\n",
    "\n",
    "print(\"\\npre-change student table:\\n\")\n",
    "print(f\"{'name':^15} | {'theory marks':^15} | {'practical marks':^17}\")\n",
    "print(\"-\" * 50)\n",
    "for s in students:\n",
    "    print(f\"{s[0]:^15} | {s[1]:^15} | {s[2]:^17}\")\n",
    "\n",
    "for s in students:\n",
    "    totalMarks = s[1] + s[2]\n",
    "    s.append(totalMarks)\n",
    "\n",
    "print(\"\\npost-change student table:\\n\")\n",
    "print(f\"{'name':^15} | {'theory marks':^15} | {'practical marks':^17} | {'total marks':^12}\")\n",
    "print(\"-\" * 65)\n",
    "for s in students:\n",
    "    print(f\"{s[0]:^15} | {s[1]:^15} | {s[2]:^17} | {s[3]:^12}\")\n",
    "\n",
    "nerd = students[0]\n",
    "for s in students:\n",
    "    if s[3] > nerd[3]:\n",
    "        nerd = s\n",
    "\n",
    "print(\"\\n\")\n",
    "print(f\"the student with the highest marks is: {nerd[0]} with {nerd[3]} marks.\")"
   ]
  },
  {
   "cell_type": "code",
   "execution_count": 28,
   "metadata": {},
   "outputs": [
    {
     "name": "stdout",
     "output_type": "stream",
     "text": [
      "\n",
      "sorted student table:\n",
      "\n",
      "     name       |  theory marks   |  practical marks \n",
      "--------------------------------------------------\n",
      "     asdf       |       75        |        80        \n",
      "     fdsa       |       85        |        90        \n",
      "      ree       |       95        |        88        \n"
     ]
    }
   ],
   "source": [
    "students = []\n",
    "\n",
    "for i in range(int(input(\"enter n: \"))):\n",
    "    print(\"\\n\")\n",
    "    s = []\n",
    "    s.append(input(\"name: \"))\n",
    "    theory_marks = int(input(\"theory marks: \"))\n",
    "    practical = int(input(\"practical marks: \"))\n",
    "    s.append(theory_marks)\n",
    "    s.append(practical)\n",
    "    total_marks = theory_marks + practical\n",
    "    s.append(total_marks)\n",
    "    students.append(s)\n",
    "\n",
    "for i in range(len(students)):\n",
    "    minIndex = i\n",
    "    for j in range(i + 1, len(students)):\n",
    "        if students[j][0] < students[minIndex][0]:\n",
    "            minIndex = j\n",
    "    students[i], students[minIndex] = students[minIndex], students[i]\n",
    "\n",
    "print(\"\\nsorted student table:\\n\")\n",
    "print(f\"{'name':^15} | {'theory marks':^15} | {'practical marks':^17}\")\n",
    "print(\"-\" * 50)\n",
    "for s in students:\n",
    "    print(f\"{s[0]:^15} | {s[1]:^15} | {s[2]:^17}\")"
   ]
  },
  {
   "cell_type": "code",
   "execution_count": null,
   "metadata": {},
   "outputs": [],
   "source": [
    "# menu driven program"
   ]
  }
 ],
 "metadata": {
  "kernelspec": {
   "display_name": "Python 3",
   "language": "python",
   "name": "python3"
  },
  "language_info": {
   "codemirror_mode": {
    "name": "ipython",
    "version": 3
   },
   "file_extension": ".py",
   "mimetype": "text/x-python",
   "name": "python",
   "nbconvert_exporter": "python",
   "pygments_lexer": "ipython3",
   "version": "3.13.0"
  }
 },
 "nbformat": 4,
 "nbformat_minor": 2
}
