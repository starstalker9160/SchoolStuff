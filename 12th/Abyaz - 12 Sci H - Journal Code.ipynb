{
 "cells": [
  {
   "cell_type": "markdown",
   "metadata": {},
   "source": [
    "# Abyaz - Journal Code"
   ]
  },
  {
   "cell_type": "markdown",
   "metadata": {},
   "source": [
    "## Functions"
   ]
  },
  {
   "cell_type": "code",
   "execution_count": null,
   "metadata": {},
   "outputs": [
    {
     "name": "stdout",
     "output_type": "stream",
     "text": [
      "No. of odd elements: 4\n",
      "No. of even elements: 4\n"
     ]
    }
   ],
   "source": [
    "# Index no.: 1\n",
    "# Local no.: 1\n",
    "\n",
    "def count(*a) -> None:\n",
    "    o, e = 0, 0\n",
    "    for i in a:\n",
    "        (e := e + 1) if i % 2 == 0 else (o := o + 1)\n",
    "    print(f\"No. of odd elements: {o}\\nNo. of even elements: {e}\")\n",
    "\n",
    "count(1,2,3,4,5,6,7,8)"
   ]
  },
  {
   "cell_type": "code",
   "execution_count": null,
   "metadata": {},
   "outputs": [
    {
     "name": "stdout",
     "output_type": "stream",
     "text": [
      "Sum of the series is: 131071\n"
     ]
    }
   ],
   "source": [
    "# Index no.: 2\n",
    "# Local no.: 2\n",
    "\n",
    "def series(x: int, n: int) -> None:\n",
    "    s = 1\n",
    "    for i in range(n): s += x**(i+1)\n",
    "    print(f\"Sum of the series is: {s}\")\n",
    "\n",
    "series(2, 16)"
   ]
  },
  {
   "cell_type": "code",
   "execution_count": null,
   "metadata": {},
   "outputs": [
    {
     "name": "stdout",
     "output_type": "stream",
     "text": [
      "Factorial of 5 is: 120\n"
     ]
    }
   ],
   "source": [
    "# Index no.: 3\n",
    "# Local no.: 3\n",
    "\n",
    "n = int(input(\">>> \"))\n",
    "def fact() -> int:\n",
    "    global n\n",
    "    return n * (n := n - 1, fact())[1] if n > 1 else 1\n",
    "\n",
    "print(f\"Factorial of {n} is: {fact()}\")"
   ]
  },
  {
   "cell_type": "code",
   "execution_count": 29,
   "metadata": {},
   "outputs": [
    {
     "name": "stdout",
     "output_type": "stream",
     "text": [
      "Valid email IDs are:\n",
      " - asfd@cmail.com\n",
      " - fdsa@cmail.com\n"
     ]
    }
   ],
   "source": [
    "# Index no.: 4\n",
    "# Local no.: 4\n",
    "\n",
    "r = input(\">>> \").split()\n",
    "def validMailID(l: list) -> list:\n",
    "    return [i for i in l if \"@cmail\" in i]\n",
    "\n",
    "print(f\"Valid email IDs are:\\n - \" + \"\\n - \".join(validMailID(r)))"
   ]
  },
  {
   "cell_type": "code",
   "execution_count": 30,
   "metadata": {},
   "outputs": [
    {
     "name": "stdout",
     "output_type": "stream",
     "text": [
      "Words longer than 5 letters are:\n",
      " - antidisestablishmentarianism\n"
     ]
    }
   ],
   "source": [
    "# Index no.: 5\n",
    "# Local no.: 5\n",
    "\n",
    "r = input(\">>> \").split()\n",
    "def longWords(l: list):\n",
    "    return [i for i in l if len(i) > 5]\n",
    "\n",
    "print(f\"Words longer than 5 letters are:\\n - \" + \"\\n - \".join(longWords(r)))"
   ]
  },
  {
   "cell_type": "code",
   "execution_count": 28,
   "metadata": {},
   "outputs": [
    {
     "name": "stdout",
     "output_type": "stream",
     "text": [
      "\n",
      "    #--------------------#\n",
      "    |       NUMBERS      |\n",
      "    | 1. even/odd        |\n",
      "    | 2. prime/consonant |\n",
      "    | 3. exit            |\n",
      "    #--------------------#\n",
      "False\n",
      "True\n",
      "Invalid option selected\n"
     ]
    }
   ],
   "source": [
    "# Index no.: 6\n",
    "# Local no.: 6\n",
    "\n",
    "import math\n",
    "\n",
    "print(\"\"\"\n",
    "    #--------------------#\n",
    "    |       NUMBERS      |\n",
    "    | 1. even/odd        |\n",
    "    | 2. prime/consonant |\n",
    "    | 3. exit            |\n",
    "    #--------------------#\"\"\")\n",
    "\n",
    "def evenity(n: int) -> bool:\n",
    "    return True if n % 2 == 0 else False\n",
    "\n",
    "def primality(n: int) -> bool:\n",
    "    return False if n <= 1 else (True if n == 2 else (False if n % 2 == 0 else all(n % i != 0 for i in range(3, int(math.sqrt(n)) + 1, 2))))\n",
    "\n",
    "\n",
    "while True:\n",
    "    o = int(input(\">>> \"))\n",
    "    if o == 1:\n",
    "        print(evenity(int(input(\"n: \"))))\n",
    "    elif o == 2:\n",
    "        print(primality(int(input(\"n: \"))))\n",
    "    elif o == 3:\n",
    "        break\n",
    "    else:\n",
    "        print(\"Invalid option selected\")"
   ]
  },
  {
   "cell_type": "code",
   "execution_count": 27,
   "metadata": {},
   "outputs": [
    {
     "name": "stdout",
     "output_type": "stream",
     "text": [
      "Bigger number: 3.0\n"
     ]
    }
   ],
   "source": [
    "# Index no.: 7\n",
    "# Local no.: 7\n",
    "\n",
    "a, b = tuple([*map(float, input(\">>> \").split())])\n",
    "def findBig() -> float:\n",
    "    global a, b\n",
    "    return a if a > b else b\n",
    "\n",
    "print(f\"Bigger number: {findBig()}\")"
   ]
  },
  {
   "cell_type": "code",
   "execution_count": 26,
   "metadata": {},
   "outputs": [
    {
     "name": "stdout",
     "output_type": "stream",
     "text": [
      "Ordered list is: [1, 2, 4, 6, 58, 5, 65, 2350, 15]\n"
     ]
    }
   ],
   "source": [
    "# Index no.: 8\n",
    "# Local no.: 8\n",
    "\n",
    "x = [*map(int, input(\">>> \").split())]\n",
    "def move(l: list) -> None:\n",
    "    l[:] = [x for x in l if x % 5] + [x for x in l if x % 5 == 0]\n",
    "    print(f\"Ordered list is: {l}\")\n",
    "\n",
    "move(x)"
   ]
  },
  {
   "cell_type": "code",
   "execution_count": null,
   "metadata": {},
   "outputs": [
    {
     "name": "stdout",
     "output_type": "stream",
     "text": [
      "No. of vehicles released in 2020: 0\n",
      "\n",
      "Sorted dict:\n",
      "car5: ['anotherRealCarBrand', 'Model nine', 2023, 45000]\n",
      "car3: ['Chevy', 'Silverado', 2021, 40000]\n",
      "car2: ['Ford', 'Explorer', 2019, 32000]\n",
      "car4.5: ['Honda', 'Civic', 2020, 22000]\n",
      "car1: ['Toyota', 'Camry', 2020, 25000]\n"
     ]
    }
   ],
   "source": [
    "# Index no.: 9\n",
    "# Local no.: 9\n",
    "\n",
    "vehicle = {\n",
    "    \"car1\": [\"Toyota\", \"Camry\", 2020, 25_000],\n",
    "    \"car2\": [\"Ford\", \"Explorer\", 2019, 32_000],\n",
    "    \"car3\": [\"Chevy\", \"Silverado\", 2021, 40_000],\n",
    "    \"car4.5\": [\"Honda\", \"Civic\", 2020, 22_000],\n",
    "    \"car5\": [\"anotherRealCarBrand\", \"Model nine\", 2023, 45_000]\n",
    "}\n",
    "\n",
    "def _2020(D: dict):\n",
    "    print(f\"No. of vehicles released in 2020: {len([c for c in D if c[2] == 2020])}\")\n",
    "\n",
    "def sort(D):\n",
    "    print(\"\\n\".join(f\"{k}: {v}\" for k, v in sorted(D.items(), key=lambda x: x[1][0].lower())))\n",
    "\n",
    "_2020(vehicle)\n",
    "print(\"\\nSorted dict:\")\n",
    "sort(vehicle)"
   ]
  },
  {
   "cell_type": "code",
   "execution_count": 25,
   "metadata": {},
   "outputs": [
    {
     "name": "stdout",
     "output_type": "stream",
     "text": [
      "Non zero indices are: [0, 2, 3, 4, 6]\n"
     ]
    }
   ],
   "source": [
    "# Index no.: 10\n",
    "# Local no.: 10\n",
    "\n",
    "t = tuple([*map(int, input(\">>> \").split())])\n",
    "def indexTuple(t: tuple) -> list:\n",
    "    return [i for i, v in enumerate(t) if v != 0]\n",
    "\n",
    "print(f\"Non zero indices are: {indexTuple(t)}\")"
   ]
  },
  {
   "cell_type": "code",
   "execution_count": 24,
   "metadata": {},
   "outputs": [
    {
     "name": "stdout",
     "output_type": "stream",
     "text": [
      "No. of vowels: 8\n"
     ]
    }
   ],
   "source": [
    "# Index no.: 11\n",
    "# Local no.: 11\n",
    "\n",
    "r = input(\">>> \")\n",
    "def vowelCount() -> None:\n",
    "    global r\n",
    "    print(f\"No. of vowels: {sum(i in \"AEIOUaeiou\" for i in r)}\")\n",
    "\n",
    "vowelCount()"
   ]
  },
  {
   "cell_type": "markdown",
   "metadata": {},
   "source": [
    "## File Handling 1 - Text Files"
   ]
  },
  {
   "cell_type": "code",
   "execution_count": null,
   "metadata": {},
   "outputs": [
    {
     "name": "stdout",
     "output_type": "stream",
     "text": [
      "No. of words starting with W or H: 1\n"
     ]
    }
   ],
   "source": [
    "# Index no.: 12\n",
    "# Local no.: 1\n",
    "\n",
    "def f() -> None:\n",
    "    with open('dump/Journal Files/Country.txt') as f: return sum(1 for i in f.readlines() if i[0] in 'WH')\n",
    "\n",
    "print(f\"No. of words starting with W or H: {f()}\")"
   ]
  },
  {
   "cell_type": "code",
   "execution_count": null,
   "metadata": {},
   "outputs": [
    {
     "name": "stdout",
     "output_type": "stream",
     "text": [
      "No. of words: 6\n"
     ]
    }
   ],
   "source": [
    "# Index no.: 13\n",
    "# Local no.: 2\n",
    "\n",
    "def countWords() -> None:\n",
    "    with open('dump/Journal Files/Quotes.txt') as f: print(f\"No. of words: {len([x for x in f.read().split() if x != \"\\n\"])}\")\n",
    "\n",
    "countWords()"
   ]
  },
  {
   "cell_type": "code",
   "execution_count": null,
   "metadata": {},
   "outputs": [],
   "source": [
    "# Index no.: 14\n",
    "# Local no.: 3\n",
    "\n",
    "def filter(oldfile: str, newfile: str) -> None:\n",
    "    with open(oldfile) as o, open(newfile, \"w\") as n:\n",
    "        n.writelines([l for l in o if not l.startswith(\"@\")])\n",
    "\n",
    "filter(\"dump/Journal Files/source.txt\", \"dump/Journal Files/target.txt\")"
   ]
  },
  {
   "cell_type": "code",
   "execution_count": null,
   "metadata": {},
   "outputs": [
    {
     "name": "stdout",
     "output_type": "stream",
     "text": [
      "{\n",
      "    \"a\": 2,\n",
      "    \"e\": 2,\n",
      "    \"i\": 1,\n",
      "    \"o\": 1,\n",
      "    \"u\": 1\n",
      "}\n"
     ]
    }
   ],
   "source": [
    "# Index no.: 15\n",
    "# Local no.: 4\n",
    "\n",
    "import json\n",
    "\n",
    "def VowelCount() -> None:\n",
    "    with open(\"dump/Journal Files/dump/Journal Files/MY_TEXT_FILE.txt\") as f:\n",
    "        t = f.read().lower()\n",
    "    print(json.dumps({v: t.count(v) for v in 'aeiou'}, indent=4))\n",
    "\n",
    "VowelCount()"
   ]
  },
  {
   "cell_type": "code",
   "execution_count": null,
   "metadata": {},
   "outputs": [
    {
     "name": "stdout",
     "output_type": "stream",
     "text": [
      "Occourance of 'the' or 'this': 3\n"
     ]
    }
   ],
   "source": [
    "# Index no.: 16\n",
    "# Local no.: 5\n",
    "\n",
    "def f() -> None:\n",
    "    with open('dump/Journal Files/MY_TEXT_FILE.txt') as f: return sum(1 for i in f.read().split() if (i == \"The\" or i == \"This\"))\n",
    "\n",
    "print(f\"Occourance of 'the' or 'this': {f()}\")"
   ]
  },
  {
   "cell_type": "code",
   "execution_count": null,
   "metadata": {},
   "outputs": [
    {
     "name": "stdout",
     "output_type": "stream",
     "text": [
      "{\n",
      "    \"IS\": 2,\n",
      "    \"TO\": 2,\n",
      "    \"UP\": 3\n",
      "}\n"
     ]
    }
   ],
   "source": [
    "# Index no.: 17\n",
    "# Local no.: 6\n",
    "\n",
    "import json\n",
    "\n",
    "def ISTOUPCOUNT() -> None:\n",
    "    with open(\"dump/Journal Files/WRITER.txt\") as f:\n",
    "        w = f.read().split()\n",
    "        print(json.dumps({\"IS\": w.count(\"IS\"), \"TO\": w.count(\"TO\"), \"UP\": w.count(\"UP\")}, indent=4))\n",
    "\n",
    "ISTOUPCOUNT()"
   ]
  },
  {
   "cell_type": "code",
   "execution_count": null,
   "metadata": {},
   "outputs": [
    {
     "name": "stdout",
     "output_type": "stream",
     "text": [
      "P line number 1\n",
      "P <- heres another p line"
     ]
    }
   ],
   "source": [
    "# Index no.: 18\n",
    "# Local no.: 7\n",
    "\n",
    "def p() -> None:\n",
    "    with open(\"dump/Journal Files/DIARY.txt\") as f:\n",
    "        [print(line, end=\"\") for line in f if line.startswith(\"P\")]\n",
    "\n",
    "p()"
   ]
  },
  {
   "cell_type": "code",
   "execution_count": null,
   "metadata": {},
   "outputs": [
    {
     "name": "stdout",
     "output_type": "stream",
     "text": [
      "2\n"
     ]
    }
   ],
   "source": [
    "# Index no.: 19\n",
    "# Local no.: 8\n",
    "\n",
    "def h() -> None:\n",
    "    with open(\"dump/Journal Files/para.txt\") as f:\n",
    "        print(sum(1 for l in f if l.startswith(\"H\")))\n",
    "\n",
    "h()"
   ]
  },
  {
   "cell_type": "code",
   "execution_count": null,
   "metadata": {},
   "outputs": [
    {
     "name": "stdout",
     "output_type": "stream",
     "text": [
      "{\n",
      "    \"a\": 5,\n",
      "    \"A\": 0,\n",
      "    \"m\": 3,\n",
      "    \"M\": 0\n",
      "}\n"
     ]
    }
   ],
   "source": [
    "# Index no.: 20\n",
    "# Local no.: 9\n",
    "\n",
    "def AMCount() -> None:\n",
    "    with open(\"dump/Journal Files/STORY.txt\") as f:\n",
    "        t = f.read()\n",
    "        print(json.dumps({'a': t.count('a'), 'A': t.count('A'), 'm': t.count('m'), 'M': t.count('M')}, indent=4))\n",
    "\n",
    "AMCount()"
   ]
  },
  {
   "cell_type": "code",
   "execution_count": null,
   "metadata": {},
   "outputs": [
    {
     "name": "stdout",
     "output_type": "stream",
     "text": [
      "{\n",
      "    \"Catholic\": 1,\n",
      "    \"mother\": 1\n",
      "}\n"
     ]
    }
   ],
   "source": [
    "# Index no.: 21\n",
    "# Local no.: 10\n",
    "\n",
    "def COUNT():\n",
    "    with open(\"dump/Journal Files/REPEATED.txt\") as f:\n",
    "        t = f.read().split()\n",
    "        print(json.dumps({\"Catholic\": t.count(\"Catholic\"), \"mother\": t.count(\"mother\")}, indent=4))\n",
    "\n",
    "COUNT()"
   ]
  },
  {
   "cell_type": "code",
   "execution_count": null,
   "metadata": {},
   "outputs": [
    {
     "name": "stdout",
     "output_type": "stream",
     "text": [
      "is\n",
      "po\n",
      "em\n",
      "me\n"
     ]
    }
   ],
   "source": [
    "# Index no.: 22\n",
    "# Local no.: 11\n",
    "\n",
    "def _2chars():\n",
    "    with open(\"dump/Journal Files/POEM.txt\") as f:\n",
    "        [print(w) for l in f for w in l.split() if len(w) == 2]\n",
    "\n",
    "_2chars()"
   ]
  },
  {
   "cell_type": "code",
   "execution_count": null,
   "metadata": {},
   "outputs": [
    {
     "name": "stdout",
     "output_type": "stream",
     "text": [
      "Occourance of 'and':  2\n"
     ]
    }
   ],
   "source": [
    "# Index no.: 23\n",
    "# Local no.: 12\n",
    "\n",
    "def COUNT_AND():\n",
    "    with open(\"dump/Journal Files/STORY.txt\") as f:\n",
    "        text = f.read().lower()\n",
    "        print(\"Occourance of 'and': \", text.count(\"and\"))\n",
    "\n",
    "COUNT_AND()"
   ]
  },
  {
   "cell_type": "code",
   "execution_count": null,
   "metadata": {},
   "outputs": [
    {
     "name": "stdout",
     "output_type": "stream",
     "text": [
      "\n",
      "        #------------------------#\n",
      "        |          rEee          |\n",
      "        |   1. create            |\n",
      "        |   2. display           |\n",
      "        |   3. count characters  |\n",
      "        |   4. hash show         |\n",
      "        |   5. copy              |\n",
      "        |   6. replace           |\n",
      "        |   7. delete            |\n",
      "        |   8. count end         |\n",
      "        |   9. vowel             |\n",
      "        |  10. change            |\n",
      "        |  11. exit              |\n",
      "        |                        |\n",
      "        #------------------------#\n",
      "\n"
     ]
    }
   ],
   "source": [
    "# Index no.: 24\n",
    "# Local no.: 13\n",
    "\n",
    "_f = \"dump/Journal Files/POETIC.txt\"\n",
    "\n",
    "def CREATE():\n",
    "    with open(_f, \"w\") as f:\n",
    "        for i in range(int(input(\"Enter number of lines: \"))):\n",
    "            f.write(input(f\"{i+1}. \") + \"\\n\")\n",
    "\n",
    "def DISPLAY():\n",
    "    with open(_f) as f:\n",
    "        print(f.read())\n",
    "\n",
    "def COUNTCHAR():\n",
    "    c = {\"v\": 0, \"c\": 0, \"u\": 0, \"l\": 0}\n",
    "    with open(_f) as f:\n",
    "        for char in f.read():\n",
    "            if char in \"aeiouAEIOU\": c[\"v\"] += 1\n",
    "            elif char in \"bcdfghjklmnpqrstvwxyzBCDFGHJKLMNPQRSTVWXYZ\": c[\"c\"] += 1\n",
    "            if char.isupper(): c[\"u\"] += 1\n",
    "            elif char.islower(): c[\"l\"] += 1\n",
    "    print(c)\n",
    "\n",
    "def HASHSHOW():\n",
    "    with open(_f) as f:\n",
    "        for l in f: print(\"#\".join(l.split()))\n",
    "\n",
    "def COPY():\n",
    "    with open(_f) as f:\n",
    "        l = f.readlines()\n",
    "    with open(\"dump/Journal Files/special.txt\", \"w\") as f1:\n",
    "        f1.writelines([i for i in l if \"#\" in i])\n",
    "\n",
    "def REPLACE():\n",
    "    st, r = input(\"search: \"), input(\"replace: \")\n",
    "    with open(_f) as f:\n",
    "        t = f.read()\n",
    "    ct = t.replace(st, r)\n",
    "    with open(\"dump/Journal Files/duplicate.txt\", \"w\") as f:\n",
    "        f.write(ct)\n",
    "    print({\"Original text\": t, \"Changed text\": ct})\n",
    "\n",
    "def DELETE():\n",
    "    w = input(\"Enter the word to delete: \")\n",
    "    with open(_f) as f:\n",
    "        text = f.read()\n",
    "    with open(_f, \"w\") as f:\n",
    "        f.write(text.replace(w, \"\"))\n",
    "\n",
    "def COUNTEND():\n",
    "    with open(_f) as f:\n",
    "        print({\"count\": sum(1 for line in f if line.rstrip().endswith((\"y\", \"i\")))})\n",
    "\n",
    "def VOWEL():\n",
    "    with open(_f) as f:\n",
    "        t = f.read()\n",
    "    with open(\"dump/Journal Files/vowel.txt\", \"w\") as v:\n",
    "        v.writelines([w + \"\\n\" for w in t.split() if w[0].lower() in \"aeiou\"])\n",
    "    print({\"Original file\": t, \"Vowel file\": open(\"dump/Journal Files/vowel.txt\").read()})\n",
    "\n",
    "def CHANGE():\n",
    "    with open(_f) as f:\n",
    "        t = f.read()\n",
    "    ct = t.replace(\" \", \"**\")\n",
    "    with open(\"dump/Journal Files/changed.txt\", \"w\") as f:\n",
    "        f.write(ct)\n",
    "    print({\"Original text\": t, \"Changed text\": ct})\n",
    "\n",
    "\n",
    "print(\"\"\"\n",
    "        #------------------------#\n",
    "        |          rEee          |\n",
    "        |   1. create            |\n",
    "        |   2. display           |\n",
    "        |   3. count characters  |\n",
    "        |   4. hash show         |\n",
    "        |   5. copy              |\n",
    "        |   6. replace           |\n",
    "        |   7. delete            |\n",
    "        |   8. count end         |\n",
    "        |   9. vowel             |\n",
    "        |  10. change            |\n",
    "        |  11. exit              |\n",
    "        |                        |\n",
    "        #------------------------#\"\"\")\n",
    "\n",
    "options = {1: CREATE, 2: DISPLAY, 3: COUNTCHAR, 4: HASHSHOW, 5: COPY, 6: REPLACE, 7: DELETE, 8: COUNTEND, 9: VOWEL, 10: CHANGE}\n",
    "\n",
    "while True:\n",
    "    o = int(input(\">>>\"))\n",
    "    if o == 11:\n",
    "        break\n",
    "    elif o in options:\n",
    "        options[o]()\n",
    "    else:\n",
    "        print(\"Invalid option.\")"
   ]
  },
  {
   "cell_type": "markdown",
   "metadata": {},
   "source": [
    "## File Handling 2 - Binary Files"
   ]
  },
  {
   "cell_type": "code",
   "execution_count": null,
   "metadata": {},
   "outputs": [],
   "source": [
    "# Index no.: 25\n",
    "# Local no.: 1\n",
    "\n"
   ]
  },
  {
   "cell_type": "code",
   "execution_count": null,
   "metadata": {},
   "outputs": [],
   "source": [
    "# Index no.: 26\n",
    "# Local no.: 2\n",
    "\n"
   ]
  },
  {
   "cell_type": "code",
   "execution_count": null,
   "metadata": {},
   "outputs": [],
   "source": [
    "# Index no.: 27\n",
    "# Local no.: 3\n",
    "\n"
   ]
  },
  {
   "cell_type": "code",
   "execution_count": null,
   "metadata": {},
   "outputs": [],
   "source": [
    "# Index no.: 28\n",
    "# Local no.: 4\n",
    "\n"
   ]
  }
 ],
 "metadata": {
  "kernelspec": {
   "display_name": "Python 3",
   "language": "python",
   "name": "python3"
  },
  "language_info": {
   "codemirror_mode": {
    "name": "ipython",
    "version": 3
   },
   "file_extension": ".py",
   "mimetype": "text/x-python",
   "name": "python",
   "nbconvert_exporter": "python",
   "pygments_lexer": "ipython3",
   "version": "3.13.0"
  }
 },
 "nbformat": 4,
 "nbformat_minor": 2
}
