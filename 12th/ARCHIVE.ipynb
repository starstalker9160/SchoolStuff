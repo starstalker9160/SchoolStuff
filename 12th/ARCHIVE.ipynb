{
 "cells": [
  {
   "cell_type": "markdown",
   "metadata": {},
   "source": [
    "# ARCHIVE.ipynb\n",
    "\n",
    "Contains all python scripts written in 12th grade organized in chronological order"
   ]
  },
  {
   "cell_type": "markdown",
   "metadata": {},
   "source": [
    "## April"
   ]
  },
  {
   "cell_type": "markdown",
   "metadata": {},
   "source": [
    "### 14 April"
   ]
  },
  {
   "cell_type": "code",
   "execution_count": 1,
   "metadata": {},
   "outputs": [
    {
     "name": "stdout",
     "output_type": "stream",
     "text": [
      "im a god\n",
      "no, im literally better than god\n",
      "im very humble, i know\n",
      "\n",
      ":D\n"
     ]
    }
   ],
   "source": [
    "def myself():\n",
    "    return open(r\"dump/files/file1.txt\").read()\n",
    "\n",
    "print(myself())"
   ]
  },
  {
   "cell_type": "markdown",
   "metadata": {},
   "source": [
    "### 16 April"
   ]
  },
  {
   "cell_type": "code",
   "execution_count": 4,
   "metadata": {},
   "outputs": [
    {
     "name": "stdout",
     "output_type": "stream",
     "text": [
      "6\n"
     ]
    }
   ],
   "source": [
    "def COUNT_DO() -> None:\n",
    "    return open(r\"dump/files/file2.txt\").read().lower().count(\"do\")\n",
    "\n",
    "print(COUNT_DO())"
   ]
  },
  {
   "cell_type": "markdown",
   "metadata": {},
   "source": [
    "### 17 April"
   ]
  },
  {
   "cell_type": "code",
   "execution_count": null,
   "metadata": {},
   "outputs": [
    {
     "name": "stdout",
     "output_type": "stream",
     "text": [
      "im a god\n",
      "no, im literally better than god\n",
      "im very humble, i know\n",
      "\n",
      ":D\n"
     ]
    }
   ],
   "source": [
    "for i in open(r\"dump/files/file1.txt\").read().split(r\"\\n\"): print(i)"
   ]
  },
  {
   "cell_type": "code",
   "execution_count": 18,
   "metadata": {},
   "outputs": [
    {
     "name": "stdout",
     "output_type": "stream",
     "text": [
      "0\n"
     ]
    }
   ],
   "source": [
    "def COUNTBELLS() -> None:\n",
    "    return open(r\"dump/files/file2.txt\").read().lower().count(\"bells\")\n",
    "\n",
    "print(COUNTBELLS())"
   ]
  },
  {
   "cell_type": "code",
   "execution_count": 25,
   "metadata": {},
   "outputs": [
    {
     "name": "stdout",
     "output_type": "stream",
     "text": [
      "ree\n",
      "nerd23\n",
      "asdf\n"
     ]
    }
   ],
   "source": [
    "t = open(r\"dump/files/file4.txt\", \"w\")\n",
    "t.writelines(\"\\n\".join(input(\">>>\").split()))\n",
    "t.close()\n",
    "t = open(r\"dump/files/file4.txt\", \"r\")\n",
    "print(t.read())"
   ]
  },
  {
   "cell_type": "markdown",
   "metadata": {},
   "source": [
    "### 21 April"
   ]
  },
  {
   "cell_type": "code",
   "execution_count": 7,
   "metadata": {},
   "outputs": [],
   "source": [
    "def show():\n",
    "    with open ('dump/files/file5.txt','w') as f:\n",
    "        o = \"\"\n",
    "        for i in range(int(input(\"lines: \"))):\n",
    "            o += f\"{input(f\"{i+1}. \")}\\n\"\n",
    "        f.write(o[:-1])\n",
    "        f.flush()\n",
    "show()"
   ]
  }
 ],
 "metadata": {
  "kernelspec": {
   "display_name": "Python 3",
   "language": "python",
   "name": "python3"
  },
  "language_info": {
   "codemirror_mode": {
    "name": "ipython",
    "version": 3
   },
   "file_extension": ".py",
   "mimetype": "text/x-python",
   "name": "python",
   "nbconvert_exporter": "python",
   "pygments_lexer": "ipython3",
   "version": "3.13.0"
  }
 },
 "nbformat": 4,
 "nbformat_minor": 2
}
