{
 "cells": [
  {
   "cell_type": "markdown",
   "metadata": {},
   "source": [
    "# Abyaz - Journal Code"
   ]
  },
  {
   "cell_type": "markdown",
   "metadata": {},
   "source": [
    "## Summer Assignment Work"
   ]
  },
  {
   "cell_type": "code",
   "execution_count": null,
   "metadata": {},
   "outputs": [
    {
     "name": "stdout",
     "output_type": "stream",
     "text": [
      "Hello Abyaz!\n"
     ]
    }
   ],
   "source": [
    "# Index no.: 1\n",
    "# Local no.: 1\n",
    "\n",
    "name = input(\"Enter your name: \")\n",
    "print(f\"Hello {name.capitalize()}!\")"
   ]
  },
  {
   "cell_type": "code",
   "execution_count": null,
   "metadata": {},
   "outputs": [
    {
     "name": "stdout",
     "output_type": "stream",
     "text": [
      "Largest number: 6.0\n",
      "Smallest number: 5.0\n"
     ]
    }
   ],
   "source": [
    "# Index no.: 2\n",
    "# Local no.: 2\n",
    "\n",
    "a = set(eval(input(\"Enter two reebers seperated by a comma: \")))\n",
    "largest, smallest = float(max(a)), float(min(a))\n",
    "if largest != smallest:\n",
    "    print(f\"Largest i: {largest}\\nSmallest i: {smallest}\")\n",
    "else:\n",
    "    print(f\"They are equal\")"
   ]
  },
  {
   "cell_type": "code",
   "execution_count": null,
   "metadata": {},
   "outputs": [
    {
     "name": "stdout",
     "output_type": "stream",
     "text": [
      "Final answer: 61\n"
     ]
    }
   ],
   "source": [
    "# Index no.: 3\n",
    "# Local no.: 3\n",
    "\n",
    "x = int(input(\"Enter the value of x: \"))\n",
    "n = int(input(\"Enter the value of n: \"))\n",
    "ans = 1\n",
    "for i in range(2, n+1):\n",
    "    ans += x**i\n",
    "print(f\"Final answer: {ans}\")"
   ]
  },
  {
   "cell_type": "code",
   "execution_count": null,
   "metadata": {},
   "outputs": [
    {
     "name": "stdout",
     "output_type": "stream",
     "text": [
      "Final answer: 6.0\n"
     ]
    }
   ],
   "source": [
    "# Index no.: 4\n",
    "# Local no.: 4\n",
    "\n",
    "def fac(n):\n",
    "    a = 1\n",
    "    for i in range(n, 1, -1):\n",
    "        a * i\n",
    "    return a\n",
    "\n",
    "x = int(input(\"Enter the value of x: \"))\n",
    "n = int(input(\"Enter the value of n: \"))\n",
    "ans = 0\n",
    "for i in range(1, n+1):\n",
    "    if i % 2 == 0:\n",
    "        ans -= (x**i)/fac(i)\n",
    "    else:\n",
    "        ans += (x**i)/fac(i)\n",
    "         \n",
    "print(f\"Final answer: {ans}\")"
   ]
  },
  {
   "cell_type": "code",
   "execution_count": null,
   "metadata": {},
   "outputs": [
    {
     "name": "stdout",
     "output_type": "stream",
     "text": [
      "\t#--------rEeee--------#\n",
      "\t|Check if number is:  |\n",
      "\t|  1. Perfect         |\n",
      "\t|  2. Armstrong       |\n",
      "\t|  3. Palindrome      |\n",
      "\t#---------------------#\n",
      "\t12321 is a palindrome\n"
     ]
    }
   ],
   "source": [
    "# Index no.: 5\n",
    "# Local no.: 5\n",
    "\n",
    "print(\"\\t#--------rEeee--------#\")\n",
    "print(\"\\t|Check if i is:  |\")\n",
    "print(\"\\t|  1. Perfect         |\")\n",
    "print(\"\\t|  2. Armstrong       |\")\n",
    "print(\"\\t|  3. Palindrome      |\")\n",
    "print(\"\\t#---------------------#\")\n",
    "while True:\n",
    "    ree = int(input(\"\\t>>> \"))\n",
    "    if ree == 1:\n",
    "        n = int(input(\"\\n\\tEnter i: \"))\n",
    "        l = 1\n",
    "        for i in range(2,n):\n",
    "            if n%i == 0:\n",
    "                l+=i\n",
    "        if l == n:\n",
    "            print(f\"\\t{n} is perfect\")\n",
    "        else:\n",
    "            print(f\"\\t{n} is not perfect\")\n",
    "        break\n",
    "    elif ree == 2:\n",
    "        n = input(\"\\n\\tEnter i: \")\n",
    "        pow_ = len(n)\n",
    "        l = 0\n",
    "        for i in n:\n",
    "            l += int(i)**pow_\n",
    "        if l == int(n):\n",
    "            print(f\"\\t{n} is an armstrong i\")\n",
    "        else:\n",
    "            print(f\"\\t{n} is not an armstrong i\")\n",
    "        break\n",
    "    elif ree == 3:\n",
    "        n = input(\"\\n\\tEnter number: \")\n",
    "        if len(n) == 1:\n",
    "            print(f\"\\t{n} is a palindrome\")\n",
    "            break\n",
    "        t = int(n)\n",
    "        l = 0\n",
    "        n = int(n)\n",
    "        for i in range(len(str(n)), 0, -1):\n",
    "            a = n%10\n",
    "            n //= 10\n",
    "            l *= 10\n",
    "            l += a\n",
    "        if l == t:\n",
    "            print(f\"\\t{t} is a palindrome\")\n",
    "        else:\n",
    "            print(f\"\\t{t} is not a palindrome\")\n",
    "        break\n",
    "    else:\n",
    "        print(\"INVALID INPUT\\nPlease try again.\")\n",
    "        print(\"\\n\\n___________________________\\n\\n\")"
   ]
  },
  {
   "cell_type": "code",
   "execution_count": null,
   "metadata": {},
   "outputs": [
    {
     "name": "stdout",
     "output_type": "stream",
     "text": [
      "4 is not prime\n"
     ]
    }
   ],
   "source": [
    "# Index no.: 6\n",
    "# Local no.: 6\n",
    "\n",
    "import math\n",
    "\n",
    "n = int(input(\"Enter number: \"))\n",
    "isPrime = True\n",
    "if n == 1:\n",
    "    print(\"1 is neither prime nor composite\")\n",
    "elif n == 2:\n",
    "    print(\"2 is prime\")\n",
    "else:\n",
    "    for i in range(2, math.ceil(math.sqrt(n))+1):\n",
    "        if n % i == 0:\n",
    "            isPrime = False\n",
    "            break\n",
    "    print(f\"{n} is prime\") if isPrime else print(f\"{n} is not prime\")"
   ]
  },
  {
   "cell_type": "code",
   "execution_count": null,
   "metadata": {},
   "outputs": [
    {
     "name": "stdout",
     "output_type": "stream",
     "text": [
      "0 1 1 2 3 "
     ]
    }
   ],
   "source": [
    "# Index no.: 7\n",
    "# Local no.: 7\n",
    "\n",
    "n = int(input(\"Enter the Enter the number of rows: \"))\n",
    "a, b = 0, 1\n",
    "for i in range(n):\n",
    "    print(a, end = \" \")\n",
    "    a, b = b, a + b"
   ]
  },
  {
   "cell_type": "code",
   "execution_count": null,
   "metadata": {},
   "outputs": [
    {
     "name": "stdout",
     "output_type": "stream",
     "text": [
      "\tPATTERN 1\n",
      "*\n",
      "**\n",
      "***\n",
      "****\n",
      "*****\n",
      "\tPATTERN 2\n",
      "1 2 3 4 5 \n",
      "1 2 3 4 \n",
      "1 2 3 \n",
      "1 2 \n",
      "1 \n",
      "\tPATTERN 3\n",
      "A B C D E \n",
      "A B C D \n",
      "A B C \n",
      "A B \n",
      "A \n"
     ]
    }
   ],
   "source": [
    "# Index no.: 8\n",
    "# Local no.: 8\n",
    "\n",
    "print(\"\\tPATTERN 1\")\n",
    "n = int(input(\"Enter the number of rows:\"))\n",
    "for i in range(1, n+1):\n",
    "    print(\"*\"*i)\n",
    "\n",
    "print(\"\\tPATTERN 2\")\n",
    "n = int(input(\"Enter the number of rows:\"))\n",
    "for i in range(n, 0, -1):\n",
    "    for j in range(1, n+1):\n",
    "        print(j, end = \" \")\n",
    "    print()\n",
    "    n -= 1 \n",
    "\n",
    "print(\"\\tPATTERN 3\")\n",
    "n = int(input(\"Enter the number of rows:\"))\n",
    "for i in range(1, n+1):\n",
    "    r = 65 + n\n",
    "    for j in range(65, r):\n",
    "        print(chr(j), end = \" \")\n",
    "    print()\n",
    "    n -= 1"
   ]
  },
  {
   "cell_type": "code",
   "execution_count": null,
   "metadata": {},
   "outputs": [
    {
     "name": "stdout",
     "output_type": "stream",
     "text": [
      "; is a special digit\n"
     ]
    }
   ],
   "source": [
    "# Index no.: 9\n",
    "# Local no.: 9\n",
    "\n",
    "n = input(\"Enter character: \")\n",
    "c = n[0]\n",
    "if ord(c) in range(48, 58):\n",
    "    print(f\"{c} is a digit\")\n",
    "elif ord(c) in range(65, 91):\n",
    "    print(f\"{c} is a uppercase character\")\n",
    "elif ord(c) in range(97, 123):\n",
    "    print(f\"{c} is a lowercase character\")\n",
    "else:\n",
    "    print(f\"{c} is a special digit\")"
   ]
  },
  {
   "cell_type": "code",
   "execution_count": null,
   "metadata": {},
   "outputs": [
    {
     "name": "stdout",
     "output_type": "stream",
     "text": [
      "Grade is B\n"
     ]
    }
   ],
   "source": [
    "# Index no.: 10\n",
    "# Local no.: 10\n",
    "\n",
    "g = float(input(\"Enter marks out of 100: \"))\n",
    "o = \"F\"\n",
    "if g >= 90:\n",
    "    o = \"A\"\n",
    "elif g >= 80:\n",
    "    o = \"B\"\n",
    "elif g >= 70:\n",
    "    o = \"C\"\n",
    "elif g >= 60:\n",
    "    o = \"D\"\n",
    "elif g >= 50:\n",
    "    o = \"E\"\n",
    "print(f\"Grade is {o}\")"
   ]
  },
  {
   "cell_type": "code",
   "execution_count": null,
   "metadata": {},
   "outputs": [
    {
     "name": "stdout",
     "output_type": "stream",
     "text": [
      "10 * 1 = 10\n",
      "10 * 2 = 20\n",
      "10 * 3 = 30\n",
      "10 * 4 = 40\n",
      "10 * 5 = 50\n",
      "10 * 6 = 60\n",
      "10 * 7 = 70\n",
      "10 * 8 = 80\n",
      "10 * 9 = 90\n",
      "10 * 10 = 100\n"
     ]
    }
   ],
   "source": [
    "# Index no.: 11\n",
    "# Local no.: 11\n",
    "\n",
    "n = int(input(\"Enter the number of rows: \"))\n",
    "for i in range(1, n+1):\n",
    "    print(f\"10 * {i} = {10*i}\")"
   ]
  },
  {
   "cell_type": "code",
   "execution_count": null,
   "metadata": {},
   "outputs": [
    {
     "name": "stdout",
     "output_type": "stream",
     "text": [
      "The date is valid.\n"
     ]
    }
   ],
   "source": [
    "# Index no.: 12\n",
    "# Local no.: 12\n",
    "\n",
    "year = int(input(\"Enter year: \"))\n",
    "month = int(input(\"Enter month: \"))\n",
    "day = int(input(\"Enter day: \"))\n",
    "\n",
    "leap_year = (year % 4 == 0 and year % 100 != 0) or (year % 400 == 0)\n",
    "\n",
    "if month == 2:\n",
    "    max_days = 29 if leap_year else 28\n",
    "elif month == 4 or month == 6 or month == 9 or month == 11:\n",
    "    max_days = 30\n",
    "else:\n",
    "    max_days = 31\n",
    "\n",
    "if day <= max_days:\n",
    "    print(\"The date is valid.\")\n",
    "else:\n",
    "    print(\"The date is invalid.\")"
   ]
  },
  {
   "cell_type": "code",
   "execution_count": null,
   "metadata": {},
   "outputs": [
    {
     "name": "stdout",
     "output_type": "stream",
     "text": [
      "\t#--------rEeee--------#\n",
      "\t|Find :               |\n",
      "\t|  1. Factorial       |\n",
      "\t|  2. Sum of digits   |\n",
      "\t|  3. Quit            |\n",
      "\t#---------------------#\n",
      "\tSum of all digits is: 6\n"
     ]
    }
   ],
   "source": [
    "# Index no.: 13\n",
    "# Local no.: 13\n",
    "\n",
    "print(\"\\t#--------rEeee--------#\")\n",
    "print(\"\\t|Find :               |\")\n",
    "print(\"\\t|  1. Factorial       |\")\n",
    "print(\"\\t|  2. Sum of digits   |\")\n",
    "print(\"\\t|  3. Quit            |\")\n",
    "print(\"\\t#---------------------#\")\n",
    "\n",
    "while True:\n",
    "    ree = int(input(\"\\t>>> \"))\n",
    "    if ree == 1:\n",
    "        n = int(input(\"\\n\\tEnter number: \"))\n",
    "        ans = 1\n",
    "        for i in range(n, 1, -1):\n",
    "            ans *= i\n",
    "        print(f\"\\t{n}! = {ans}\")\n",
    "        break\n",
    "    elif ree == 2:\n",
    "        n = input(\"\\n\\tEnter number: \")\n",
    "        ans = 0\n",
    "        for i in n:\n",
    "            ans += int(i)\n",
    "        print(f\"\\tSum of all digits is: {ans}\")\n",
    "        break\n",
    "    elif ree == 3:\n",
    "        print(\"Quitting\")\n",
    "        break\n",
    "    else:\n",
    "        print(\"\\tINVALID INPUT\\t\\nPlease try again.\")\n",
    "        print(\"\\t\\n\\n___________________________\\n\\n\")"
   ]
  },
  {
   "cell_type": "code",
   "execution_count": null,
   "metadata": {},
   "outputs": [
    {
     "name": "stdout",
     "output_type": "stream",
     "text": [
      "Sum of even numbers until 10 = 30\n",
      "Average of even numbers until 10 = 6.0\n",
      "\n",
      "Sum of odd numbers until 10 = 25\n",
      "Average of odd numbers until 10 = 5.0\n",
      "\n",
      "Sum of prime numbers until 10 = 17\n",
      "Average of prime numbers until 10 = 4.25\n",
      "\n"
     ]
    }
   ],
   "source": [
    "# Index no.: 14\n",
    "# Local no.: 14\n",
    "\n",
    "n = int(input(\"Enter number: \"))\n",
    "\n",
    "SO, SE, SP, CO, CE, CP = 0, 0, 0, 0, 0, 0\n",
    "\n",
    "for num in range(1, n + 1):\n",
    "    if num % 2 == 0:\n",
    "        SE += num\n",
    "        CE += 1\n",
    "    else:\n",
    "        SO += num\n",
    "        CO += 1\n",
    "    \n",
    "    if num > 1:\n",
    "        is_prime = True\n",
    "        for i in range(2, int(num**0.5) + 1):\n",
    "            if num % i == 0:\n",
    "                is_prime = False\n",
    "                break\n",
    "        if is_prime:\n",
    "            SP += num\n",
    "            CP += 1\n",
    "\n",
    "AO = SO / CO if CO > 0 else 0\n",
    "AE = SE / CE if CE > 0 else 0\n",
    "AP = SP / CP if CP > 0 else 0\n",
    "\n",
    "print(f\"Sum of even l until {n} = {SE}\\nAverage of even l until {n} = {AE}\\n\")\n",
    "print(f\"Sum of odd l until {n} = {SO}\\nAverage of odd is until {n} = {AO}\\n\")\n",
    "print(f\"Sum of prime is until {n} = {SP}\\nAierage of prime is until {n} = {AP}\\n\")"
   ]
  },
  {
   "cell_type": "code",
   "execution_count": null,
   "metadata": {},
   "outputs": [
    {
     "name": "stdout",
     "output_type": "stream",
     "text": [
      "Sum of prime numbers between 0 and 10 is 17\n"
     ]
    }
   ],
   "source": [
    "# Index no.: 15\n",
    "# Local no.: 15\n",
    "\n",
    "a = int(input(\"Start of range: \"))\n",
    "b = int(input(\"End of range: \"))\n",
    "a, b = (a, b) if a > b else (b, a)\n",
    "ans = 0\n",
    "for num in range(b, a + 1):\n",
    "    if num > 1:\n",
    "        is_prime = True\n",
    "        for i in range(2, int(num**0.5) + 1):\n",
    "            if num % i == 0:\n",
    "                is_prime = False\n",
    "                break\n",
    "        if is_prime:\n",
    "            ans += num\n",
    "print(f\"Sum of prime is between {b} and {a} is {ans}\")"
   ]
  },
  {
   "cell_type": "code",
   "execution_count": null,
   "metadata": {},
   "outputs": [
    {
     "name": "stdout",
     "output_type": "stream",
     "text": [
      "The roots are real and different:\n",
      "Root 1 = 1.0\n",
      "Root 2 = -1.0\n"
     ]
    }
   ],
   "source": [
    "# Index no.: 16\n",
    "# Local no.: 16\n",
    "\n",
    "import math\n",
    "\n",
    "a = float(input(\"Enter coefficient a: \"))\n",
    "b = float(input(\"Enter coefficient b: \"))\n",
    "c = float(input(\"Enter coefficient c: \"))\n",
    "\n",
    "D = b**2 - 4*a*c\n",
    "\n",
    "if D >= 0:\n",
    "    rootA = (-b + math.sqrt(D)) / (2*a)\n",
    "    rootB = (-b - math.sqrt(D)) / (2*a)\n",
    "\n",
    "    if D > 0:\n",
    "        print(f\"The roots are real and different:\\nRoot 1 = {rootA}\\nRoot 2 = {rootB}\")\n",
    "    else:\n",
    "        print(f\"The roots are real and the same:\\nRoot = {rootA}\")\n",
    "else:\n",
    "    print(\"No real roots\")"
   ]
  },
  {
   "cell_type": "markdown",
   "metadata": {},
   "source": [
    "## String Manipulation - Part 1"
   ]
  },
  {
   "cell_type": "code",
   "execution_count": null,
   "metadata": {},
   "outputs": [
    {
     "name": "stdout",
     "output_type": "stream",
     "text": [
      "number of times 'a' appears is 1\n"
     ]
    }
   ],
   "source": [
    "# Index no.: 17\n",
    "# Local no.: 1\n",
    "\n",
    "s = input(\">>> \")\n",
    "a = 0\n",
    "for i in s:\n",
    "    if i == 'a':\n",
    "        a += 1\n",
    "print(f\"i of times 'a' appears is {a}\")"
   ]
  },
  {
   "cell_type": "code",
   "execution_count": null,
   "metadata": {},
   "outputs": [
    {
     "name": "stdout",
     "output_type": "stream",
     "text": [
      "a\n",
      "bb\n",
      "ccc\n",
      "\n",
      "a\n",
      "ab\n",
      "abc\n",
      "\n",
      "abc\n",
      "ab\n",
      "a\n",
      "\n",
      "cba\n",
      "cb\n",
      "c\n",
      "\n",
      "a\n",
      "abab\n",
      "abcabcabc\n"
     ]
    }
   ],
   "source": [
    "# Index no.: 18\n",
    "# Local no.: 2\n",
    "\n",
    "s = input(\">>> \")\n",
    "\n",
    "# pattern 1\n",
    "for i in range(len(s)):\n",
    "    print(s[i] * (i+1))\n",
    "\n",
    "print()\n",
    "\n",
    "# pattern 2\n",
    "for i in range(len(s)):\n",
    "    print(s[:i+1])\n",
    "\n",
    "print()\n",
    "\n",
    "# pattern 3\n",
    "for i in range(len(s), 0, -1):\n",
    "    print(s[:i])\n",
    "\n",
    "print()\n",
    "\n",
    "# pattern 4\n",
    "for i in range(len(s), 0, -1):\n",
    "    print(s[::-1][:i])\n",
    "\n",
    "print()\n",
    "\n",
    "# pattern 5\n",
    "for i in range(1, len(s) + 1):\n",
    "    print(s[:i] * i)"
   ]
  },
  {
   "cell_type": "code",
   "execution_count": null,
   "metadata": {},
   "outputs": [
    {
     "name": "stdout",
     "output_type": "stream",
     "text": [
      "number of words in sentence: 6\n"
     ]
    }
   ],
   "source": [
    "# Index no.: 19\n",
    "# Local no.: 3\n",
    "\n",
    "w = input(\">>> \").split()\n",
    "print(f\"i of words in sentence: {len(w)}\")"
   ]
  },
  {
   "cell_type": "code",
   "execution_count": null,
   "metadata": {},
   "outputs": [
    {
     "name": "stdout",
     "output_type": "stream",
     "text": [
      "number of vowels in given input is 11\n"
     ]
    }
   ],
   "source": [
    "# Index no.: 20\n",
    "# Local no.: 4\n",
    "\n",
    "s = input(\">>> \")\n",
    "v = 0\n",
    "for i in s:\n",
    "    if i in \"AEIOUaeiou\":\n",
    "        v += 1\n",
    "print(f\"i of vowels in given input is {v}\")"
   ]
  },
  {
   "cell_type": "code",
   "execution_count": null,
   "metadata": {},
   "outputs": [
    {
     "name": "stdout",
     "output_type": "stream",
     "text": [
      "'mom' is a palindrome\n"
     ]
    }
   ],
   "source": [
    "# Index no.: 21\n",
    "# Local no.: 5\n",
    "\n",
    "s = input(\">>> \")\n",
    "if s == s[::-1]:\n",
    "    print(f\"'{s}' is a palindrome\")\n",
    "else:\n",
    "    print(f\"'{s}' is not a palindrome\")"
   ]
  },
  {
   "cell_type": "code",
   "execution_count": null,
   "metadata": {},
   "outputs": [
    {
     "name": "stdout",
     "output_type": "stream",
     "text": [
      "yes, word is in sentence\n"
     ]
    }
   ],
   "source": [
    "# Index no.: 22\n",
    "# Local no.: 6\n",
    "\n",
    "w = input(\"Enter word: \")\n",
    "s = input(\"Enter sentence: \")\n",
    "if w in s:\n",
    "    print(f\"yes, word is in sentence\")\n",
    "else:\n",
    "    print(f\"no, word is not in sentence\")"
   ]
  },
  {
   "cell_type": "code",
   "execution_count": null,
   "metadata": {},
   "outputs": [
    {
     "name": "stdout",
     "output_type": "stream",
     "text": [
      "The largest string is: asdfasdf\n"
     ]
    }
   ],
   "source": [
    "# Index no.: 23\n",
    "# Local no.: 7\n",
    "\n",
    "n = int(input(\"Enter n: \"))\n",
    "l = \"\"\n",
    "\n",
    "for i in range(n):\n",
    "    c = input(f\"{i+1}. \")\n",
    "    if len(c) > len(l):\n",
    "        l = c\n",
    "\n",
    "print(f\"The largest string is: {l}\")"
   ]
  },
  {
   "cell_type": "code",
   "execution_count": null,
   "metadata": {},
   "outputs": [
    {
     "name": "stdout",
     "output_type": "stream",
     "text": [
      "The shortest string is: j\n"
     ]
    }
   ],
   "source": [
    "# Index no.: 24\n",
    "# Local no.: 8\n",
    "\n",
    "n = int(input(\"Enter the number of strings: \"))\n",
    "s = None\n",
    "\n",
    "for i in range(n):\n",
    "    c = input(f\"{i+1}. \")\n",
    "    if s is None or len(c) < len(s):\n",
    "        s = c\n",
    "\n",
    "print(f\"The shortest string is: {s}\")"
   ]
  },
  {
   "cell_type": "markdown",
   "metadata": {},
   "source": [
    "## String Manipulation - Part 2"
   ]
  },
  {
   "cell_type": "code",
   "execution_count": null,
   "metadata": {},
   "outputs": [
    {
     "name": "stdout",
     "output_type": "stream",
     "text": [
      "alphabets - 24\n",
      "digits - 4\n",
      "special characters - 7\n"
     ]
    }
   ],
   "source": [
    "# Index no.: 25\n",
    "# Local no.: 1\n",
    "\n",
    "s = input(\">>> \")\n",
    "a, d, ob = 0, 0, 0\n",
    "for i in s:\n",
    "    if i in \"0123456789\":\n",
    "        d += 1\n",
    "    elif i in \"abcdefghijklmnopqrstuvwxyzABCDEFGHIJKLMNOPQRSTUVWXYZ\":\n",
    "        a += 1\n",
    "    else:\n",
    "        ob += 1\n",
    "\n",
    "print(f\"alphabets - {a}\\ndigits - {d}\\nspecial characters - {ob}\")"
   ]
  },
  {
   "cell_type": "code",
   "execution_count": null,
   "metadata": {},
   "outputs": [
    {
     "name": "stdout",
     "output_type": "stream",
     "text": [
      "output string: tHIs shOULd wORK INt hEORY\n"
     ]
    }
   ],
   "source": [
    "# Index no.: 26\n",
    "# Local no.: 2\n",
    "\n",
    "s = input(\">>> \")\n",
    "o = \"\"\n",
    "for i in s:\n",
    "    if \"a\" <= i <= \"z\":\n",
    "        o += chr(ord(i) - 32)\n",
    "    elif \"A\" <= i <= \"Z\":\n",
    "        o += chr(ord(i) + 32)\n",
    "    else:\n",
    "         o += i\n",
    "print(f\"output string: {o}\")"
   ]
  },
  {
   "cell_type": "code",
   "execution_count": null,
   "metadata": {},
   "outputs": [
    {
     "name": "stdout",
     "output_type": "stream",
     "text": [
      "output string: This Is Atest\n"
     ]
    }
   ],
   "source": [
    "# Index no.: 27\n",
    "# Local no.: 3\n",
    "\n",
    "s = input(\">>> \")\n",
    "o = chr(ord(s[0]) - 32)\n",
    "\n",
    "for i in range(1, len(s)):\n",
    "    if s[i] != \" \" and s[i-1] == \" \":\n",
    "        o += chr(ord(s[i]) - 32)\n",
    "    else:\n",
    "        o += s[i]\n",
    "\n",
    "print(f\"output string: {o}\")"
   ]
  },
  {
   "cell_type": "code",
   "execution_count": null,
   "metadata": {},
   "outputs": [
    {
     "name": "stdout",
     "output_type": "stream",
     "text": [
      "Extracted digits : 5 + 6 + 7 + 8\n",
      "Sum : 26\n"
     ]
    }
   ],
   "source": [
    "# Index no.: 28\n",
    "# Local no.: 4\n",
    "\n",
    "s = input(\">>> \")\n",
    "d = \"\"\n",
    "s_ = 0\n",
    "for i in s:\n",
    "    if i in \"0123456789\":\n",
    "        d += f\"{i} + \"\n",
    "        s_ += int(i)\n",
    "print(f\"Extracted digits : {d[:-3]}\\nSum : {s_}\")"
   ]
  },
  {
   "cell_type": "code",
   "execution_count": null,
   "metadata": {},
   "outputs": [
    {
     "name": "stdout",
     "output_type": "stream",
     "text": [
      "hello\n",
      "my\n",
      "name\n",
      "is\n",
      "star.stalker9160\n"
     ]
    }
   ],
   "source": [
    "# Index no.: 29\n",
    "# Local no.: 5\n",
    "\n",
    "s = input(\">>> \")\n",
    "for i in s.split():\n",
    "    print(i)"
   ]
  },
  {
   "cell_type": "code",
   "execution_count": null,
   "metadata": {},
   "outputs": [
    {
     "name": "stdout",
     "output_type": "stream",
     "text": [
      "number of times 'brother' appears is 3\n"
     ]
    }
   ],
   "source": [
    "# Index no.: 30\n",
    "# Local no.: 6\n",
    "\n",
    "t = input(\"Enter text: \")\n",
    "w = input(\"Enter word: \")\n",
    "c = 0\n",
    "\n",
    "for i in t.split():\n",
    "    if i == w:\n",
    "        c += 1\n",
    "\n",
    "\n",
    "print(f\"number of times '{w}' appears is {c}\")"
   ]
  },
  {
   "cell_type": "code",
   "execution_count": null,
   "metadata": {},
   "outputs": [
    {
     "name": "stdout",
     "output_type": "stream",
     "text": [
      "hello my name is abyaz\n"
     ]
    }
   ],
   "source": [
    "# Index no.: 31\n",
    "# Local no.: 7\n",
    "\n",
    "s = input(\">>> \").split()\n",
    "o = input(\"Pick word to replace: \")\n",
    "n = input(f\"Pick word to replace '{o}' with: \")\n",
    "\n",
    "o_ = \"\"\n",
    "for i in s:\n",
    "    if i == o:\n",
    "        o_ += f\"{n} \"\n",
    "    else:\n",
    "        o_ += f\"{i} \"\n",
    "\n",
    "print(o_[:-1])"
   ]
  },
  {
   "cell_type": "code",
   "execution_count": null,
   "metadata": {},
   "outputs": [
    {
     "name": "stdout",
     "output_type": "stream",
     "text": [
      "hello my name is abyaz\n"
     ]
    }
   ],
   "source": [
    "# Index no.: 32\n",
    "# Local no.: 8\n",
    "\n",
    "s = input(\">>> \").split()\n",
    "w = input(\"Pick word to replace: \")\n",
    "\n",
    "o_ = \"\"\n",
    "for i in s:\n",
    "    if i == w:\n",
    "        o_ += f\"{w[::-1]} \"\n",
    "    else:\n",
    "        o_ += f\"{i} \"\n",
    "\n",
    "print(o_[:-1])"
   ]
  },
  {
   "cell_type": "markdown",
   "metadata": {},
   "source": [
    "## Lists"
   ]
  },
  {
   "cell_type": "code",
   "execution_count": null,
   "metadata": {},
   "outputs": [
    {
     "name": "stdout",
     "output_type": "stream",
     "text": [
      "Sum of even: 6\n",
      "Sum of odd : 9\n"
     ]
    }
   ],
   "source": [
    "# Index no.: 33\n",
    "# Local no.: 1\n",
    "\n",
    "l = list(eval(input(\">>> \")))\n",
    "so, se = 0, 0\n",
    "for i in l:\n",
    "    if i % 2 == 0:\n",
    "        se += i\n",
    "    else:\n",
    "        so += i\n",
    "print(f\"Sum of even: {se}\\nSum of odd : {so}\")"
   ]
  },
  {
   "cell_type": "code",
   "execution_count": 2,
   "metadata": {},
   "outputs": [
    {
     "name": "stdout",
     "output_type": "stream",
     "text": [
      "element '3' found in list\n"
     ]
    }
   ],
   "source": [
    "l = list(eval(input(\">>> \")))\n",
    "c = input(\"Enter search term: \")\n",
    "for j in l:\n",
    "    if c == str(j):\n",
    "        print(f\"element '{c}' found in list\")\n",
    "        break\n",
    "else:\n",
    "    print(f\"element '{c}' not found in list\")"
   ]
  },
  {
   "cell_type": "code",
   "execution_count": 6,
   "metadata": {},
   "outputs": [
    {
     "name": "stdout",
     "output_type": "stream",
     "text": [
      "[6, 5, 4, 3, 2, 1]\n"
     ]
    }
   ],
   "source": [
    "l = list(eval(input(\">>> \")))\n",
    "\n",
    "left = 0\n",
    "right = len(l) - 1\n",
    "\n",
    "while left < right:\n",
    "    l[left], l[right] = l[right], l[left]\n",
    "    left += 1\n",
    "    right -= 1\n",
    "\n",
    "print(l)"
   ]
  },
  {
   "cell_type": "code",
   "execution_count": 39,
   "metadata": {},
   "outputs": [
    {
     "name": "stdout",
     "output_type": "stream",
     "text": [
      "[2, 1, 4, 3]\n"
     ]
    }
   ],
   "source": [
    "l = list(eval(input(\">>> \")))\n",
    "\n",
    "if len(l) % 2 != 0:\n",
    "    print(\"list has odd number of elements\")\n",
    "    l.append(eval(input(\"Please enter one more element: \")))\n",
    "\n",
    "for i in range(0, len(l) - 1, 2):\n",
    "    l[i], l[i + 1] = l[i + 1], l[i]\n",
    "\n",
    "print(l)"
   ]
  },
  {
   "cell_type": "code",
   "execution_count": 1,
   "metadata": {},
   "outputs": [
    {
     "name": "stdout",
     "output_type": "stream",
     "text": [
      "[4, 5, 3, 1, 2]\n"
     ]
    }
   ],
   "source": [
    "l = list(eval(input(\">>> \")))\n",
    "\n",
    "mid = len(l) // 2\n",
    "\n",
    "if len(l) % 2 == 0:\n",
    "    temp = l[:mid]\n",
    "    l[:mid] = l[mid:]\n",
    "    l[mid:] = temp\n",
    "else:\n",
    "    temp = l[:mid]\n",
    "    l[:mid] = l[mid + 1:]\n",
    "    l[mid + 1:] = temp\n",
    "\n",
    "print(l)"
   ]
  },
  {
   "cell_type": "code",
   "execution_count": 4,
   "metadata": {},
   "outputs": [
    {
     "name": "stdout",
     "output_type": "stream",
     "text": [
      "[1, 0, 1, 0, 1, 0]\n"
     ]
    }
   ],
   "source": [
    "l = list(eval(input(\">>> \")))\n",
    "o = []\n",
    "for i in l:\n",
    "    o.append(i % 2)\n",
    "print(o)"
   ]
  },
  {
   "cell_type": "code",
   "execution_count": 4,
   "metadata": {},
   "outputs": [
    {
     "name": "stdout",
     "output_type": "stream",
     "text": [
      "odd numbers : [1, 3, 5]\n",
      "even numbers: [2, 4, 6]\n"
     ]
    }
   ],
   "source": [
    "l = list(eval(input(\">>> \")))\n",
    "lo, le = [], []\n",
    "for i in l:\n",
    "    lo.append(i) if i % 2 != 0 else le.append(i)\n",
    "print(f\"odd numbers : {lo}\\neven numbers: {le}\")"
   ]
  },
  {
   "cell_type": "code",
   "execution_count": 7,
   "metadata": {},
   "outputs": [
    {
     "name": "stdout",
     "output_type": "stream",
     "text": [
      "list of primes: [2, 3, 5, 7]\n"
     ]
    }
   ],
   "source": [
    "import math\n",
    "l = list(eval(input(\">>> \")))\n",
    "p = []\n",
    "for n in l:\n",
    "    isPrime = True\n",
    "    if n == 1:\n",
    "        continue\n",
    "    elif n == 2:\n",
    "        p.append(2)\n",
    "    else:\n",
    "        for i in range(2, math.ceil(math.sqrt(n))+1):\n",
    "            if n % i == 0:\n",
    "                isPrime = False\n",
    "                break\n",
    "        p.append(n) if isPrime else ...\n",
    "print(f\"list of primes: {p}\")"
   ]
  },
  {
   "cell_type": "code",
   "execution_count": 4,
   "metadata": {},
   "outputs": [
    {
     "name": "stdout",
     "output_type": "stream",
     "text": [
      "list of perfect numbers: [1, 6]\n"
     ]
    }
   ],
   "source": [
    "l_ = list(eval(input(\">>> \")))\n",
    "p = []\n",
    "\n",
    "for n in l_:\n",
    "    l = 1\n",
    "    for i in range(2,n):\n",
    "        if n%i == 0:\n",
    "            l+=i\n",
    "    if l == n:\n",
    "        p.append(n)\n",
    "\n",
    "print(f\"list of perfect numbers: {p}\")"
   ]
  },
  {
   "cell_type": "code",
   "execution_count": 11,
   "metadata": {},
   "outputs": [
    {
     "name": "stdout",
     "output_type": "stream",
     "text": [
      "list of armstrong numbers: [1, 153]\n"
     ]
    }
   ],
   "source": [
    "l_ = list(eval(input(\">>> \")))\n",
    "a = []\n",
    "\n",
    "for n in l_:\n",
    "    n = str(n)\n",
    "    pow_ = len(n)\n",
    "    l = 0\n",
    "    for i in n:\n",
    "        l += int(i)**pow_\n",
    "    if l == int(n):\n",
    "        a.append(int(n))\n",
    "\n",
    "print(f\"list of armstrong numbers: {a}\")"
   ]
  },
  {
   "cell_type": "code",
   "execution_count": 12,
   "metadata": {},
   "outputs": [
    {
     "name": "stdout",
     "output_type": "stream",
     "text": [
      "[1, 2, 3, 4, 5, 6]\n"
     ]
    }
   ],
   "source": [
    "print(list(eval(input(\"list 1: \"))) + list(eval(input(\"list 2: \"))))"
   ]
  },
  {
   "cell_type": "code",
   "execution_count": 1,
   "metadata": {},
   "outputs": [
    {
     "name": "stdout",
     "output_type": "stream",
     "text": [
      "sorted list : [1, 2, 4, 4, 4, 23]\n"
     ]
    }
   ],
   "source": [
    "l = list(eval(input(\"list 1: \"))) + list(eval(input(\"list 2: \")))\n",
    "\n",
    "stack = [(0, len(l) - 1)]\n",
    "top = -1\n",
    "\n",
    "while top != -1 or not stack:\n",
    "    if top == -1:\n",
    "        start, end = stack[0]\n",
    "        top += 1\n",
    "    else:\n",
    "        start, end = stack[top]\n",
    "        top -= 1\n",
    "\n",
    "    if start < end:\n",
    "        pivot = l[end]\n",
    "        p_index = start\n",
    "\n",
    "        for i in range(start, end):\n",
    "            if l[i] < pivot:\n",
    "                l[i], l[p_index] = l[p_index], l[i]\n",
    "                p_index += 1\n",
    "\n",
    "        l[p_index], l[end] = l[end], l[p_index]\n",
    "\n",
    "        top += 1\n",
    "        stack.append((start, p_index - 1))\n",
    "\n",
    "        top += 1\n",
    "        stack.append((p_index + 1, end))\n",
    "\n",
    "print(f\"sorted list : {l}\")"
   ]
  },
  {
   "cell_type": "code",
   "execution_count": 40,
   "metadata": {},
   "outputs": [
    {
     "name": "stdout",
     "output_type": "stream",
     "text": [
      "First list: [1, 2, 3]\n",
      "Second list: [3, 2, 1]\n",
      "Combined list: [3, 3, 2, 2, 1, 1]\n"
     ]
    }
   ],
   "source": [
    "l1 = list(eval(input(\"list 1: \")))\n",
    "l2 = list(eval(input(\"list 2: \")))\n",
    "\n",
    "for i in range(len(l1)):\n",
    "    for j in range(i + 1, len(l1)):\n",
    "        if l1[i] > l1[j]:\n",
    "            l1[i], l1[j] = l1[j], l1[i]\n",
    "\n",
    "for i in range(len(l2)):\n",
    "    for j in range(i + 1, len(l2)):\n",
    "        if l2[i] < l2[j]:\n",
    "            l2[i], l2[j] = l2[j], l2[i]\n",
    "\n",
    "o = [0] * (len(l1) + len(l2))\n",
    "for i in range(len(l1)):\n",
    "    o[i] = l1[i]\n",
    "for j in range(len(l2)):\n",
    "    o[len(l1) + j] = l2[j]\n",
    "\n",
    "for i in range(len(o)):\n",
    "    for j in range(i + 1, len(o)):\n",
    "        if o[i] < o[j]:\n",
    "            o[i], o[j] = o[j], o[i]\n",
    "\n",
    "print(f\"First list: {l1}\")\n",
    "print(f\"Second list: {l2}\")\n",
    "print(f\"Combined list: {o}\")"
   ]
  },
  {
   "cell_type": "code",
   "execution_count": 6,
   "metadata": {},
   "outputs": [
    {
     "name": "stdout",
     "output_type": "stream",
     "text": [
      "[1, 3, 2, 2, 3, 6, 4, 3, 5, 5]\n"
     ]
    }
   ],
   "source": [
    "l1 = list(eval(input(\">>> \")))\n",
    "l2 = list(eval(input(\">>> \")))\n",
    "\n",
    "o = []\n",
    "if len(l1) < len(l2):\n",
    "    min_ = len(l1)\n",
    "else:\n",
    "    min_ = len(l2)\n",
    "\n",
    "for i in range(min_):\n",
    "    o.append(l1[i])\n",
    "    o.append(l2[i])\n",
    "\n",
    "for i in range(min_, len(l1)):\n",
    "    o.append(l1[i])\n",
    "\n",
    "for i in range(min_, len(l2)):\n",
    "    o.append(l2[i])\n",
    "\n",
    "print(o)"
   ]
  },
  {
   "cell_type": "code",
   "execution_count": 18,
   "metadata": {},
   "outputs": [
    {
     "name": "stdout",
     "output_type": "stream",
     "text": [
      "[1, 2, 3, 4, 5, 33]\n"
     ]
    }
   ],
   "source": [
    "l, o = [], []\n",
    "\n",
    "for i in range(int(input(\"Enter n: \"))):\n",
    "    l.append(int(input(f\"{i+1}. \")))\n",
    "\n",
    "L = int(input(\"Enter index where you want to add element: \"))\n",
    "\n",
    "o += l[:L] + list(eval(input(\"Enter n\")+\",\")) + l[L+1:]\n",
    "print(o)"
   ]
  },
  {
   "cell_type": "code",
   "execution_count": 19,
   "metadata": {},
   "outputs": [
    {
     "name": "stdout",
     "output_type": "stream",
     "text": [
      "[1, 2, 4, 5, 6, 7, 8, 9]\n"
     ]
    }
   ],
   "source": [
    "l = list(eval(input(\"enter list: \")))\n",
    "n = input(\"Enter number to remove: \")\n",
    "o = []\n",
    "\n",
    "for i in l:\n",
    "    if str(i) == n:\n",
    "        continue\n",
    "    o.append(i)\n",
    "\n",
    "print(o)"
   ]
  },
  {
   "cell_type": "code",
   "execution_count": 7,
   "metadata": {},
   "outputs": [
    {
     "name": "stdout",
     "output_type": "stream",
     "text": [
      "Matrix: \n",
      "[1, 2, 3]\n",
      "[4, 5, 6]\n",
      "[7, 8, 9]\n",
      "\n",
      "Sum of row 1: 6\n",
      "Sum of row 2: 15\n",
      "Sum of row 3: 24\n"
     ]
    }
   ],
   "source": [
    "m = int(input(\"m: \"))\n",
    "n = int(input(\"n: \"))\n",
    "M = []\n",
    "\n",
    "for i in range(m):\n",
    "    l_ = []\n",
    "    for j in range(n):\n",
    "        l_.append(int(input(\">>> \")))\n",
    "    M.append(l_)\n",
    "\n",
    "print(\"Matrix: \")\n",
    "for i in M:\n",
    "    print(i)\n",
    "print()\n",
    "\n",
    "for i, row in enumerate(M):\n",
    "    row_sum = sum(row)\n",
    "    print(f\"Sum of row {i + 1}: {row_sum}\")"
   ]
  },
  {
   "cell_type": "code",
   "execution_count": 6,
   "metadata": {},
   "outputs": [
    {
     "name": "stdout",
     "output_type": "stream",
     "text": [
      "Matrix: \n",
      "[1, 2, 3]\n",
      "[4, 5, 6]\n",
      "[7, 8, 9]\n",
      "\n",
      "Sum of col 1: 12\n",
      "Sum of col 2: 15\n",
      "Sum of col 3: 18\n"
     ]
    }
   ],
   "source": [
    "m = int(input(\"m: \"))\n",
    "n = int(input(\"n: \"))\n",
    "M = []\n",
    "\n",
    "for i in range(m):\n",
    "    l_ = []\n",
    "    for j in range(n):\n",
    "        l_.append(int(input(\">>> \")))\n",
    "    M.append(l_)\n",
    "\n",
    "print(\"Matrix: \")\n",
    "for i in M:\n",
    "    print(i)\n",
    "print()\n",
    "\n",
    "s = [0] * len(M[0])\n",
    "\n",
    "for row in M:\n",
    "    for j in range(len(row)):\n",
    "        s[j] += row[j]\n",
    "\n",
    "for index, total in enumerate(s):\n",
    "    print(f\"Sum of col {index + 1}: {total}\")"
   ]
  },
  {
   "cell_type": "code",
   "execution_count": 11,
   "metadata": {},
   "outputs": [
    {
     "name": "stdout",
     "output_type": "stream",
     "text": [
      "1     \n",
      "  5   \n",
      "    9 \n",
      "\n",
      "sum of above diagonal is: 15\n"
     ]
    }
   ],
   "source": [
    "m = int(input(\"m: \"))\n",
    "M = []\n",
    "\n",
    "for i in range(m):\n",
    "    l_ = []\n",
    "    for j in range(m):\n",
    "        l_.append(int(input(\">>> \")))\n",
    "    M.append(l_)\n",
    "\n",
    "s = 0\n",
    "\n",
    "for i in range(len(M)):\n",
    "    for j in range(len(M[i])):\n",
    "        if i == j:\n",
    "            print(f\"{M[i][j]} \", end=\"\")\n",
    "            s += M[i][j]\n",
    "        else:\n",
    "            print(\"  \", end=\"\")\n",
    "    print()\n",
    "\n",
    "print(f\"\\nsum of above diagonal is: {s}\")"
   ]
  },
  {
   "cell_type": "code",
   "execution_count": 1,
   "metadata": {},
   "outputs": [
    {
     "name": "stdout",
     "output_type": "stream",
     "text": [
      "1     \n",
      "4 5   \n",
      "7 8 9 \n"
     ]
    }
   ],
   "source": [
    "m = int(input(\"m: \"))\n",
    "M = []\n",
    "\n",
    "for i in range(m):\n",
    "    l_ = []\n",
    "    for j in range(m):\n",
    "        l_.append(int(input(\">>> \")))\n",
    "    M.append(l_)\n",
    "\n",
    "for i in range(m):\n",
    "    for j in range(m):\n",
    "        if i >= j:\n",
    "            print(M[i][j], end=\" \")\n",
    "        else:\n",
    "            print(\" \", end=\" \")\n",
    "    print()"
   ]
  },
  {
   "cell_type": "code",
   "execution_count": 5,
   "metadata": {},
   "outputs": [
    {
     "name": "stdout",
     "output_type": "stream",
     "text": [
      "[1, 4, 7]\n",
      "[2, 5, 8]\n",
      "[3, 6, 9]\n"
     ]
    }
   ],
   "source": [
    "m = int(input(\"m: \"))\n",
    "M = []\n",
    "\n",
    "for i in range(m):\n",
    "    l_ = []\n",
    "    for j in range(m):\n",
    "        l_.append(int(input(\">>> \")))\n",
    "    M.append(l_)\n",
    "\n",
    "T = [[0] * m for _ in range(m)]\n",
    "\n",
    "for i in range(m):\n",
    "    for j in range(m):\n",
    "        T[i][j] = M[j][i]\n",
    "\n",
    "for i in T:\n",
    "    print(i)"
   ]
  },
  {
   "cell_type": "code",
   "execution_count": 2,
   "metadata": {},
   "outputs": [
    {
     "name": "stdout",
     "output_type": "stream",
     "text": [
      "name 'eee' found\n"
     ]
    }
   ],
   "source": [
    "l = []\n",
    "\n",
    "for i in range(int(input(\"Enter n: \"))):\n",
    "    l.append(input(f\"{i+1}. \"))\n",
    "\n",
    "s = input(\"search term: \")\n",
    "\n",
    "for i in l:\n",
    "    if i == s:\n",
    "        print(f\"name '{s}' found\")\n",
    "        break\n",
    "else:\n",
    "    print(f\"name '{s}' not found\")"
   ]
  },
  {
   "cell_type": "code",
   "execution_count": null,
   "metadata": {},
   "outputs": [
    {
     "name": "stdout",
     "output_type": "stream",
     "text": [
      "\n",
      "Names starting with 'a' :\n",
      "aaa\n",
      "aaa\n"
     ]
    }
   ],
   "source": [
    "a = []\n",
    "\n",
    "for i in range(int(input(\"Enter n: \"))):\n",
    "    temp = input(f\"{i+1}. \")\n",
    "    a.append(temp) if temp[0] in \"Aa\" else ...\n",
    "\n",
    "print(\"\\nNames starting with 'a' :\")\n",
    "for i in a:\n",
    "    print(i)"
   ]
  },
  {
   "cell_type": "code",
   "execution_count": null,
   "metadata": {},
   "outputs": [],
   "source": [
    "o = []\n",
    "\n",
    "for i in range(int(input(\"Enter n: \"))):\n",
    "    temp = input(f\"{i+1}. \")\n",
    "    o.append(temp) if \"BbVv\" in temp else ...\n",
    "\n",
    "print(\"\\nNames containing either 'b' or 'v' :\")\n",
    "for i in o:\n",
    "    print(i)"
   ]
  },
  {
   "cell_type": "code",
   "execution_count": 10,
   "metadata": {},
   "outputs": [
    {
     "name": "stdout",
     "output_type": "stream",
     "text": [
      "no. of words starting with a are: 4\n"
     ]
    }
   ],
   "source": [
    "l = input(\">>> \").split()\n",
    "c = 0\n",
    "\n",
    "for i in l:\n",
    "    if i[0] in \"Aa\":\n",
    "        c += 1\n",
    "\n",
    "print(f\"no. of words starting with a are: {c}\")"
   ]
  },
  {
   "cell_type": "code",
   "execution_count": 1,
   "metadata": {},
   "outputs": [
    {
     "name": "stdout",
     "output_type": "stream",
     "text": [
      "mom\n",
      "dad\n"
     ]
    }
   ],
   "source": [
    "l = input(\">>> \").split()\n",
    "\n",
    "for i in l:\n",
    "    print(i) if i[::-1] == i else ..."
   ]
  },
  {
   "cell_type": "code",
   "execution_count": 14,
   "metadata": {},
   "outputs": [
    {
     "name": "stdout",
     "output_type": "stream",
     "text": [
      "New sentence: \n",
      "hii my name are star.stalker9160\n"
     ]
    }
   ],
   "source": [
    "l = input(\"enter sentence: \").split()\n",
    "o = input(\"pick word to replace: \")\n",
    "n = input(f\"pick word to replace '{o}' with: \")\n",
    "\n",
    "for i, v in enumerate(l):\n",
    "    if v == o:\n",
    "        l[i] = n\n",
    "\n",
    "print(\"New sentence: \")\n",
    "print(' '.join(l))"
   ]
  },
  {
   "cell_type": "code",
   "execution_count": null,
   "metadata": {},
   "outputs": [
    {
     "name": "stdout",
     "output_type": "stream",
     "text": [
      "\n",
      "                 o  o  O  O\n",
      "            ,_____  ____    O\n",
      "            | PMD \\_|[]|_'__Y\n",
      "            |_______|__|_|__|}\n",
      "=============oo--oo==oo--OOO\\\\====================\n",
      "\n",
      "Train 'asdf' with train no. 1 is traveling from Benares to Kolkata.\n",
      "Train 'abcd' with train no. 4 is traveling from Benares to Kolkata.\n",
      "\n",
      "\n",
      "\n",
      "Train table:\n",
      "\n",
      " train number   |  train name  |  starting point  |  ending point \n",
      "-----------------------------------------------------------------\n",
      "       1        |     asdf     |    trivandrum    |     mumbai    \n",
      "       2        |     fdsa     |     chennai      |    kolkata    \n",
      "       3        |     reee     |      kochi       |     mumbai    \n",
      "       4        |     abcd     |    trivandrum    |     mumbai    \n"
     ]
    }
   ],
   "source": [
    "trains = []\n",
    "\n",
    "print(r\"\"\"\n",
    "                 o  o  O  O\n",
    "            ,_____  ____    O\n",
    "            | PMD \\_|[]|_'__Y\n",
    "            |_______|__|_|__|}\n",
    "=============oo--oo==oo--OOO\\\\====================\n",
    "\"\"\")\n",
    "\n",
    "for i in range(int(input(\"enter n: \"))):\n",
    "    print(\"\\n\")\n",
    "    t = []\n",
    "    endPts = []\n",
    "    t.append(int(input(\"Train no: \")))\n",
    "    t.append(input(\"Train name: \"))\n",
    "    endPts.append(input(\"Start point: \"))\n",
    "    endPts.append(input(\"Destination: \"))\n",
    "    t.append(endPts)\n",
    "    trains.append(t)\n",
    "\n",
    "for i in trains:\n",
    "    if i[2] == [\"trivandrum\", \"mumbai\"]:\n",
    "        print(f\"Train '{i[1]}' with train no. {i[0]} is traveling from Benares to Kolkata.\")\n",
    "\n",
    "print(\"\\n\\n\")\n",
    "print(\"Train table:\\n\")\n",
    "print(f\"{'train number':^15} | {'train name':^12} | {'starting point':^16} | {'ending point':^14}\")\n",
    "print(\"-\" * 65)\n",
    "\n",
    "for i in trains:    \n",
    "    print(f\"{i[0]:^15} | {i[1]:^12} | {i[2][0]:^16} | {i[2][1]:^14}\")"
   ]
  },
  {
   "cell_type": "code",
   "execution_count": 25,
   "metadata": {},
   "outputs": [
    {
     "name": "stdout",
     "output_type": "stream",
     "text": [
      "\n",
      "pre-change employee table:\n",
      "\n",
      "  ecode    |      name       |   designation   |   salary  \n",
      "------------------------------------------------------------\n",
      "   101     |      asdf       |     manager     |  5000.00  \n",
      "   102     |      fdsa       |    developer    |  4500.00  \n",
      "   103     |      reee       |     analyst     |  4200.00  \n",
      "   104     |     nerd 5      |     manager     |  5500.00  \n",
      "   105     |    i hate qa    |     tester      |  3800.00  \n",
      "\n",
      "post-change employee table:\n",
      "\n",
      "  ecode    |      name       |   designation   |   salary  \n",
      "------------------------------------------------------------\n",
      "   101     |      asdf       |     manager     |  6000.00  \n",
      "   102     |      fdsa       |    developer    |  5000.00  \n",
      "   103     |      reee       |     analyst     |  4700.00  \n",
      "   104     |     nerd 5      |     manager     |  6500.00  \n",
      "   105     |    i hate qa    |     tester      |  4300.00  \n"
     ]
    }
   ],
   "source": [
    "employees = []\n",
    "\n",
    "for i in range(int(input(\"enter n: \"))):\n",
    "    print(\"\\n\")\n",
    "    e = []\n",
    "    e.append(int(input(\"ecode: \")))\n",
    "    e.append(input(\"name: \"))\n",
    "    e.append(input(\"designation: \"))\n",
    "    sal = float(input(\"salary: \"))\n",
    "    e.append(sal)\n",
    "    employees.append(e)\n",
    "\n",
    "print(\"\\npre-change employee table:\\n\")\n",
    "print(f\"{'ecode':^10} | {'name':^15} | {'designation':^15} | {'salary':^10}\")\n",
    "print(\"-\" * 60)\n",
    "\n",
    "for e in employees:\n",
    "    print(f\"{e[0]:^10} | {e[1]:^15} | {e[2]:^15} | {e[3]:^10.2f}\")\n",
    "\n",
    "for e in employees:\n",
    "    if e[2] == \"manager\":\n",
    "        e[3] += 1000\n",
    "    else:\n",
    "        e[3] += 500\n",
    "\n",
    "print(\"\\npost-change employee table:\\n\")\n",
    "print(f\"{'ecode':^10} | {'name':^15} | {'designation':^15} | {'salary':^10}\")\n",
    "print(\"-\" * 60)\n",
    "\n",
    "for e in employees:    \n",
    "    print(f\"{e[0]:^10} | {e[1]:^15} | {e[2]:^15} | {e[3]:^10.2f}\")"
   ]
  },
  {
   "cell_type": "code",
   "execution_count": 9,
   "metadata": {},
   "outputs": [
    {
     "name": "stdout",
     "output_type": "stream",
     "text": [
      "     name       |  theory marks   |  practical marks  | total marks \n",
      "-----------------------------------------------------------------\n",
      "      ree       |       78        |        85         |     163     \n",
      "    nerd 2      |       100       |        100        |     200     \n",
      "    dumbass     |       61        |        54         |     115     \n",
      "     fdsa       |       75        |        85         |     160     \n",
      "\n",
      "\n",
      "the student with the highest marks is: nerd 2 with 200 marks.\n"
     ]
    }
   ],
   "source": [
    "students = []\n",
    "\n",
    "for i in range(int(input(\"enter n: \"))):\n",
    "    print(\"\\n\")\n",
    "    s = []\n",
    "    s.append(input(\"name: \"))\n",
    "    theory = int(input(\"theory marks: \"))\n",
    "    practical = int(input(\"practical marks: \"))\n",
    "    s.append(theory)\n",
    "    s.append(practical)\n",
    "    totalMarks = theory + practical\n",
    "    s.append(totalMarks)\n",
    "    students.append(s)\n",
    "\n",
    "for s in students:\n",
    "    totalMarks = s[1] + s[2]\n",
    "    s.append(totalMarks)\n",
    "\n",
    "print(f\"{'name':^15} | {'theory marks':^15} | {'practical marks':^17} | {'total marks':^12}\")\n",
    "print(\"-\" * 65)\n",
    "for s in students:\n",
    "    print(f\"{s[0]:^15} | {s[1]:^15} | {s[2]:^17} | {s[3]:^12}\")\n",
    "\n",
    "nerd = students[0]\n",
    "for s in students:\n",
    "    if s[3] > nerd[3]:\n",
    "        nerd = s\n",
    "\n",
    "print(\"\\n\")\n",
    "print(f\"the student with the highest marks is: {nerd[0]} with {nerd[3]} marks.\")"
   ]
  },
  {
   "cell_type": "code",
   "execution_count": null,
   "metadata": {},
   "outputs": [
    {
     "name": "stdout",
     "output_type": "stream",
     "text": [
      "\n",
      "sorted student table:\n",
      "\n",
      "     name       |  theory marks   |  practical marks \n",
      "--------------------------------------------------\n",
      "     asdf       |       75        |        80        \n",
      "     fdsa       |       85        |        90        \n",
      "      ree       |       95        |        88        \n"
     ]
    }
   ],
   "source": [
    "students = []\n",
    "\n",
    "for i in range(len(students)):\n",
    "    minIndex = i\n",
    "    for j in range(i + 1, len(students)):\n",
    "        if students[j][0] < students[minIndex][0]:\n",
    "            minIndex = j\n",
    "    students[i], students[minIndex] = students[minIndex], students[i]\n",
    "\n",
    "print(\"\\nsorted student table:\\n\")\n",
    "print(f\"{'name':^15} | {'theory marks':^15} | {'practical marks':^17}\")\n",
    "print(\"-\" * 50)\n",
    "for s in students:\n",
    "    print(f\"{s[0]:^15} | {s[1]:^15} | {s[2]:^17}\")"
   ]
  },
  {
   "cell_type": "code",
   "execution_count": null,
   "metadata": {},
   "outputs": [
    {
     "name": "stdout",
     "output_type": "stream",
     "text": [
      "\n",
      "\t#--------rEee------------#\n",
      "\t| 1. add item            |\n",
      "\t| 2. print item details  |\n",
      "\t| 3. print all items     |\n",
      "\t| 4. print out of stock  |\n",
      "\t| 5. add stock           |\n",
      "\t| 6. delete item         |\n",
      "\t| 7. sort items          |\n",
      "\t| 8. exit                |\n",
      "\t#------------------------#\n",
      "\n",
      "\tall items\n",
      "   item code    |    item name    |   price    |  quantity \n",
      "------------------------------------------------------------\n",
      "\texiting\n"
     ]
    }
   ],
   "source": [
    "i = []\n",
    "\n",
    "print(\"\\n\\t#--------rEee------------#\")\n",
    "print(\"\\t| 1. add i            |\")\n",
    "print(\"\\t| 2. print i details  |\")\n",
    "print(\"\\t| 3. print all is     |\")\n",
    "print(\"\\t| 4. print out of stock  |\")\n",
    "print(\"\\t| 5. add stock           |\")\n",
    "print(\"\\t| 6. delete i         |\")\n",
    "print(\"\\t| 7. sort is          |\")\n",
    "print(\"\\t| 8. exit                |\")\n",
    "print(\"\\t#------------------------#\")\n",
    "\n",
    "while True:\n",
    "    c = int(input(\"\\t>>> \"))\n",
    "    \n",
    "    if c == 1:\n",
    "        a = input(\"\\n\\tenter i code: \")\n",
    "        b = input(\"\\tenter i name: \")\n",
    "        p = float(input(\"\\tenter price: \"))\n",
    "        q = int(input(\"\\tenter quantity: \"))\n",
    "        i.append([a, b, p, q])\n",
    "        \n",
    "    elif c == 2:\n",
    "        k = input(\"\\n\\tenter i code to find: \")\n",
    "        f = 0\n",
    "        for t in i:\n",
    "            if t[0] == k:\n",
    "                print(f\"\\ti code {t[0]} name {t[1]} price {t[2]} quantity {t[3]}\")\n",
    "                f = 1\n",
    "        if f == 0:\n",
    "            print(\"\\ti not found\")\n",
    "\n",
    "\n",
    "    elif c == 3:\n",
    "        print(\"\\n\\tall is\")\n",
    "        print(f\"{'i code':^15} | {'i name':^15} | {'price':^10} | {'quantity':^10}\")\n",
    "        print(\"-\" * 60)\n",
    "        for t in i:\n",
    "            print(f\"{t[0]:^15} | {t[1]:^15} | {t[2]:^10} | {t[3]:^10}\")\n",
    "\n",
    "\n",
    "    elif c == 4:\n",
    "        print(\"\\n\\tout of stock is\")\n",
    "        print(f\"{'i code':^15} | {'i name':^15} | {'price':^10} | {'quantity':^10}\")\n",
    "        print(\"-\" * 60)\n",
    "        for t in i:\n",
    "            if t[3] == 0:\n",
    "                print(f\"{t[0]:^15} | {t[1]:^15} | {t[2]:^10} | {t[3]:^10}\")\n",
    "\n",
    "\n",
    "    elif c == 5:\n",
    "        k = input(\"\\n\\tenter i code to add stock: \")\n",
    "        f = 0\n",
    "        for t in i:\n",
    "            if t[0] == k:\n",
    "                a = int(input(\"\\tenter quantity to add: \"))\n",
    "                t[3] += a\n",
    "                f = 1\n",
    "                print(\"\\tstock updated\")\n",
    "        if f == 0:\n",
    "            print(\"\\ti not found\")\n",
    "\n",
    "\n",
    "    elif c == 6:\n",
    "        k = input(\"\\n\\tenter i code to delete: \")\n",
    "        d = -1\n",
    "        for j in range(len(i)):\n",
    "            if i[j][0] == k:\n",
    "                d = j\n",
    "                break\n",
    "        if d != -1:\n",
    "            for j in range(d, len(i) - 1):\n",
    "                i[j] = i[j + 1]\n",
    "            i.pop()  \n",
    "            print(\"\\ti deleted\")\n",
    "        else:\n",
    "            print(\"\\ti not found\")\n",
    "\n",
    "\n",
    "    elif c == 7:\n",
    "        for j in range(len(i)):\n",
    "            for m in range(j + 1, len(i)):\n",
    "                if i[j][1] > i[m][1]:\n",
    "                    i[j], i[m] = i[m], i[j]\n",
    "        print(\"\\tis sorted by name\")\n",
    "\n",
    "\n",
    "    elif c == 8:\n",
    "        break\n",
    "        \n",
    "    else:\n",
    "        print(\"\\tinvalid input please try again\")\n"
   ]
  },
  {
   "cell_type": "code",
   "execution_count": 30,
   "metadata": {},
   "outputs": [
    {
     "name": "stdout",
     "output_type": "stream",
     "text": [
      "you are how hello\n"
     ]
    }
   ],
   "source": [
    "print(\" \".join(input(\">>> \").split()[::-1]))"
   ]
  },
  {
   "cell_type": "code",
   "execution_count": 31,
   "metadata": {},
   "outputs": [
    {
     "name": "stdout",
     "output_type": "stream",
     "text": [
      "[20, 33, -10, -44]\n"
     ]
    }
   ],
   "source": [
    "l = list(eval(input(\">>> \")))\n",
    "p, n = [], []\n",
    "\n",
    "for i in l:\n",
    "    n.append(i) if i < 0 else p.append(i)\n",
    "\n",
    "print(p + n)"
   ]
  },
  {
   "cell_type": "code",
   "execution_count": 34,
   "metadata": {},
   "outputs": [
    {
     "name": "stdout",
     "output_type": "stream",
     "text": [
      "Largest number: 9\n",
      "Second largest number: 8\n"
     ]
    }
   ],
   "source": [
    "l = []\n",
    "\n",
    "for i in range(int(input(\"Enter n: \"))):\n",
    "    l.append(int(input(f\"{i+1}. \")))\n",
    "\n",
    "largest = second_largest = float('-inf')\n",
    "\n",
    "for i in range(len(l)):\n",
    "    if l[i] > largest:\n",
    "        second_largest = largest\n",
    "        largest = l[i]\n",
    "    elif l[i] > second_largest and l[i] != largest:\n",
    "        second_largest = l[i]\n",
    "\n",
    "if second_largest == float('-inf'):\n",
    "    print(\"There is no second largest number.\")\n",
    "else:\n",
    "    print(f\"Largest number: {largest}\")\n",
    "    print(f\"Second largest number: {second_largest}\")"
   ]
  },
  {
   "cell_type": "markdown",
   "metadata": {},
   "source": [
    "## Tuples"
   ]
  },
  {
   "cell_type": "code",
   "execution_count": null,
   "metadata": {},
   "outputs": [
    {
     "name": "stdout",
     "output_type": "stream",
     "text": [
      "odd numbers : (1, 3, 5, 7, 9)\n",
      "even numbers: (2, 4, 6, 8)\n"
     ]
    }
   ],
   "source": [
    "# Index no.: 68\n",
    "# Local no.: 1\n",
    "\n",
    "o, e = (), ()\n",
    "for i in eval(input(\">>> \")):\n",
    "    if i % 2 == 0:\n",
    "        e += (i,)\n",
    "    else:\n",
    "        o += (i,)\n",
    "print(f\"odd numbers : {o}\\neven numbers: {e}\")"
   ]
  },
  {
   "cell_type": "code",
   "execution_count": null,
   "metadata": {},
   "outputs": [
    {
     "name": "stdout",
     "output_type": "stream",
     "text": [
      "largest : 9\n",
      "smallest: 1\n"
     ]
    }
   ],
   "source": [
    "# Index no.: 69\n",
    "# Local no.: 2\n",
    "\n",
    "s, l = None, 0\n",
    "for i in eval(input(\">>> \")):\n",
    "    if i > l:\n",
    "        l = i\n",
    "    if s == None or i < s:\n",
    "        s = i\n",
    "print(f\"largest : {l}\\nsmallest: {s}\")"
   ]
  },
  {
   "cell_type": "code",
   "execution_count": null,
   "metadata": {},
   "outputs": [
    {
     "name": "stdout",
     "output_type": "stream",
     "text": [
      "Names with 5 letters\n",
      "abyaz\n",
      "zayba\n",
      "abbas\n"
     ]
    }
   ],
   "source": [
    "# Index no.: 70\n",
    "# Local no.: 3\n",
    "\n",
    "t = eval(input(\">>> \"))\n",
    "print(\"Names with 5 letters\")\n",
    "for i in t:\n",
    "    if len(i) == 5:\n",
    "        print(i)"
   ]
  },
  {
   "cell_type": "code",
   "execution_count": null,
   "metadata": {},
   "outputs": [
    {
     "name": "stdout",
     "output_type": "stream",
     "text": [
      "Largest elements of entered tuples: (3, 8)\n"
     ]
    }
   ],
   "source": [
    "# Index no.: 71\n",
    "# Local no.: 4\n",
    "\n",
    "T = ()\n",
    "for i in eval(input(\">>> \")):\n",
    "    l = 0\n",
    "    for j in i:\n",
    "        l = j if j > l else ...\n",
    "    T += (l,)\n",
    "print(f\"largest elements of entered tuples: {T}\")"
   ]
  },
  {
   "cell_type": "code",
   "execution_count": null,
   "metadata": {},
   "outputs": [
    {
     "name": "stdout",
     "output_type": "stream",
     "text": [
      "sub tuple lengths: (1, 3)\n"
     ]
    }
   ],
   "source": [
    "# Index no.: 72\n",
    "# Local no.: 5\n",
    "\n",
    "T = ()\n",
    "for i in eval(input(\">>> \")):\n",
    "    T += (len(i),)\n",
    "print(f\"sub tuple lengths: {T}\")"
   ]
  },
  {
   "cell_type": "code",
   "execution_count": null,
   "metadata": {},
   "outputs": [
    {
     "name": "stdout",
     "output_type": "stream",
     "text": [
      "student table: \n",
      "\n",
      "     name       | total marks \n",
      "---------------------------\n",
      "     asdf       |      8      \n",
      "    nerd 7      |     200     \n"
     ]
    }
   ],
   "source": [
    "# Index no.: 73\n",
    "# Local no.: 6\n",
    "\n",
    "t = eval(input(\">>> \"))\n",
    "print(\"student table: \\n\")\n",
    "print(f\"{'name':^15} | {'total marks':^15}\")\n",
    "print(\"-\"*30)\n",
    "for i in t:\n",
    "    print(f\"{i[0]:^15} | {(i[1]+i[2]):^15}\")"
   ]
  },
  {
   "cell_type": "code",
   "execution_count": null,
   "metadata": {},
   "outputs": [
    {
     "name": "stdout",
     "output_type": "stream",
     "text": [
      "student with highest marks is asdf with marks 74\n"
     ]
    }
   ],
   "source": [
    "# Index no.: 74\n",
    "# Local no.: 7\n",
    "\n",
    "dude = None\n",
    "m = 0\n",
    "for i in eval(input(\">>> \")):\n",
    "    if (i[1]+i[2]) > m:\n",
    "        m = i[1]+i[2]\n",
    "        dude = i[0]\n",
    "print(f\"student with highest marks is {dude} with marks {m}\")"
   ]
  },
  {
   "cell_type": "code",
   "execution_count": null,
   "metadata": {},
   "outputs": [
    {
     "name": "stdout",
     "output_type": "stream",
     "text": [
      "number of times kerala appears is 2\n"
     ]
    }
   ],
   "source": [
    "# Index no.: 75\n",
    "# Local no.: 8\n",
    "\n",
    "K = 0\n",
    "for i in eval(input(\">>> \")):\n",
    "    if \"kerala\" in i:\n",
    "        for j in i:\n",
    "            K += 1 if j == \"kerala\" else ...\n",
    "print(f\"number of times kerala appears is {K}\")"
   ]
  },
  {
   "cell_type": "code",
   "execution_count": null,
   "metadata": {},
   "outputs": [
    {
     "name": "stdout",
     "output_type": "stream",
     "text": [
      "(['asdf', 1, 2], ['fdsa', 8, 9], ['nerd 413', 100, 100, 100])\n"
     ]
    }
   ],
   "source": [
    "# Index no.: 76\n",
    "# Local no.: 9\n",
    "\n",
    "t = eval(input(\">>> \"))\n",
    "n = input(\"name: \")\n",
    "m = int(input(\"mark: \"))\n",
    "o = ()\n",
    "\n",
    "for i in t:\n",
    "    if i[0] == n: i.append(m)\n",
    "    o += (i,)\n",
    "\n",
    "print(o)"
   ]
  },
  {
   "cell_type": "code",
   "execution_count": null,
   "metadata": {},
   "outputs": [
    {
     "name": "stdout",
     "output_type": "stream",
     "text": [
      "tuple with reversed values: ('31', '12')\n"
     ]
    }
   ],
   "source": [
    "# Index no.: 77\n",
    "# Local no.: 10\n",
    "\n",
    "o = ()\n",
    "for i in eval(input(\">>> \")):\n",
    "    o += (str(i)[::-1],)\n",
    "print(f\"tuple with reversed values: {o}\")"
   ]
  },
  {
   "cell_type": "code",
   "execution_count": null,
   "metadata": {},
   "outputs": [
    {
     "name": "stdout",
     "output_type": "stream",
     "text": [
      "tuple of sums: (3, 4)\n"
     ]
    }
   ],
   "source": [
    "# Index no.: 78\n",
    "# Local no.: 11\n",
    "\n",
    "o = ()\n",
    "for i in eval(input(\">>> \")):\n",
    "    s = 0\n",
    "    for j in str(i): s += int(j)\n",
    "    o += (s,)\n",
    "print(f\"tuple of sums: {o}\")"
   ]
  },
  {
   "cell_type": "code",
   "execution_count": null,
   "metadata": {},
   "outputs": [
    {
     "name": "stdout",
     "output_type": "stream",
     "text": [
      "tuple of usernames: ('asdf', 'fdsa')\n",
      "tuple of domains: ('fdsa.com', 'asdf.com')\n"
     ]
    }
   ],
   "source": [
    "# Index no.: 79\n",
    "# Local no.: 12\n",
    "\n",
    "l = []\n",
    "\n",
    "u, d = (), ()\n",
    "\n",
    "for i in range(int(input(\"enter n: \"))):\n",
    "    l.append(input(f\"{i+1}. \"))\n",
    "\n",
    "for i in l:\n",
    "    u += (i.split(\"@\")[0],)\n",
    "    d += (i.split(\"@\")[1],)\n",
    "\n",
    "print(f\"tuple of usernames: {u}\\ntuple of domains: {d}\")"
   ]
  },
  {
   "cell_type": "code",
   "execution_count": null,
   "metadata": {},
   "outputs": [
    {
     "name": "stdout",
     "output_type": "stream",
     "text": [
      "(0, 1, 1, 2, 3)\n"
     ]
    }
   ],
   "source": [
    "# Index no.: 80\n",
    "# Local no.: 13\n",
    "\n",
    "a, b, c = 0, 1, 0\n",
    "t = (0,)\n",
    "for i in range(0, int(input(\"How long the sequence should be: \"))-1):\n",
    "    a, b = b, c\n",
    "    c = a+b\n",
    "    t += (c,)\n",
    "print(t)"
   ]
  },
  {
   "cell_type": "code",
   "execution_count": null,
   "metadata": {},
   "outputs": [
    {
     "name": "stdout",
     "output_type": "stream",
     "text": [
      "number of even pairs: 2\n"
     ]
    }
   ],
   "source": [
    "# Index no.: 81\n",
    "# Local no.: 14\n",
    "\n",
    "c = 0\n",
    "\n",
    "for i in ((1,2), (2,2), (4,4)):\n",
    "    if (i[0] % 2 == 0) and (i[1] % 2 == 0):\n",
    "        c += 1\n",
    "\n",
    "print(f\"number of even pairs: {c}\")"
   ]
  },
  {
   "cell_type": "code",
   "execution_count": null,
   "metadata": {},
   "outputs": [
    {
     "name": "stdout",
     "output_type": "stream",
     "text": [
      "mode: 3\n"
     ]
    }
   ],
   "source": [
    "# Index no.: 82\n",
    "# Local no.: 15\n",
    "\n",
    "T = eval(input(\">>> \"))\n",
    "\n",
    "M, C = None, 0\n",
    "\n",
    "for i in T:\n",
    "    c = 0\n",
    "    for j in T:\n",
    "        if i == j: c += 1\n",
    "    if c > C:\n",
    "        M = i\n",
    "        C = c\n",
    "\n",
    "print(f\"mode: {M}\")"
   ]
  },
  {
   "cell_type": "code",
   "execution_count": null,
   "metadata": {},
   "outputs": [
    {
     "name": "stdout",
     "output_type": "stream",
     "text": [
      "sum of alternate elements is : 18\n"
     ]
    }
   ],
   "source": [
    "# Index no.: 83\n",
    "# Local no.: 16\n",
    "\n",
    "t = ()\n",
    "s = 0\n",
    "\n",
    "for i in eval(input(\">>> \")):\n",
    "    for j in i: t += (j,)\n",
    "\n",
    "for i in range(0, len(t), 2):\n",
    "    s += t[i]\n",
    "\n",
    "print(f\"sum of alternate elements is : {s}\")"
   ]
  },
  {
   "cell_type": "code",
   "execution_count": null,
   "metadata": {},
   "outputs": [
    {
     "name": "stdout",
     "output_type": "stream",
     "text": [
      "max elements is repeated\n"
     ]
    }
   ],
   "source": [
    "# Index no.: 84\n",
    "# Local no.: 17\n",
    "\n",
    "t = eval(input(\">>> \"))\n",
    "l = float('-inf')\n",
    "\n",
    "for i in t: \n",
    "    if i > l: l = i\n",
    "\n",
    "c = 0\n",
    "for i in t:\n",
    "    if i == l: c += 1\n",
    "    if c > 1:\n",
    "        print(\"max elements is repeated\")\n",
    "        break\n",
    "else:\n",
    "    print(\"max element is not repeated\")"
   ]
  },
  {
   "cell_type": "code",
   "execution_count": null,
   "metadata": {},
   "outputs": [
    {
     "name": "stdout",
     "output_type": "stream",
     "text": [
      "least element is in the middle\n"
     ]
    }
   ],
   "source": [
    "# Index no.: 85\n",
    "# Local no.: 18\n",
    "\n",
    "s = float('+inf')\n",
    "\n",
    "for i in eval(input(\">>> \")):\n",
    "    if i < s: s = i\n",
    "\n",
    "print(\"least element is in the middle\") if t[int(len(t)/2)] == s else print (\"least element is in the middle\")"
   ]
  },
  {
   "cell_type": "code",
   "execution_count": null,
   "metadata": {},
   "outputs": [
    {
     "name": "stdout",
     "output_type": "stream",
     "text": [
      "tuple is not sorted\n"
     ]
    }
   ],
   "source": [
    "# Index no.: 86\n",
    "# Local no.: 19\n",
    "\n",
    "t = eval(input(\">>> \"))\n",
    "k, l = list(t), list(t)\n",
    "l.sort()\n",
    "\n",
    "print(\"tuple is sorted\") if k == l else print(\"tuple is not sorted\")"
   ]
  }
 ],
 "metadata": {
  "kernelspec": {
   "display_name": "Python 3",
   "language": "python",
   "name": "python3"
  },
  "language_info": {
   "codemirror_mode": {
    "name": "ipython",
    "version": 3
   },
   "file_extension": ".py",
   "mimetype": "text/x-python",
   "name": "python",
   "nbconvert_exporter": "python",
   "pygments_lexer": "ipython3",
   "version": "3.13.0"
  }
 },
 "nbformat": 4,
 "nbformat_minor": 2
}
